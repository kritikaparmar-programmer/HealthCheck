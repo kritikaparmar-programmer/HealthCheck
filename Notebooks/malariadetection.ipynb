{
 "cells": [
  {
   "cell_type": "markdown",
   "metadata": {},
   "source": [
    "# MALARIA DETECTION"
   ]
  },
  {
   "cell_type": "markdown",
   "metadata": {},
   "source": [
    "### Lets take a look at how we are gonna make our model \n",
    "\n",
    "#### Step 1:  Loading and Splitting of the Dataset\n",
    "\n",
    "- The first step is to load the data and scaling the images to binary 0 and 1 from Parasitized and Uninfected.\n",
    "- Then we will resize the images to 50 x 50 \n",
    "- After that suffling of the images before train-test-split and converting the images to a single numpy array\n",
    "- Splitting the data \n",
    "- Converting the type of X_train and X_valid to float32\n",
    "- Add then One Hot Encoding on y\n",
    "\n",
    "\n",
    "#### Step 2:  Building the CNN model\n",
    "- The CNN model is one of the efficient nueral networks for images and performing classifications. We will use tf.keras to build the CNN model.\n",
    "- We will build a Sequential CNN model.\n",
    "- We will build a CNN Layer followed by MaxPooling layer which is later followed by BatchNormalisation to normalize the previous layer's output and implement the Dropout regularization. After that we will use Flatten to the outputs. Then the last layer that has function Softmax is the output layer.\n",
    "- Finally we have to compile the CNN model. We will use optimizer called Adam then will apply the loss function as categorical_crossentropy and an evaluation metric as accuracy.\n",
    "- Next step is to use the fit function, to train our convolutional neural network (CNN) with X_train and y_train. Lets set the total amounts of epochs as 25 epochs, which is essentially 25 cycles or iterations of the full dataset including a batch size of 120.\n",
    "\n",
    "####  Step 3 : Predictions and Testing of the Model\n",
    "- After this we will predict and do evaluation on the builded model. \n",
    "- The last step will be to test our model on the HOLDOUT DATASET and making predictions."
   ]
  },
  {
   "cell_type": "markdown",
   "metadata": {},
   "source": [
    "### Importing Libraries"
   ]
  },
  {
   "cell_type": "code",
   "execution_count": null,
   "metadata": {},
   "outputs": [],
   "source": [
    "# importing the libraries for loading data and visualisation\n",
    "import os\n",
    "import cv2\n",
    "import pandas as pd\n",
    "import numpy as np\n",
    "import matplotlib.pyplot as plt\n",
    "%matplotlib inline \n",
    "from PIL import Image\n",
    "import seaborn as sns\n",
    "\n",
    "# import for train-test-split\n",
    "from sklearn.model_selection import train_test_split\n",
    "\n",
    "# import for One Hot Encoding\n",
    "from keras.utils import to_categorical\n",
    "\n",
    "# importing libraries for Model\n",
    "import tensorflow as tf\n",
    "from tensorflow import keras\n",
    "from tensorflow.keras.models import Sequential\n",
    "from tensorflow.keras.layers import Conv2D, MaxPooling2D\n",
    "from tensorflow.keras.layers import Dense, Flatten, Dropout, BatchNormalization\n",
    "\n",
    "# importing libraries for evaluating the model\n",
    "from sklearn.metrics import accuracy_score\n",
    "from sklearn.metrics import confusion_matrix"
   ]
  },
  {
   "cell_type": "markdown",
   "metadata": {},
   "source": [
    "## Loading Data and Train-Test-Split "
   ]
  },
  {
   "cell_type": "code",
   "execution_count": 2,
   "metadata": {},
   "outputs": [
    {
     "name": "stdout",
     "output_type": "stream",
     "text": [
      "Cells : (27558, 50, 50, 3) and labels : (27558,)\n"
     ]
    }
   ],
   "source": [
    "# loading the data of images and setting their labels\n",
    "data = []\n",
    "labels = []\n",
    "\n",
    "Parasitized = os.listdir(\"input/cell_images/train/Parasitized/\")\n",
    "\n",
    "for a in Parasitized:\n",
    "    \n",
    "    try:\n",
    "        image = cv2.imread(\"input/cell_images/train/Parasitized/\" + a)\n",
    "        image_from_array = Image.fromarray(image, 'RGB')\n",
    "        size_image = image_from_array.resize((50, 50))\n",
    "        data.append(np.array(size_image))\n",
    "        labels.append(0)\n",
    "    \n",
    "    except AttributeError:\n",
    "        print(\"Error0\")\n",
    "\n",
    "Uninfected = os.listdir(\"input/cell_images/train/Uninfected/\")\n",
    "\n",
    "for b in Uninfected:\n",
    "\n",
    "    try:\n",
    "        image = cv2.imread(\"input/cell_images/train/Uninfected/\" + b)\n",
    "        image_from_array = Image.fromarray(image, 'RGB')\n",
    "        size_image = image_from_array.resize((50, 50))\n",
    "        data.append(np.array(size_image))\n",
    "        labels.append(1)\n",
    "    \n",
    "    except AttributeError:\n",
    "        print(\"Error1\")\n",
    "\n",
    "# Creating single numpy array of all the images and labels\n",
    "data = np.array(data)\n",
    "labels = np.array(labels)\n",
    "\n",
    "print('Cells : {} and labels : {}'.format(data.shape , labels.shape))\n",
    "\n",
    "# lets shuffle the data and labels before splitting them into training and testing sets\n",
    "n = np.arange(data.shape[0])\n",
    "np.random.shuffle(n)\n",
    "data = data[n]\n",
    "labels = labels[n]"
   ]
  },
  {
   "cell_type": "code",
   "execution_count": 3,
   "metadata": {},
   "outputs": [
    {
     "name": "stdout",
     "output_type": "stream",
     "text": [
      "Train data shape (22046, 50, 50, 3) ,Test data shape (5512, 50, 50, 3) \n"
     ]
    }
   ],
   "source": [
    "### Splitting the dataset into the Training set and Test set\n",
    "\n",
    "X_train, X_valid, y_train, y_valid = train_test_split(data, labels, test_size = 0.2, random_state = 0)\n",
    "\n",
    "print('Train data shape {} ,Test data shape {} '.format(X_train.shape, X_valid.shape))"
   ]
  },
  {
   "cell_type": "code",
   "execution_count": 4,
   "metadata": {},
   "outputs": [],
   "source": [
    "X_train = X_train.astype('float32')  \n",
    "X_valid = X_valid.astype('float32')"
   ]
  },
  {
   "cell_type": "code",
   "execution_count": 5,
   "metadata": {},
   "outputs": [],
   "source": [
    "# One Hot Encoding \n",
    "y_train = to_categorical(y_train)\n",
    "y_valid = to_categorical(y_valid)"
   ]
  },
  {
   "cell_type": "code",
   "execution_count": null,
   "metadata": {},
   "outputs": [],
   "source": [
    "y_train"
   ]
  },
  {
   "cell_type": "markdown",
   "metadata": {},
   "source": [
    "## Building Model"
   ]
  },
  {
   "cell_type": "code",
   "execution_count": 6,
   "metadata": {},
   "outputs": [],
   "source": [
    "# Defining Model\n",
    "classifier = Sequential()\n",
    "\n",
    "# CNN layers\n",
    "classifier.add(Conv2D(32, kernel_size=(3, 3), input_shape = (50, 50, 3), activation = 'relu'))\n",
    "classifier.add(MaxPooling2D(pool_size = (2, 2)))\n",
    "classifier.add(BatchNormalization(axis = -1))\n",
    "classifier.add(Dropout(0.5))   # Dropout prevents overfitting\n",
    "\n",
    "classifier.add(Conv2D(32, kernel_size=(3, 3), input_shape = (50, 50, 3), activation = 'relu'))\n",
    "classifier.add(MaxPooling2D(pool_size = (2, 2)))\n",
    "classifier.add(BatchNormalization(axis = -1))\n",
    "classifier.add(Dropout(0.5))\n",
    "\n",
    "classifier.add(Flatten())\n",
    "\n",
    "classifier.add(Dense(units=128, activation='relu'))\n",
    "classifier.add(BatchNormalization(axis = -1))\n",
    "classifier.add(Dropout(0.5))\n",
    "\n",
    "classifier.add(Dense(units=2, activation='softmax')) "
   ]
  },
  {
   "cell_type": "code",
   "execution_count": 7,
   "metadata": {},
   "outputs": [],
   "source": [
    "classifier.compile(optimizer = 'adam', loss = 'categorical_crossentropy', metrics = ['accuracy'])"
   ]
  },
  {
   "cell_type": "code",
   "execution_count": 8,
   "metadata": {},
   "outputs": [
    {
     "name": "stdout",
     "output_type": "stream",
     "text": [
      "Epoch 1/15\n",
      "184/184 [==============================] - 52s 279ms/step - loss: 1.0050 - accuracy: 0.5873 - val_loss: 1.5677 - val_accuracy: 0.5073\n",
      "Epoch 2/15\n",
      "184/184 [==============================] - 52s 280ms/step - loss: 0.6220 - accuracy: 0.6772 - val_loss: 1.6807 - val_accuracy: 0.4985\n",
      "Epoch 3/15\n",
      "184/184 [==============================] - 51s 279ms/step - loss: 0.4930 - accuracy: 0.7628 - val_loss: 3.6013 - val_accuracy: 0.5060\n",
      "Epoch 4/15\n",
      "184/184 [==============================] - 55s 297ms/step - loss: 0.4056 - accuracy: 0.8119 - val_loss: 0.8884 - val_accuracy: 0.6433\n",
      "Epoch 5/15\n",
      "184/184 [==============================] - 53s 288ms/step - loss: 0.3229 - accuracy: 0.8642 - val_loss: 0.8181 - val_accuracy: 0.5063\n",
      "Epoch 6/15\n",
      "184/184 [==============================] - 54s 295ms/step - loss: 0.2471 - accuracy: 0.9019 - val_loss: 0.2960 - val_accuracy: 0.8828\n",
      "Epoch 7/15\n",
      "184/184 [==============================] - 61s 330ms/step - loss: 0.2216 - accuracy: 0.9127 - val_loss: 0.9174 - val_accuracy: 0.5022\n",
      "Epoch 8/15\n",
      "184/184 [==============================] - 55s 301ms/step - loss: 0.2086 - accuracy: 0.9204 - val_loss: 0.2462 - val_accuracy: 0.9225\n",
      "Epoch 9/15\n",
      "184/184 [==============================] - 57s 312ms/step - loss: 0.1965 - accuracy: 0.9277 - val_loss: 0.2385 - val_accuracy: 0.9175\n",
      "Epoch 10/15\n",
      "184/184 [==============================] - 59s 321ms/step - loss: 0.1877 - accuracy: 0.9292 - val_loss: 0.2637 - val_accuracy: 0.9093\n",
      "Epoch 11/15\n",
      "184/184 [==============================] - 56s 304ms/step - loss: 0.1884 - accuracy: 0.9263 - val_loss: 0.3125 - val_accuracy: 0.8959\n",
      "Epoch 12/15\n",
      "184/184 [==============================] - 59s 322ms/step - loss: 0.1779 - accuracy: 0.9327 - val_loss: 0.1471 - val_accuracy: 0.9458\n",
      "Epoch 13/15\n",
      "184/184 [==============================] - 61s 329ms/step - loss: 0.1774 - accuracy: 0.9322 - val_loss: 0.1746 - val_accuracy: 0.9439\n",
      "Epoch 14/15\n",
      "184/184 [==============================] - 54s 293ms/step - loss: 0.1653 - accuracy: 0.9395 - val_loss: 0.9004 - val_accuracy: 0.8006\n",
      "Epoch 15/15\n",
      "184/184 [==============================] - 53s 287ms/step - loss: 0.1719 - accuracy: 0.9375 - val_loss: 0.1355 - val_accuracy: 0.9494\n"
     ]
    }
   ],
   "source": [
    "history = classifier.fit(X_train, y_train, batch_size=120, epochs=15, verbose=1, validation_data=(X_valid, y_valid))"
   ]
  },
  {
   "cell_type": "code",
   "execution_count": 9,
   "metadata": {},
   "outputs": [
    {
     "name": "stdout",
     "output_type": "stream",
     "text": [
      "173/173 [==============================] - 4s 21ms/step - loss: 0.1355 - accuracy: 0.9494\n",
      "Test_Accuracy: 94.94%\n"
     ]
    }
   ],
   "source": [
    "print(\"Test_Accuracy: {:.2f}%\".format(classifier.evaluate(X_valid, y_valid)[1]*100))"
   ]
  },
  {
   "cell_type": "markdown",
   "metadata": {},
   "source": [
    "-  Summary of the Model"
   ]
  },
  {
   "cell_type": "code",
   "execution_count": 10,
   "metadata": {},
   "outputs": [
    {
     "name": "stdout",
     "output_type": "stream",
     "text": [
      "Model: \"sequential\"\n",
      "_________________________________________________________________\n",
      "Layer (type)                 Output Shape              Param #   \n",
      "=================================================================\n",
      "conv2d (Conv2D)              (None, 48, 48, 32)        896       \n",
      "_________________________________________________________________\n",
      "max_pooling2d (MaxPooling2D) (None, 24, 24, 32)        0         \n",
      "_________________________________________________________________\n",
      "batch_normalization (BatchNo (None, 24, 24, 32)        128       \n",
      "_________________________________________________________________\n",
      "dropout (Dropout)            (None, 24, 24, 32)        0         \n",
      "_________________________________________________________________\n",
      "conv2d_1 (Conv2D)            (None, 22, 22, 32)        9248      \n",
      "_________________________________________________________________\n",
      "max_pooling2d_1 (MaxPooling2 (None, 11, 11, 32)        0         \n",
      "_________________________________________________________________\n",
      "batch_normalization_1 (Batch (None, 11, 11, 32)        128       \n",
      "_________________________________________________________________\n",
      "dropout_1 (Dropout)          (None, 11, 11, 32)        0         \n",
      "_________________________________________________________________\n",
      "flatten (Flatten)            (None, 3872)              0         \n",
      "_________________________________________________________________\n",
      "dense (Dense)                (None, 128)               495744    \n",
      "_________________________________________________________________\n",
      "batch_normalization_2 (Batch (None, 128)               512       \n",
      "_________________________________________________________________\n",
      "dropout_2 (Dropout)          (None, 128)               0         \n",
      "_________________________________________________________________\n",
      "dense_1 (Dense)              (None, 2)                 258       \n",
      "=================================================================\n",
      "Total params: 506,914\n",
      "Trainable params: 506,530\n",
      "Non-trainable params: 384\n",
      "_________________________________________________________________\n"
     ]
    }
   ],
   "source": [
    "classifier.summary()"
   ]
  },
  {
   "cell_type": "code",
   "execution_count": 11,
   "metadata": {},
   "outputs": [
    {
     "data": {
      "image/png": "[encoded data removed]",
      "text/plain": [
       "<Figure size 432x288 with 1 Axes>"
      ]
     },
     "metadata": {
      "needs_background": "light"
     },
     "output_type": "display_data"
    }
   ],
   "source": [
    "loss_train = history.history['loss']\n",
    "loss_val = history.history['val_loss']\n",
    "epochs = range(1,16)\n",
    "plt.plot(epochs, loss_train, 'g', label='Training loss')\n",
    "plt.plot(epochs, loss_val, 'b', label='validation loss')\n",
    "plt.title('Training and Validation loss')\n",
    "plt.xlabel('Epochs')\n",
    "plt.ylabel('Loss')\n",
    "plt.legend()\n",
    "plt.show()"
   ]
  },
  {
   "cell_type": "code",
   "execution_count": 12,
   "metadata": {},
   "outputs": [
    {
     "data": {
      "image/png": "[encoded data removed]",
      "text/plain": [
       "<Figure size 432x288 with 1 Axes>"
      ]
     },
     "metadata": {
      "needs_background": "light"
     },
     "output_type": "display_data"
    }
   ],
   "source": [
    "loss_train = history.history['accuracy']\n",
    "loss_val = history.history['val_accuracy']\n",
    "epochs = range(1,16)\n",
    "plt.plot(epochs, loss_train, 'g', label='Training accuracy')\n",
    "plt.plot(epochs, loss_val, 'b', label='validation accuracy')\n",
    "plt.title('Training and Validation accuracy')\n",
    "plt.xlabel('Epochs')\n",
    "plt.ylabel('Accuracy')\n",
    "plt.legend()\n",
    "plt.show()"
   ]
  },
  {
   "cell_type": "markdown",
   "metadata": {},
   "source": [
    "## Prediction, Evaluation and Testing of the Model"
   ]
  },
  {
   "cell_type": "markdown",
   "metadata": {},
   "source": [
    "- Lets do our first prediction using predict and predict X_valid and store in y_pred variable"
   ]
  },
  {
   "cell_type": "code",
   "execution_count": 13,
   "metadata": {},
   "outputs": [],
   "source": [
    "y_pred = classifier.predict(X_valid)"
   ]
  },
  {
   "cell_type": "code",
   "execution_count": 14,
   "metadata": {},
   "outputs": [],
   "source": [
    "# Convert back to categorical values \n",
    "y_pred = np.argmax(y_pred, axis=1)\n",
    "y_valid = np.argmax(y_valid, axis=1)"
   ]
  },
  {
   "cell_type": "code",
   "execution_count": 15,
   "metadata": {},
   "outputs": [
    {
     "name": "stdout",
     "output_type": "stream",
     "text": [
      "Accuracy Score:  0.9493831640058055\n"
     ]
    }
   ],
   "source": [
    "print('Accuracy Score: ', accuracy_score(y_valid, y_pred))"
   ]
  },
  {
   "cell_type": "markdown",
   "metadata": {},
   "source": [
    "- Evaluation of the CNN model by Plotting Confusion Matrix "
   ]
  },
  {
   "cell_type": "code",
   "execution_count": 16,
   "metadata": {},
   "outputs": [
    {
     "data": {
      "text/plain": [
       "<AxesSubplot:>"
      ]
     },
     "execution_count": 16,
     "metadata": {},
     "output_type": "execute_result"
    },
    {
     "data": {
      "image/png": "[encoded data removed]",
      "text/plain": [
       "<Figure size 432x288 with 2 Axes>"
      ]
     },
     "metadata": {
      "needs_background": "light"
     },
     "output_type": "display_data"
    }
   ],
   "source": [
    "# Plotting the Confusion Matrix\n",
    "conf = confusion_matrix(y_valid, y_pred)\n",
    "sns.heatmap(conf, annot=True)"
   ]
  },
  {
   "cell_type": "code",
   "execution_count": null,
   "metadata": {},
   "outputs": [],
   "source": [
    "classifier.save(\"malaria-model.h5\")"
   ]
  }
 ],
 "metadata": {
  "kernelspec": {
   "display_name": "Python 3",
   "language": "python",
   "name": "python3"
  },
  "language_info": {
   "codemirror_mode": {
    "name": "ipython",
    "version": 3
   },
   "file_extension": ".py",
   "mimetype": "text/x-python",
   "name": "python",
   "nbconvert_exporter": "python",
   "pygments_lexer": "ipython3",
   "version": "3.6.9"
  }
 },
 "nbformat": 4,
 "nbformat_minor": 4
}
