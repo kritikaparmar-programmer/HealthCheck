{
  "nbformat": 4,
  "nbformat_minor": 0,
  "metadata": {
    "colab": {
      "name": "Untitled9.ipynb",
      "provenance": []
    },
    "kernelspec": {
      "name": "python3",
      "display_name": "Python 3"
    },
    "language_info": {
      "name": "python"
    }
  },
  "cells": [
    {
      "cell_type": "code",
      "metadata": {
        "colab": {
          "base_uri": "https://localhost:8080/"
        },
        "id": "J9dl6BEDU_Ys",
        "outputId": "b127f274-2229-489d-d4ee-13873329469d"
      },
      "source": [
        "from google.colab import drive\n",
        "drive.mount('/content/drive')"
      ],
      "execution_count": 2,
      "outputs": [
        {
          "output_type": "stream",
          "text": [
            "Go to this URL in a browser: https://accounts.google.com/o/oauth2/auth?client_id=947318989803-6bn6qk8qdgf4n4g3pfee6491hc0brc4i.apps.googleusercontent.com&redirect_uri=urn%3aietf%3awg%3aoauth%3a2.0%3aoob&scope=email%20https%3a%2f%2fwww.googleapis.com%2fauth%2fdocs.test%20https%3a%2f%2fwww.googleapis.com%2fauth%2fdrive%20https%3a%2f%2fwww.googleapis.com%2fauth%2fdrive.photos.readonly%20https%3a%2f%2fwww.googleapis.com%2fauth%2fpeopleapi.readonly%20https%3a%2f%2fwww.googleapis.com%2fauth%2fdrive.activity.readonly%20https%3a%2f%2fwww.googleapis.com%2fauth%2fexperimentsandconfigs%20https%3a%2f%2fwww.googleapis.com%2fauth%2fphotos.native&response_type=code\n",
            "\n",
            "Enter your authorization code:\n",
            "4/1AY0e-g70ylYKYRtqQGxurkNdAolJHfOVtnsAXuwKPkZEwbtWqyoIeCKbjIs\n",
            "Mounted at /content/drive\n"
          ],
          "name": "stdout"
        }
      ]
    },
    {
      "cell_type": "markdown",
      "metadata": {
        "id": "AYKTJkRBRNpZ"
      },
      "source": [
        "**Diagnosing Hypothyroid disease using Deep Learning**\n",
        "\n",
        "Hypothyroid disease or Hypothyroidism is one of the most difficult diseases to diagnose. It is a condition which causes your thyroid gland to not produce enough of certain crucial hormones. It usually may not cause noticeable symptoms in the early stages and hence becomes extremely difficult to diagnose. Applying deep learning algorithms can help assist healthcare workers in identifying signs and symptoms based on patterns shown in past cases of patients' data.\n"
      ]
    },
    {
      "cell_type": "code",
      "metadata": {
        "id": "UrfQa5jhrpZn"
      },
      "source": [
        "import numpy as np # linear algebra\n",
        "import pandas as pd # data processing, CSV file I/O (e.g. pd.read_csv)\n",
        "import pickle # For saving models\n",
        "import matplotlib.pyplot as plt # For plotting figures\n",
        "from sklearn.metrics import confusion_matrix, f1_score, precision_score, recall_score\n",
        "\n",
        "# For building our model\n",
        "import keras\n",
        "from keras.models import Sequential\n",
        "from keras.layers import Dense"
      ],
      "execution_count": 1,
      "outputs": []
    },
    {
      "cell_type": "markdown",
      "metadata": {
        "id": "VgmDaCL_SfQM"
      },
      "source": [
        "**Data**\n",
        "\n",
        "The dataset contains the value of different hormone levels of different patients along with our target variable, i.e., if the patient was suffering from hypothyroidism or not.\n"
      ]
    },
    {
      "cell_type": "code",
      "metadata": {
        "colab": {
          "base_uri": "https://localhost:8080/",
          "height": 232
        },
        "id": "6KnA0FedSYBd",
        "outputId": "b6fa3247-880c-4475-d8e3-4c7bcffd286a"
      },
      "source": [
        "# Load dataset from csv using pandas\n",
        "dataset = pd.read_csv('/content/drive/MyDrive/hypothyroid.csv')\n",
        "dataset.head()"
      ],
      "execution_count": 3,
      "outputs": [
        {
          "output_type": "execute_result",
          "data": {
            "text/html": [
              "<div>\n",
              "<style scoped>\n",
              "    .dataframe tbody tr th:only-of-type {\n",
              "        vertical-align: middle;\n",
              "    }\n",
              "\n",
              "    .dataframe tbody tr th {\n",
              "        vertical-align: top;\n",
              "    }\n",
              "\n",
              "    .dataframe thead th {\n",
              "        text-align: right;\n",
              "    }\n",
              "</style>\n",
              "<table border=\"1\" class=\"dataframe\">\n",
              "  <thead>\n",
              "    <tr style=\"text-align: right;\">\n",
              "      <th></th>\n",
              "      <th>Unnamed: 0</th>\n",
              "      <th>Age</th>\n",
              "      <th>Sex</th>\n",
              "      <th>on_thyroxine</th>\n",
              "      <th>query_on_thyroxine</th>\n",
              "      <th>on_antithyroid_medication</th>\n",
              "      <th>thyroid_surgery</th>\n",
              "      <th>query_hypothyroid</th>\n",
              "      <th>query_hyperthyroid</th>\n",
              "      <th>pregnant</th>\n",
              "      <th>sick</th>\n",
              "      <th>tumor</th>\n",
              "      <th>lithium</th>\n",
              "      <th>goitre</th>\n",
              "      <th>TSH_measured</th>\n",
              "      <th>TSH</th>\n",
              "      <th>T3_measured</th>\n",
              "      <th>T3</th>\n",
              "      <th>TT4_measured</th>\n",
              "      <th>TT4</th>\n",
              "      <th>T4U_measured</th>\n",
              "      <th>T4U</th>\n",
              "      <th>FTI_measured</th>\n",
              "      <th>FTI</th>\n",
              "      <th>TBG_measured</th>\n",
              "      <th>TBG</th>\n",
              "    </tr>\n",
              "  </thead>\n",
              "  <tbody>\n",
              "    <tr>\n",
              "      <th>0</th>\n",
              "      <td>hypothyroid</td>\n",
              "      <td>72</td>\n",
              "      <td>M</td>\n",
              "      <td>f</td>\n",
              "      <td>f</td>\n",
              "      <td>f</td>\n",
              "      <td>f</td>\n",
              "      <td>f</td>\n",
              "      <td>f</td>\n",
              "      <td>f</td>\n",
              "      <td>f</td>\n",
              "      <td>f</td>\n",
              "      <td>f</td>\n",
              "      <td>f</td>\n",
              "      <td>y</td>\n",
              "      <td>30</td>\n",
              "      <td>y</td>\n",
              "      <td>0.6</td>\n",
              "      <td>y</td>\n",
              "      <td>15</td>\n",
              "      <td>y</td>\n",
              "      <td>1.48</td>\n",
              "      <td>y</td>\n",
              "      <td>10</td>\n",
              "      <td>n</td>\n",
              "      <td>?</td>\n",
              "    </tr>\n",
              "    <tr>\n",
              "      <th>1</th>\n",
              "      <td>hypothyroid</td>\n",
              "      <td>15</td>\n",
              "      <td>F</td>\n",
              "      <td>t</td>\n",
              "      <td>f</td>\n",
              "      <td>f</td>\n",
              "      <td>f</td>\n",
              "      <td>f</td>\n",
              "      <td>f</td>\n",
              "      <td>f</td>\n",
              "      <td>f</td>\n",
              "      <td>f</td>\n",
              "      <td>f</td>\n",
              "      <td>f</td>\n",
              "      <td>y</td>\n",
              "      <td>145</td>\n",
              "      <td>y</td>\n",
              "      <td>1.7</td>\n",
              "      <td>y</td>\n",
              "      <td>19</td>\n",
              "      <td>y</td>\n",
              "      <td>1.13</td>\n",
              "      <td>y</td>\n",
              "      <td>17</td>\n",
              "      <td>n</td>\n",
              "      <td>?</td>\n",
              "    </tr>\n",
              "    <tr>\n",
              "      <th>2</th>\n",
              "      <td>hypothyroid</td>\n",
              "      <td>24</td>\n",
              "      <td>M</td>\n",
              "      <td>f</td>\n",
              "      <td>f</td>\n",
              "      <td>f</td>\n",
              "      <td>f</td>\n",
              "      <td>f</td>\n",
              "      <td>f</td>\n",
              "      <td>f</td>\n",
              "      <td>f</td>\n",
              "      <td>f</td>\n",
              "      <td>f</td>\n",
              "      <td>f</td>\n",
              "      <td>y</td>\n",
              "      <td>0</td>\n",
              "      <td>y</td>\n",
              "      <td>0.2</td>\n",
              "      <td>y</td>\n",
              "      <td>4</td>\n",
              "      <td>y</td>\n",
              "      <td>1</td>\n",
              "      <td>y</td>\n",
              "      <td>0</td>\n",
              "      <td>n</td>\n",
              "      <td>?</td>\n",
              "    </tr>\n",
              "    <tr>\n",
              "      <th>3</th>\n",
              "      <td>hypothyroid</td>\n",
              "      <td>24</td>\n",
              "      <td>F</td>\n",
              "      <td>f</td>\n",
              "      <td>f</td>\n",
              "      <td>f</td>\n",
              "      <td>f</td>\n",
              "      <td>f</td>\n",
              "      <td>f</td>\n",
              "      <td>f</td>\n",
              "      <td>f</td>\n",
              "      <td>f</td>\n",
              "      <td>f</td>\n",
              "      <td>f</td>\n",
              "      <td>y</td>\n",
              "      <td>430</td>\n",
              "      <td>y</td>\n",
              "      <td>0.4</td>\n",
              "      <td>y</td>\n",
              "      <td>6</td>\n",
              "      <td>y</td>\n",
              "      <td>1.04</td>\n",
              "      <td>y</td>\n",
              "      <td>6</td>\n",
              "      <td>n</td>\n",
              "      <td>?</td>\n",
              "    </tr>\n",
              "    <tr>\n",
              "      <th>4</th>\n",
              "      <td>hypothyroid</td>\n",
              "      <td>77</td>\n",
              "      <td>M</td>\n",
              "      <td>f</td>\n",
              "      <td>f</td>\n",
              "      <td>f</td>\n",
              "      <td>f</td>\n",
              "      <td>f</td>\n",
              "      <td>f</td>\n",
              "      <td>f</td>\n",
              "      <td>f</td>\n",
              "      <td>f</td>\n",
              "      <td>f</td>\n",
              "      <td>f</td>\n",
              "      <td>y</td>\n",
              "      <td>7.3</td>\n",
              "      <td>y</td>\n",
              "      <td>1.2</td>\n",
              "      <td>y</td>\n",
              "      <td>57</td>\n",
              "      <td>y</td>\n",
              "      <td>1.28</td>\n",
              "      <td>y</td>\n",
              "      <td>44</td>\n",
              "      <td>n</td>\n",
              "      <td>?</td>\n",
              "    </tr>\n",
              "  </tbody>\n",
              "</table>\n",
              "</div>"
            ],
            "text/plain": [
              "    Unnamed: 0 Age Sex on_thyroxine  ... FTI_measured FTI TBG_measured TBG\n",
              "0  hypothyroid  72   M            f  ...            y  10            n   ?\n",
              "1  hypothyroid  15   F            t  ...            y  17            n   ?\n",
              "2  hypothyroid  24   M            f  ...            y   0            n   ?\n",
              "3  hypothyroid  24   F            f  ...            y   6            n   ?\n",
              "4  hypothyroid  77   M            f  ...            y  44            n   ?\n",
              "\n",
              "[5 rows x 26 columns]"
            ]
          },
          "metadata": {
            "tags": []
          },
          "execution_count": 3
        }
      ]
    },
    {
      "cell_type": "markdown",
      "metadata": {
        "id": "aBKP4DhrWOoZ"
      },
      "source": [
        "**Data Cleaning**\n",
        "\n"
      ]
    },
    {
      "cell_type": "code",
      "metadata": {
        "id": "BLyXpyOVSvvo"
      },
      "source": [
        "# Renaming the first column as target\n",
        "dataset = dataset.rename(columns = {dataset.columns[0]:\"target\"})\n"
      ],
      "execution_count": 4,
      "outputs": []
    },
    {
      "cell_type": "code",
      "metadata": {
        "colab": {
          "base_uri": "https://localhost:8080/"
        },
        "id": "dNPzGbmFU6AC",
        "outputId": "732f7ef8-3568-4767-879f-8956bd1a5150"
      },
      "source": [
        "# Check the count of data in target\n",
        "dataset[\"target\"].value_counts()"
      ],
      "execution_count": 5,
      "outputs": [
        {
          "output_type": "execute_result",
          "data": {
            "text/plain": [
              "negative       3012\n",
              "hypothyroid     151\n",
              "Name: target, dtype: int64"
            ]
          },
          "metadata": {
            "tags": []
          },
          "execution_count": 5
        }
      ]
    },
    {
      "cell_type": "markdown",
      "metadata": {
        "id": "RB4S3-4bWo-8"
      },
      "source": [
        "The value 'hypothyroid' means that the patient was diagnosed with hypothyroidism and ''negative'' means that there hypothyroidism was not diagnosed. We will be mapping the value ''hypothyroid'' as '1' and ''negative'' as '0'."
      ]
    },
    {
      "cell_type": "code",
      "metadata": {
        "id": "9AIwRGPBWoxb"
      },
      "source": [
        "dataset[\"target\"] = dataset[\"target\"].map({\"negative\":0,\"hypothyroid\":1})"
      ],
      "execution_count": 6,
      "outputs": []
    },
    {
      "cell_type": "code",
      "metadata": {
        "colab": {
          "base_uri": "https://localhost:8080/"
        },
        "id": "e92WZ6jNWnyl",
        "outputId": "b7ba209b-420d-4be8-ca6e-e12603037352"
      },
      "source": [
        "print(\"Unique categories in the column 'pregnant'\", dataset['pregnant'].unique())\n",
        "print(\"Count of categories in the column 'pregnant' \\n\", dataset[\"pregnant\"].value_counts())"
      ],
      "execution_count": 7,
      "outputs": [
        {
          "output_type": "stream",
          "text": [
            "Unique categories in the column 'pregnant' ['f' 't']\n",
            "Count of categories in the column 'pregnant' \n",
            " f    3100\n",
            "t      63\n",
            "Name: pregnant, dtype: int64\n"
          ],
          "name": "stdout"
        }
      ]
    },
    {
      "cell_type": "code",
      "metadata": {
        "colab": {
          "base_uri": "https://localhost:8080/"
        },
        "id": "ZatA5MHYU7Sj",
        "outputId": "1793d553-6f8f-48ca-81a0-b1527904e6f5"
      },
      "source": [
        "print(\"Unique categories in the column 'T3 measured'\", dataset['T3_measured'].unique())\n",
        "print(\"Count of categories in the column 'T3 measured' \\n\", dataset[\"T3_measured\"].value_counts())"
      ],
      "execution_count": 8,
      "outputs": [
        {
          "output_type": "stream",
          "text": [
            "Unique categories in the column 'T3 measured' ['y' 'n']\n",
            "Count of categories in the column 'T3 measured' \n",
            " y    2468\n",
            "n     695\n",
            "Name: T3_measured, dtype: int64\n"
          ],
          "name": "stdout"
        }
      ]
    },
    {
      "cell_type": "code",
      "metadata": {
        "colab": {
          "base_uri": "https://localhost:8080/"
        },
        "id": "Kx-n4jWOW9g0",
        "outputId": "f4efd91f-1265-4a4c-b56d-2c6dc0f4a418"
      },
      "source": [
        "print(\"Unique categories in the column 'Sex'\", dataset['Sex'].unique())\n",
        "print(\"Count of categories in the column 'Sex' \\n\", dataset[\"Sex\"].value_counts())"
      ],
      "execution_count": 9,
      "outputs": [
        {
          "output_type": "stream",
          "text": [
            "Unique categories in the column 'Sex' ['M' 'F' '?']\n",
            "Count of categories in the column 'Sex' \n",
            " F    2182\n",
            "M     908\n",
            "?      73\n",
            "Name: Sex, dtype: int64\n"
          ],
          "name": "stdout"
        }
      ]
    },
    {
      "cell_type": "code",
      "metadata": {
        "colab": {
          "base_uri": "https://localhost:8080/",
          "height": 215
        },
        "id": "6utobRh1XB4i",
        "outputId": "855bb30d-2cb8-42cd-c4ce-21db5d9011ab"
      },
      "source": [
        "# Replacing the categorical values into binary values\n",
        "dataset = dataset.replace({'f':0,'t':1, 'y':1, 'n':0, 'M':0, 'F':1})\n",
        "# Displaying the head of the dataset\n",
        "dataset.head()"
      ],
      "execution_count": 10,
      "outputs": [
        {
          "output_type": "execute_result",
          "data": {
            "text/html": [
              "<div>\n",
              "<style scoped>\n",
              "    .dataframe tbody tr th:only-of-type {\n",
              "        vertical-align: middle;\n",
              "    }\n",
              "\n",
              "    .dataframe tbody tr th {\n",
              "        vertical-align: top;\n",
              "    }\n",
              "\n",
              "    .dataframe thead th {\n",
              "        text-align: right;\n",
              "    }\n",
              "</style>\n",
              "<table border=\"1\" class=\"dataframe\">\n",
              "  <thead>\n",
              "    <tr style=\"text-align: right;\">\n",
              "      <th></th>\n",
              "      <th>target</th>\n",
              "      <th>Age</th>\n",
              "      <th>Sex</th>\n",
              "      <th>on_thyroxine</th>\n",
              "      <th>query_on_thyroxine</th>\n",
              "      <th>on_antithyroid_medication</th>\n",
              "      <th>thyroid_surgery</th>\n",
              "      <th>query_hypothyroid</th>\n",
              "      <th>query_hyperthyroid</th>\n",
              "      <th>pregnant</th>\n",
              "      <th>sick</th>\n",
              "      <th>tumor</th>\n",
              "      <th>lithium</th>\n",
              "      <th>goitre</th>\n",
              "      <th>TSH_measured</th>\n",
              "      <th>TSH</th>\n",
              "      <th>T3_measured</th>\n",
              "      <th>T3</th>\n",
              "      <th>TT4_measured</th>\n",
              "      <th>TT4</th>\n",
              "      <th>T4U_measured</th>\n",
              "      <th>T4U</th>\n",
              "      <th>FTI_measured</th>\n",
              "      <th>FTI</th>\n",
              "      <th>TBG_measured</th>\n",
              "      <th>TBG</th>\n",
              "    </tr>\n",
              "  </thead>\n",
              "  <tbody>\n",
              "    <tr>\n",
              "      <th>0</th>\n",
              "      <td>1</td>\n",
              "      <td>72</td>\n",
              "      <td>0</td>\n",
              "      <td>0</td>\n",
              "      <td>0</td>\n",
              "      <td>0</td>\n",
              "      <td>0</td>\n",
              "      <td>0</td>\n",
              "      <td>0</td>\n",
              "      <td>0</td>\n",
              "      <td>0</td>\n",
              "      <td>0</td>\n",
              "      <td>0</td>\n",
              "      <td>0</td>\n",
              "      <td>1</td>\n",
              "      <td>30</td>\n",
              "      <td>1</td>\n",
              "      <td>0.6</td>\n",
              "      <td>1</td>\n",
              "      <td>15</td>\n",
              "      <td>1</td>\n",
              "      <td>1.48</td>\n",
              "      <td>1</td>\n",
              "      <td>10</td>\n",
              "      <td>0</td>\n",
              "      <td>?</td>\n",
              "    </tr>\n",
              "    <tr>\n",
              "      <th>1</th>\n",
              "      <td>1</td>\n",
              "      <td>15</td>\n",
              "      <td>1</td>\n",
              "      <td>1</td>\n",
              "      <td>0</td>\n",
              "      <td>0</td>\n",
              "      <td>0</td>\n",
              "      <td>0</td>\n",
              "      <td>0</td>\n",
              "      <td>0</td>\n",
              "      <td>0</td>\n",
              "      <td>0</td>\n",
              "      <td>0</td>\n",
              "      <td>0</td>\n",
              "      <td>1</td>\n",
              "      <td>145</td>\n",
              "      <td>1</td>\n",
              "      <td>1.7</td>\n",
              "      <td>1</td>\n",
              "      <td>19</td>\n",
              "      <td>1</td>\n",
              "      <td>1.13</td>\n",
              "      <td>1</td>\n",
              "      <td>17</td>\n",
              "      <td>0</td>\n",
              "      <td>?</td>\n",
              "    </tr>\n",
              "    <tr>\n",
              "      <th>2</th>\n",
              "      <td>1</td>\n",
              "      <td>24</td>\n",
              "      <td>0</td>\n",
              "      <td>0</td>\n",
              "      <td>0</td>\n",
              "      <td>0</td>\n",
              "      <td>0</td>\n",
              "      <td>0</td>\n",
              "      <td>0</td>\n",
              "      <td>0</td>\n",
              "      <td>0</td>\n",
              "      <td>0</td>\n",
              "      <td>0</td>\n",
              "      <td>0</td>\n",
              "      <td>1</td>\n",
              "      <td>0</td>\n",
              "      <td>1</td>\n",
              "      <td>0.2</td>\n",
              "      <td>1</td>\n",
              "      <td>4</td>\n",
              "      <td>1</td>\n",
              "      <td>1</td>\n",
              "      <td>1</td>\n",
              "      <td>0</td>\n",
              "      <td>0</td>\n",
              "      <td>?</td>\n",
              "    </tr>\n",
              "    <tr>\n",
              "      <th>3</th>\n",
              "      <td>1</td>\n",
              "      <td>24</td>\n",
              "      <td>1</td>\n",
              "      <td>0</td>\n",
              "      <td>0</td>\n",
              "      <td>0</td>\n",
              "      <td>0</td>\n",
              "      <td>0</td>\n",
              "      <td>0</td>\n",
              "      <td>0</td>\n",
              "      <td>0</td>\n",
              "      <td>0</td>\n",
              "      <td>0</td>\n",
              "      <td>0</td>\n",
              "      <td>1</td>\n",
              "      <td>430</td>\n",
              "      <td>1</td>\n",
              "      <td>0.4</td>\n",
              "      <td>1</td>\n",
              "      <td>6</td>\n",
              "      <td>1</td>\n",
              "      <td>1.04</td>\n",
              "      <td>1</td>\n",
              "      <td>6</td>\n",
              "      <td>0</td>\n",
              "      <td>?</td>\n",
              "    </tr>\n",
              "    <tr>\n",
              "      <th>4</th>\n",
              "      <td>1</td>\n",
              "      <td>77</td>\n",
              "      <td>0</td>\n",
              "      <td>0</td>\n",
              "      <td>0</td>\n",
              "      <td>0</td>\n",
              "      <td>0</td>\n",
              "      <td>0</td>\n",
              "      <td>0</td>\n",
              "      <td>0</td>\n",
              "      <td>0</td>\n",
              "      <td>0</td>\n",
              "      <td>0</td>\n",
              "      <td>0</td>\n",
              "      <td>1</td>\n",
              "      <td>7.3</td>\n",
              "      <td>1</td>\n",
              "      <td>1.2</td>\n",
              "      <td>1</td>\n",
              "      <td>57</td>\n",
              "      <td>1</td>\n",
              "      <td>1.28</td>\n",
              "      <td>1</td>\n",
              "      <td>44</td>\n",
              "      <td>0</td>\n",
              "      <td>?</td>\n",
              "    </tr>\n",
              "  </tbody>\n",
              "</table>\n",
              "</div>"
            ],
            "text/plain": [
              "   target Age Sex  on_thyroxine  ...  FTI_measured  FTI  TBG_measured  TBG\n",
              "0       1  72   0             0  ...             1   10             0    ?\n",
              "1       1  15   1             1  ...             1   17             0    ?\n",
              "2       1  24   0             0  ...             1    0             0    ?\n",
              "3       1  24   1             0  ...             1    6             0    ?\n",
              "4       1  77   0             0  ...             1   44             0    ?\n",
              "\n",
              "[5 rows x 26 columns]"
            ]
          },
          "metadata": {
            "tags": []
          },
          "execution_count": 10
        }
      ]
    },
    {
      "cell_type": "markdown",
      "metadata": {
        "id": "UkbMnjfUXOAe"
      },
      "source": [
        "Some of the features contain '?' values. So we will be replacing them with NaN values to count them."
      ]
    },
    {
      "cell_type": "code",
      "metadata": {
        "id": "S0sYKSwPXFvO"
      },
      "source": [
        "# Replacing ? into NaN values \n",
        "dataset.replace(to_replace='?', inplace=True, value=np.NaN)"
      ],
      "execution_count": 11,
      "outputs": []
    },
    {
      "cell_type": "markdown",
      "metadata": {
        "id": "agNL15c5XXl5"
      },
      "source": [
        "Checking for null values\n"
      ]
    },
    {
      "cell_type": "code",
      "metadata": {
        "colab": {
          "base_uri": "https://localhost:8080/"
        },
        "id": "n8IhbbIeXRl0",
        "outputId": "13e3db12-b77a-4a73-fad6-2aa6221bbed8"
      },
      "source": [
        "# Count the number of null values\n",
        "dataset.isnull().sum()"
      ],
      "execution_count": 12,
      "outputs": [
        {
          "output_type": "execute_result",
          "data": {
            "text/plain": [
              "target                          0\n",
              "Age                           446\n",
              "Sex                            73\n",
              "on_thyroxine                    0\n",
              "query_on_thyroxine              0\n",
              "on_antithyroid_medication       0\n",
              "thyroid_surgery                 0\n",
              "query_hypothyroid               0\n",
              "query_hyperthyroid              0\n",
              "pregnant                        0\n",
              "sick                            0\n",
              "tumor                           0\n",
              "lithium                         0\n",
              "goitre                          0\n",
              "TSH_measured                    0\n",
              "TSH                           468\n",
              "T3_measured                     0\n",
              "T3                            695\n",
              "TT4_measured                    0\n",
              "TT4                           249\n",
              "T4U_measured                    0\n",
              "T4U                           248\n",
              "FTI_measured                    0\n",
              "FTI                           247\n",
              "TBG_measured                    0\n",
              "TBG                          2903\n",
              "dtype: int64"
            ]
          },
          "metadata": {
            "tags": []
          },
          "execution_count": 12
        }
      ]
    },
    {
      "cell_type": "markdown",
      "metadata": {
        "id": "wn7ddKBbX59h"
      },
      "source": [
        "Here, we can see that the feature column \"TBG\" contains extremely high number of null values. So, we will be not be using this column for our model."
      ]
    },
    {
      "cell_type": "code",
      "metadata": {
        "id": "KTpU-YZDX0qv"
      },
      "source": [
        "# Dropping the TBG column as it contains extremely high number of null values\n",
        "dataset.drop('TBG', axis = 1, inplace=True)"
      ],
      "execution_count": 13,
      "outputs": []
    },
    {
      "cell_type": "code",
      "metadata": {
        "id": "vtB6z-8MX-JO"
      },
      "source": [
        "# Selecting columns with data type as 'object'\n",
        "columns = dataset.columns[dataset.dtypes.eq('object')]\n",
        "\n",
        "# Convert to numeric values\n",
        "dataset[columns] = dataset[columns].apply(pd.to_numeric, errors='coerce')"
      ],
      "execution_count": 14,
      "outputs": []
    },
    {
      "cell_type": "markdown",
      "metadata": {
        "id": "0eUq_JVXYKjK"
      },
      "source": [
        "**Visualize the patterns or trends in data**"
      ]
    },
    {
      "cell_type": "code",
      "metadata": {
        "colab": {
          "base_uri": "https://localhost:8080/",
          "height": 1000
        },
        "id": "ZoYzUt3qYJ4U",
        "outputId": "a3356a45-0728-4cf7-95c8-cbb26b8b40f3"
      },
      "source": [
        "dataset.hist(figsize = (20,20));"
      ],
      "execution_count": 15,
      "outputs": [
        {
          "output_type": "display_data",
          "data": {
            "image/png": "[encoded data removed]",
            "text/plain": [
              "<Figure size 1440x1440 with 25 Axes>"
            ]
          },
          "metadata": {
            "tags": [],
            "needs_background": "light"
          }
        }
      ]
    },
    {
      "cell_type": "markdown",
      "metadata": {
        "id": "hVfPh4QwYfVA"
      },
      "source": [
        "**Replacing null values in our data**"
      ]
    },
    {
      "cell_type": "code",
      "metadata": {
        "colab": {
          "base_uri": "https://localhost:8080/"
        },
        "id": "Rn09bFUcYDyC",
        "outputId": "ff8d5804-9409-462d-b04b-ec23720ddff8"
      },
      "source": [
        "# List of columns containing null values\n",
        "dataset.columns[dataset.isnull().any()].tolist() "
      ],
      "execution_count": 16,
      "outputs": [
        {
          "output_type": "execute_result",
          "data": {
            "text/plain": [
              "['Age', 'Sex', 'TSH', 'T3', 'TT4', 'T4U', 'FTI']"
            ]
          },
          "metadata": {
            "tags": []
          },
          "execution_count": 16
        }
      ]
    },
    {
      "cell_type": "code",
      "metadata": {
        "id": "ZKhBzjP0Ym_d"
      },
      "source": [
        "# Replacing null values by mean \n",
        "dataset['Age'].fillna(dataset['Age'].mean(), inplace = True)\n",
        "dataset['T4U'].fillna(dataset['T4U'].mean(), inplace = True)\n",
        "\n",
        "# Replacing null values by median\n",
        "dataset['TSH'].fillna(dataset['TSH'].mean(), inplace = True)\n",
        "dataset['T3'].fillna(dataset['T3'].median(), inplace = True)\n",
        "dataset['TT4'].fillna(dataset['TT4'].median(), inplace = True)\n",
        "dataset['FTI'].fillna(dataset['FTI'].median(), inplace = True)\n",
        "\n",
        "# The gender data looks to be imbalanced with 0 lesser than 1\n",
        "# Replacing null values with 0\n",
        "dataset['Sex'].fillna(0, inplace = True)"
      ],
      "execution_count": 17,
      "outputs": []
    },
    {
      "cell_type": "markdown",
      "metadata": {
        "id": "yLrxBsEXY2Yr"
      },
      "source": [
        "**Modeling the data**\n",
        "\n",
        "We will be using a Neural network for predicting the hypothyroidism (target) based on our input data (features)."
      ]
    },
    {
      "cell_type": "code",
      "metadata": {
        "id": "Lh6SMvhYYvTQ"
      },
      "source": [
        "# Features\n",
        "X = dataset.drop('target', axis = 1) # selecting all columns except the target\n",
        "# Target variable\n",
        "y = dataset['target']\n"
      ],
      "execution_count": 18,
      "outputs": []
    },
    {
      "cell_type": "code",
      "metadata": {
        "id": "hEZJhZUVZDeG"
      },
      "source": [
        "from sklearn.model_selection import train_test_split\n",
        "\n",
        "# Split the data\n",
        "X_train, X_test, y_train, y_test = train_test_split(X, y, test_size=0.2, random_state=42)"
      ],
      "execution_count": 19,
      "outputs": []
    },
    {
      "cell_type": "code",
      "metadata": {
        "id": "eKkcgWNGZJUi"
      },
      "source": [
        "from sklearn.preprocessing import StandardScaler\n",
        "\n",
        "# Initialization of the class\n",
        "scaler = StandardScaler()\n",
        "\n",
        "# Applying the scaler on test and train data\n",
        "X_train = scaler.fit_transform(X_train)\n",
        "X_test = scaler.transform(X_test)"
      ],
      "execution_count": 20,
      "outputs": []
    },
    {
      "cell_type": "code",
      "metadata": {
        "id": "7mB8u3lUZNG7"
      },
      "source": [
        "# Input\n",
        "model = Sequential()\n",
        "# Hidden layer\n",
        "model.add(Dense(64, kernel_initializer='uniform', input_dim=24, activation='relu'))\n",
        "# Output layer\n",
        "model.add(Dense(1, kernel_initializer='uniform', activation='sigmoid'))"
      ],
      "execution_count": 21,
      "outputs": []
    },
    {
      "cell_type": "code",
      "metadata": {
        "id": "o97bSFXmZQ8P"
      },
      "source": [
        "model.compile(loss='binary_crossentropy', optimizer='adam', metrics=['accuracy'])"
      ],
      "execution_count": 22,
      "outputs": []
    },
    {
      "cell_type": "code",
      "metadata": {
        "colab": {
          "base_uri": "https://localhost:8080/"
        },
        "id": "1xy8yvzZZUIl",
        "outputId": "4247cf48-0f02-4a03-d84f-fc6b776e4bfa"
      },
      "source": [
        "# Training the model\n",
        "result = model.fit(X_train, y_train, epochs=100, validation_split=0.2, batch_size=40,  verbose=2)\n"
      ],
      "execution_count": 23,
      "outputs": [
        {
          "output_type": "stream",
          "text": [
            "Epoch 1/100\n",
            "51/51 - 1s - loss: 0.5888 - accuracy: 0.9452 - val_loss: 0.4547 - val_accuracy: 0.9605\n",
            "Epoch 2/100\n",
            "51/51 - 0s - loss: 0.3185 - accuracy: 0.9570 - val_loss: 0.1944 - val_accuracy: 0.9644\n",
            "Epoch 3/100\n",
            "51/51 - 0s - loss: 0.1492 - accuracy: 0.9659 - val_loss: 0.1027 - val_accuracy: 0.9763\n",
            "Epoch 4/100\n",
            "51/51 - 0s - loss: 0.0946 - accuracy: 0.9713 - val_loss: 0.0734 - val_accuracy: 0.9822\n",
            "Epoch 5/100\n",
            "51/51 - 0s - loss: 0.0736 - accuracy: 0.9753 - val_loss: 0.0615 - val_accuracy: 0.9822\n",
            "Epoch 6/100\n",
            "51/51 - 0s - loss: 0.0636 - accuracy: 0.9788 - val_loss: 0.0543 - val_accuracy: 0.9842\n",
            "Epoch 7/100\n",
            "51/51 - 0s - loss: 0.0579 - accuracy: 0.9807 - val_loss: 0.0510 - val_accuracy: 0.9822\n",
            "Epoch 8/100\n",
            "51/51 - 0s - loss: 0.0542 - accuracy: 0.9802 - val_loss: 0.0483 - val_accuracy: 0.9822\n",
            "Epoch 9/100\n",
            "51/51 - 0s - loss: 0.0516 - accuracy: 0.9812 - val_loss: 0.0468 - val_accuracy: 0.9802\n",
            "Epoch 10/100\n",
            "51/51 - 0s - loss: 0.0494 - accuracy: 0.9812 - val_loss: 0.0449 - val_accuracy: 0.9802\n",
            "Epoch 11/100\n",
            "51/51 - 0s - loss: 0.0477 - accuracy: 0.9827 - val_loss: 0.0448 - val_accuracy: 0.9802\n",
            "Epoch 12/100\n",
            "51/51 - 0s - loss: 0.0461 - accuracy: 0.9822 - val_loss: 0.0431 - val_accuracy: 0.9802\n",
            "Epoch 13/100\n",
            "51/51 - 0s - loss: 0.0453 - accuracy: 0.9837 - val_loss: 0.0428 - val_accuracy: 0.9822\n",
            "Epoch 14/100\n",
            "51/51 - 0s - loss: 0.0437 - accuracy: 0.9852 - val_loss: 0.0421 - val_accuracy: 0.9822\n",
            "Epoch 15/100\n",
            "51/51 - 0s - loss: 0.0428 - accuracy: 0.9842 - val_loss: 0.0410 - val_accuracy: 0.9822\n",
            "Epoch 16/100\n",
            "51/51 - 0s - loss: 0.0423 - accuracy: 0.9847 - val_loss: 0.0404 - val_accuracy: 0.9822\n",
            "Epoch 17/100\n",
            "51/51 - 0s - loss: 0.0411 - accuracy: 0.9852 - val_loss: 0.0405 - val_accuracy: 0.9822\n",
            "Epoch 18/100\n",
            "51/51 - 0s - loss: 0.0401 - accuracy: 0.9872 - val_loss: 0.0400 - val_accuracy: 0.9822\n",
            "Epoch 19/100\n",
            "51/51 - 0s - loss: 0.0396 - accuracy: 0.9872 - val_loss: 0.0394 - val_accuracy: 0.9842\n",
            "Epoch 20/100\n",
            "51/51 - 0s - loss: 0.0391 - accuracy: 0.9872 - val_loss: 0.0393 - val_accuracy: 0.9822\n",
            "Epoch 21/100\n",
            "51/51 - 0s - loss: 0.0388 - accuracy: 0.9867 - val_loss: 0.0400 - val_accuracy: 0.9842\n",
            "Epoch 22/100\n",
            "51/51 - 0s - loss: 0.0376 - accuracy: 0.9886 - val_loss: 0.0387 - val_accuracy: 0.9842\n",
            "Epoch 23/100\n",
            "51/51 - 0s - loss: 0.0371 - accuracy: 0.9867 - val_loss: 0.0388 - val_accuracy: 0.9842\n",
            "Epoch 24/100\n",
            "51/51 - 0s - loss: 0.0365 - accuracy: 0.9876 - val_loss: 0.0382 - val_accuracy: 0.9842\n",
            "Epoch 25/100\n",
            "51/51 - 0s - loss: 0.0361 - accuracy: 0.9872 - val_loss: 0.0383 - val_accuracy: 0.9842\n",
            "Epoch 26/100\n",
            "51/51 - 0s - loss: 0.0356 - accuracy: 0.9872 - val_loss: 0.0380 - val_accuracy: 0.9842\n",
            "Epoch 27/100\n",
            "51/51 - 0s - loss: 0.0356 - accuracy: 0.9876 - val_loss: 0.0399 - val_accuracy: 0.9842\n",
            "Epoch 28/100\n",
            "51/51 - 0s - loss: 0.0351 - accuracy: 0.9886 - val_loss: 0.0373 - val_accuracy: 0.9842\n",
            "Epoch 29/100\n",
            "51/51 - 0s - loss: 0.0344 - accuracy: 0.9876 - val_loss: 0.0380 - val_accuracy: 0.9842\n",
            "Epoch 30/100\n",
            "51/51 - 0s - loss: 0.0342 - accuracy: 0.9872 - val_loss: 0.0383 - val_accuracy: 0.9842\n",
            "Epoch 31/100\n",
            "51/51 - 0s - loss: 0.0339 - accuracy: 0.9881 - val_loss: 0.0379 - val_accuracy: 0.9842\n",
            "Epoch 32/100\n",
            "51/51 - 0s - loss: 0.0333 - accuracy: 0.9876 - val_loss: 0.0371 - val_accuracy: 0.9862\n",
            "Epoch 33/100\n",
            "51/51 - 0s - loss: 0.0329 - accuracy: 0.9886 - val_loss: 0.0376 - val_accuracy: 0.9842\n",
            "Epoch 34/100\n",
            "51/51 - 0s - loss: 0.0326 - accuracy: 0.9881 - val_loss: 0.0376 - val_accuracy: 0.9862\n",
            "Epoch 35/100\n",
            "51/51 - 0s - loss: 0.0325 - accuracy: 0.9901 - val_loss: 0.0369 - val_accuracy: 0.9842\n",
            "Epoch 36/100\n",
            "51/51 - 0s - loss: 0.0321 - accuracy: 0.9896 - val_loss: 0.0377 - val_accuracy: 0.9862\n",
            "Epoch 37/100\n",
            "51/51 - 0s - loss: 0.0322 - accuracy: 0.9896 - val_loss: 0.0370 - val_accuracy: 0.9842\n",
            "Epoch 38/100\n",
            "51/51 - 0s - loss: 0.0315 - accuracy: 0.9901 - val_loss: 0.0376 - val_accuracy: 0.9862\n",
            "Epoch 39/100\n",
            "51/51 - 0s - loss: 0.0313 - accuracy: 0.9886 - val_loss: 0.0371 - val_accuracy: 0.9842\n",
            "Epoch 40/100\n",
            "51/51 - 0s - loss: 0.0308 - accuracy: 0.9906 - val_loss: 0.0379 - val_accuracy: 0.9862\n",
            "Epoch 41/100\n",
            "51/51 - 0s - loss: 0.0306 - accuracy: 0.9901 - val_loss: 0.0373 - val_accuracy: 0.9842\n",
            "Epoch 42/100\n",
            "51/51 - 0s - loss: 0.0302 - accuracy: 0.9891 - val_loss: 0.0387 - val_accuracy: 0.9862\n",
            "Epoch 43/100\n",
            "51/51 - 0s - loss: 0.0304 - accuracy: 0.9901 - val_loss: 0.0378 - val_accuracy: 0.9881\n",
            "Epoch 44/100\n",
            "51/51 - 0s - loss: 0.0301 - accuracy: 0.9896 - val_loss: 0.0384 - val_accuracy: 0.9842\n",
            "Epoch 45/100\n",
            "51/51 - 0s - loss: 0.0296 - accuracy: 0.9911 - val_loss: 0.0384 - val_accuracy: 0.9862\n",
            "Epoch 46/100\n",
            "51/51 - 0s - loss: 0.0292 - accuracy: 0.9926 - val_loss: 0.0382 - val_accuracy: 0.9842\n",
            "Epoch 47/100\n",
            "51/51 - 0s - loss: 0.0292 - accuracy: 0.9936 - val_loss: 0.0376 - val_accuracy: 0.9862\n",
            "Epoch 48/100\n",
            "51/51 - 0s - loss: 0.0295 - accuracy: 0.9896 - val_loss: 0.0396 - val_accuracy: 0.9862\n",
            "Epoch 49/100\n",
            "51/51 - 0s - loss: 0.0288 - accuracy: 0.9931 - val_loss: 0.0376 - val_accuracy: 0.9862\n",
            "Epoch 50/100\n",
            "51/51 - 0s - loss: 0.0286 - accuracy: 0.9901 - val_loss: 0.0379 - val_accuracy: 0.9862\n",
            "Epoch 51/100\n",
            "51/51 - 0s - loss: 0.0287 - accuracy: 0.9921 - val_loss: 0.0379 - val_accuracy: 0.9881\n",
            "Epoch 52/100\n",
            "51/51 - 0s - loss: 0.0281 - accuracy: 0.9916 - val_loss: 0.0385 - val_accuracy: 0.9862\n",
            "Epoch 53/100\n",
            "51/51 - 0s - loss: 0.0279 - accuracy: 0.9926 - val_loss: 0.0388 - val_accuracy: 0.9862\n",
            "Epoch 54/100\n",
            "51/51 - 0s - loss: 0.0277 - accuracy: 0.9921 - val_loss: 0.0377 - val_accuracy: 0.9862\n",
            "Epoch 55/100\n",
            "51/51 - 0s - loss: 0.0273 - accuracy: 0.9916 - val_loss: 0.0399 - val_accuracy: 0.9901\n",
            "Epoch 56/100\n",
            "51/51 - 0s - loss: 0.0273 - accuracy: 0.9921 - val_loss: 0.0385 - val_accuracy: 0.9881\n",
            "Epoch 57/100\n",
            "51/51 - 0s - loss: 0.0269 - accuracy: 0.9931 - val_loss: 0.0387 - val_accuracy: 0.9881\n",
            "Epoch 58/100\n",
            "51/51 - 0s - loss: 0.0268 - accuracy: 0.9931 - val_loss: 0.0392 - val_accuracy: 0.9862\n",
            "Epoch 59/100\n",
            "51/51 - 0s - loss: 0.0268 - accuracy: 0.9916 - val_loss: 0.0385 - val_accuracy: 0.9881\n",
            "Epoch 60/100\n",
            "51/51 - 0s - loss: 0.0267 - accuracy: 0.9936 - val_loss: 0.0379 - val_accuracy: 0.9862\n",
            "Epoch 61/100\n",
            "51/51 - 0s - loss: 0.0266 - accuracy: 0.9901 - val_loss: 0.0394 - val_accuracy: 0.9901\n",
            "Epoch 62/100\n",
            "51/51 - 0s - loss: 0.0263 - accuracy: 0.9936 - val_loss: 0.0384 - val_accuracy: 0.9862\n",
            "Epoch 63/100\n",
            "51/51 - 0s - loss: 0.0265 - accuracy: 0.9921 - val_loss: 0.0404 - val_accuracy: 0.9862\n",
            "Epoch 64/100\n",
            "51/51 - 0s - loss: 0.0259 - accuracy: 0.9936 - val_loss: 0.0376 - val_accuracy: 0.9881\n",
            "Epoch 65/100\n",
            "51/51 - 0s - loss: 0.0258 - accuracy: 0.9921 - val_loss: 0.0378 - val_accuracy: 0.9862\n",
            "Epoch 66/100\n",
            "51/51 - 0s - loss: 0.0260 - accuracy: 0.9916 - val_loss: 0.0390 - val_accuracy: 0.9881\n",
            "Epoch 67/100\n",
            "51/51 - 0s - loss: 0.0259 - accuracy: 0.9931 - val_loss: 0.0376 - val_accuracy: 0.9881\n",
            "Epoch 68/100\n",
            "51/51 - 0s - loss: 0.0252 - accuracy: 0.9926 - val_loss: 0.0386 - val_accuracy: 0.9901\n",
            "Epoch 69/100\n",
            "51/51 - 0s - loss: 0.0254 - accuracy: 0.9926 - val_loss: 0.0399 - val_accuracy: 0.9862\n",
            "Epoch 70/100\n",
            "51/51 - 0s - loss: 0.0255 - accuracy: 0.9926 - val_loss: 0.0379 - val_accuracy: 0.9881\n",
            "Epoch 71/100\n",
            "51/51 - 0s - loss: 0.0249 - accuracy: 0.9936 - val_loss: 0.0397 - val_accuracy: 0.9881\n",
            "Epoch 72/100\n",
            "51/51 - 0s - loss: 0.0248 - accuracy: 0.9941 - val_loss: 0.0374 - val_accuracy: 0.9881\n",
            "Epoch 73/100\n",
            "51/51 - 0s - loss: 0.0249 - accuracy: 0.9926 - val_loss: 0.0386 - val_accuracy: 0.9901\n",
            "Epoch 74/100\n",
            "51/51 - 0s - loss: 0.0247 - accuracy: 0.9921 - val_loss: 0.0383 - val_accuracy: 0.9901\n",
            "Epoch 75/100\n",
            "51/51 - 0s - loss: 0.0243 - accuracy: 0.9921 - val_loss: 0.0377 - val_accuracy: 0.9881\n",
            "Epoch 76/100\n",
            "51/51 - 0s - loss: 0.0243 - accuracy: 0.9936 - val_loss: 0.0390 - val_accuracy: 0.9901\n",
            "Epoch 77/100\n",
            "51/51 - 0s - loss: 0.0243 - accuracy: 0.9936 - val_loss: 0.0394 - val_accuracy: 0.9862\n",
            "Epoch 78/100\n",
            "51/51 - 0s - loss: 0.0239 - accuracy: 0.9936 - val_loss: 0.0381 - val_accuracy: 0.9901\n",
            "Epoch 79/100\n",
            "51/51 - 0s - loss: 0.0243 - accuracy: 0.9926 - val_loss: 0.0404 - val_accuracy: 0.9862\n",
            "Epoch 80/100\n",
            "51/51 - 0s - loss: 0.0242 - accuracy: 0.9931 - val_loss: 0.0383 - val_accuracy: 0.9901\n",
            "Epoch 81/100\n",
            "51/51 - 0s - loss: 0.0235 - accuracy: 0.9931 - val_loss: 0.0383 - val_accuracy: 0.9901\n",
            "Epoch 82/100\n",
            "51/51 - 0s - loss: 0.0237 - accuracy: 0.9941 - val_loss: 0.0380 - val_accuracy: 0.9901\n",
            "Epoch 83/100\n",
            "51/51 - 0s - loss: 0.0232 - accuracy: 0.9941 - val_loss: 0.0387 - val_accuracy: 0.9901\n",
            "Epoch 84/100\n",
            "51/51 - 0s - loss: 0.0233 - accuracy: 0.9941 - val_loss: 0.0389 - val_accuracy: 0.9901\n",
            "Epoch 85/100\n",
            "51/51 - 0s - loss: 0.0233 - accuracy: 0.9931 - val_loss: 0.0392 - val_accuracy: 0.9881\n",
            "Epoch 86/100\n",
            "51/51 - 0s - loss: 0.0229 - accuracy: 0.9931 - val_loss: 0.0383 - val_accuracy: 0.9901\n",
            "Epoch 87/100\n",
            "51/51 - 0s - loss: 0.0230 - accuracy: 0.9941 - val_loss: 0.0387 - val_accuracy: 0.9901\n",
            "Epoch 88/100\n",
            "51/51 - 0s - loss: 0.0227 - accuracy: 0.9941 - val_loss: 0.0389 - val_accuracy: 0.9862\n",
            "Epoch 89/100\n",
            "51/51 - 0s - loss: 0.0229 - accuracy: 0.9926 - val_loss: 0.0398 - val_accuracy: 0.9862\n",
            "Epoch 90/100\n",
            "51/51 - 0s - loss: 0.0224 - accuracy: 0.9941 - val_loss: 0.0386 - val_accuracy: 0.9881\n",
            "Epoch 91/100\n",
            "51/51 - 0s - loss: 0.0223 - accuracy: 0.9941 - val_loss: 0.0380 - val_accuracy: 0.9901\n",
            "Epoch 92/100\n",
            "51/51 - 0s - loss: 0.0222 - accuracy: 0.9941 - val_loss: 0.0377 - val_accuracy: 0.9881\n",
            "Epoch 93/100\n",
            "51/51 - 0s - loss: 0.0227 - accuracy: 0.9936 - val_loss: 0.0377 - val_accuracy: 0.9881\n",
            "Epoch 94/100\n",
            "51/51 - 0s - loss: 0.0221 - accuracy: 0.9946 - val_loss: 0.0390 - val_accuracy: 0.9881\n",
            "Epoch 95/100\n",
            "51/51 - 0s - loss: 0.0220 - accuracy: 0.9941 - val_loss: 0.0394 - val_accuracy: 0.9881\n",
            "Epoch 96/100\n",
            "51/51 - 0s - loss: 0.0221 - accuracy: 0.9941 - val_loss: 0.0384 - val_accuracy: 0.9881\n",
            "Epoch 97/100\n",
            "51/51 - 0s - loss: 0.0216 - accuracy: 0.9946 - val_loss: 0.0382 - val_accuracy: 0.9862\n",
            "Epoch 98/100\n",
            "51/51 - 0s - loss: 0.0219 - accuracy: 0.9941 - val_loss: 0.0390 - val_accuracy: 0.9881\n",
            "Epoch 99/100\n",
            "51/51 - 0s - loss: 0.0214 - accuracy: 0.9941 - val_loss: 0.0381 - val_accuracy: 0.9881\n",
            "Epoch 100/100\n",
            "51/51 - 0s - loss: 0.0217 - accuracy: 0.9941 - val_loss: 0.0373 - val_accuracy: 0.9881\n"
          ],
          "name": "stdout"
        }
      ]
    },
    {
      "cell_type": "markdown",
      "metadata": {
        "id": "mOao2g3qZcxa"
      },
      "source": [
        "**Accuracy**"
      ]
    },
    {
      "cell_type": "code",
      "metadata": {
        "colab": {
          "base_uri": "https://localhost:8080/"
        },
        "id": "vHYlEUZ9ZWTR",
        "outputId": "39a59bc1-9e41-4080-9a64-a3afe726a044"
      },
      "source": [
        "# Get the loss and accuracy of the model by evaluation\n",
        "loss, acc = model.evaluate(X_test, y_test)\n",
        "\n",
        "# Print the loss and accuracy score for the model\n",
        "print(\"%s: %.2f%%\" % (model.metrics_names[0], loss*100))\n",
        "print(\"%s: %.2f%%\" % (model.metrics_names[1], acc*100))"
      ],
      "execution_count": 24,
      "outputs": [
        {
          "output_type": "stream",
          "text": [
            "20/20 [==============================] - 0s 1ms/step - loss: 0.0652 - accuracy: 0.9842\n",
            "loss: 6.52%\n",
            "accuracy: 98.42%\n"
          ],
          "name": "stdout"
        }
      ]
    },
    {
      "cell_type": "code",
      "metadata": {
        "colab": {
          "base_uri": "https://localhost:8080/"
        },
        "id": "l6AQTXgtZhld",
        "outputId": "2d27afbe-d060-4289-a82c-d5f267961fd0"
      },
      "source": [
        "# Predicting the output predictions\n",
        "y_pred = model.predict(X_test).round()\n",
        "# Calculating the F1 score, recall, and precision\n",
        "print(\"%s: %.2f%%\" % (\"F1-score\", f1_score(y_test, y_pred)*100))\n",
        "print(\"%s: %.2f%%\" % (\"Recall\", recall_score(y_test, y_pred)*100))\n",
        "print(\"%s: %.2f%%\" % (\"Precision\", precision_score(y_test, y_pred)*100))"
      ],
      "execution_count": 25,
      "outputs": [
        {
          "output_type": "stream",
          "text": [
            "F1-score: 85.29%\n",
            "Recall: 78.38%\n",
            "Precision: 93.55%\n"
          ],
          "name": "stdout"
        }
      ]
    },
    {
      "cell_type": "markdown",
      "metadata": {
        "id": "_9p5BgaoZuKm"
      },
      "source": [
        "**Training and validation loss**"
      ]
    },
    {
      "cell_type": "code",
      "metadata": {
        "colab": {
          "base_uri": "https://localhost:8080/",
          "height": 295
        },
        "id": "lkWCnMFbZoOB",
        "outputId": "fa53d587-a0fb-48bd-d571-deffec096977"
      },
      "source": [
        "# summarize the result and plot the training and test loss\n",
        "plt.plot(result.history['loss'])\n",
        "plt.plot(result.history['val_loss'])\n",
        "\n",
        "# Set the parameters\n",
        "plt.title('Deep learning model loss')\n",
        "plt.ylabel('Loss')\n",
        "plt.xlabel('Epochs')\n",
        "plt.legend(['train', 'test'], loc='upper right')\n",
        "\n",
        "# Display the plots\n",
        "plt.show()\n"
      ],
      "execution_count": 26,
      "outputs": [
        {
          "output_type": "display_data",
          "data": {
            "image/png": "[encoded data removed]",
            "text/plain": [
              "<Figure size 432x288 with 1 Axes>"
            ]
          },
          "metadata": {
            "tags": [],
            "needs_background": "light"
          }
        }
      ]
    },
    {
      "cell_type": "markdown",
      "metadata": {
        "id": "ucIQzOnLaBLH"
      },
      "source": [
        "**Conclusion**\n",
        "\n",
        "In this project, we have illustrated the potential use of neural networks in diagnosing hypothyroid disease. The identification of thyroid disease identiﬁcation remains to be an essential yet difﬁcult task in both clinical diagnosis and statistical classification. The diagnosis involves the use of a large number of interrelated patient attributes along with extremely unbalanced groups that result in a complicated relationship between the input features. However, Artiﬁcial neural networks show a promising result due to its flexible nature in modeling complex patterns of data for diagnosis. This knowledge can be further extended for many other disease diagnosis where such problems exist."
      ]
    }
  ]
}