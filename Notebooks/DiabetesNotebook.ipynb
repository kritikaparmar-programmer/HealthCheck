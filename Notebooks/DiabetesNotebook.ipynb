{
  "nbformat": 4,
  "nbformat_minor": 0,
  "metadata": {
    "kernelspec": {
      "display_name": "Python 3",
      "language": "python",
      "name": "python3"
    },
    "language_info": {
      "codemirror_mode": {
        "name": "ipython",
        "version": 3
      },
      "file_extension": ".py",
      "mimetype": "text/x-python",
      "name": "python",
      "nbconvert_exporter": "python",
      "pygments_lexer": "ipython3",
      "version": "3.7.6"
    },
    "colab": {
      "name": "DiabetesNotebook.ipynb",
      "provenance": [],
      "collapsed_sections": []
    }
  },
  "cells": [
    {
      "cell_type": "markdown",
      "metadata": {
        "id": "FPpXX7KhiT24"
      },
      "source": [
        "# **Importing essential libraries**"
      ]
    },
 "cells": [
  {
   "cell_type": "code",
   "execution_count": 1,
   "metadata": {},
   "outputs": [],
   "source": [
    "# Importing essential libraries\n",
    "import numpy as np # linear algebra\n",
    "import pandas as pd # data processing, CSV file I/O (e.g. pd.read_csv)\n",
    "import matplotlib.pyplot as plt\n",
    "import seaborn as sns"
   ]
  },
  {
   "cell_type": "code",
   "execution_count": 2,
   "metadata": {},
   "outputs": [
    {
      "cell_type": "code",
      "metadata": {
        "id": "wv2G70vRJb8k"
      },
      "source": [
        "import numpy as np\n",
        "import pandas as pd\n",
        "import pickle\n",
        "import seaborn as sns"
      ],
      "execution_count": 51,
      "outputs": []
    },
    {
      "cell_type": "markdown",
      "metadata": {
        "id": "Lg8CyPcQiZqi"
      },
      "source": [
        "# **Loading the dataset**"
      ]
    },
    {
      "cell_type": "code",
      "metadata": {
        "id": "yqeCiFQ_Jb8z"
      },
      "source": [
        "df = pd.read_csv('../Datasets/diabetes.csv')"
      ],
      "execution_count": 52,
      "outputs": []
    },
    {
      "cell_type": "code",
      "metadata": {
        "colab": {
          "base_uri": "https://localhost:8080/",
          "height": 202
        },
        "id": "5_6MbGhtJb81",
        "outputId": "c830f2a3-4532-4e25-9953-634e77d5ab30"
      },
      "source": [
        "df.head(5)"
      ],
      "execution_count": 53,
      "outputs": [
        {
          "output_type": "execute_result",
          "data": {
            "text/html": [
              "<div>\n",
              "<style scoped>\n",
              "    .dataframe tbody tr th:only-of-type {\n",
              "        vertical-align: middle;\n",
              "    }\n",
              "\n",
              "    .dataframe tbody tr th {\n",
              "        vertical-align: top;\n",
              "    }\n",
              "\n",
              "    .dataframe thead th {\n",
              "        text-align: right;\n",
              "    }\n",
              "</style>\n",
              "<table border=\"1\" class=\"dataframe\">\n",
              "  <thead>\n",
              "    <tr style=\"text-align: right;\">\n",
              "      <th></th>\n",
              "      <th>Pregnancies</th>\n",
              "      <th>Glucose</th>\n",
              "      <th>BloodPressure</th>\n",
              "      <th>SkinThickness</th>\n",
              "      <th>Insulin</th>\n",
              "      <th>BMI</th>\n",
              "      <th>DiabetesPedigreeFunction</th>\n",
              "      <th>Age</th>\n",
              "      <th>Outcome</th>\n",
              "    </tr>\n",
              "  </thead>\n",
              "  <tbody>\n",
              "    <tr>\n",
              "      <th>0</th>\n",
              "      <td>6</td>\n",
              "      <td>148</td>\n",
              "      <td>72</td>\n",
              "      <td>35</td>\n",
              "      <td>0</td>\n",
              "      <td>33.6</td>\n",
              "      <td>0.627</td>\n",
              "      <td>50</td>\n",
              "      <td>1</td>\n",
              "    </tr>\n",
              "    <tr>\n",
              "      <th>1</th>\n",
              "      <td>1</td>\n",
              "      <td>85</td>\n",
              "      <td>66</td>\n",
              "      <td>29</td>\n",
              "      <td>0</td>\n",
              "      <td>26.6</td>\n",
              "      <td>0.351</td>\n",
              "      <td>31</td>\n",
              "      <td>0</td>\n",
              "    </tr>\n",
              "    <tr>\n",
              "      <th>2</th>\n",
              "      <td>8</td>\n",
              "      <td>183</td>\n",
              "      <td>64</td>\n",
              "      <td>0</td>\n",
              "      <td>0</td>\n",
              "      <td>23.3</td>\n",
              "      <td>0.672</td>\n",
              "      <td>32</td>\n",
              "      <td>1</td>\n",
              "    </tr>\n",
              "    <tr>\n",
              "      <th>3</th>\n",
              "      <td>1</td>\n",
              "      <td>89</td>\n",
              "      <td>66</td>\n",
              "      <td>23</td>\n",
              "      <td>94</td>\n",
              "      <td>28.1</td>\n",
              "      <td>0.167</td>\n",
              "      <td>21</td>\n",
              "      <td>0</td>\n",
              "    </tr>\n",
              "    <tr>\n",
              "      <th>4</th>\n",
              "      <td>0</td>\n",
              "      <td>137</td>\n",
              "      <td>40</td>\n",
              "      <td>35</td>\n",
              "      <td>168</td>\n",
              "      <td>43.1</td>\n",
              "      <td>2.288</td>\n",
              "      <td>33</td>\n",
              "      <td>1</td>\n",
              "    </tr>\n",
              "  </tbody>\n",
              "</table>\n",
              "</div>"
            ],
            "text/plain": [
              "   Pregnancies  Glucose  BloodPressure  ...  DiabetesPedigreeFunction  Age  Outcome\n",
              "0            6      148             72  ...                     0.627   50        1\n",
              "1            1       85             66  ...                     0.351   31        0\n",
              "2            8      183             64  ...                     0.672   32        1\n",
              "3            1       89             66  ...                     0.167   21        0\n",
              "4            0      137             40  ...                     2.288   33        1\n",
              "\n",
              "[5 rows x 9 columns]"
            ]
          },
          "metadata": {
            "tags": []
          },
          "execution_count": 53
        }
      ]
    },
    {
      "cell_type": "markdown",
      "metadata": {
        "id": "U-2mPpnjieFd"
      },
      "source": [
        "# **Data Visualization**"
      ]
    },
    {
      "cell_type": "code",
      "metadata": {
        "colab": {
          "base_uri": "https://localhost:8080/",
          "height": 1000
        },
        "id": "t6OItNNlVIiQ",
        "outputId": "42ba3e82-aad2-4f1c-d073-00957c5d8936"
      },
      "source": [
        "df.plot.hist(subplots=True, layout=(4,4), figsize=(20, 20), bins=20)"
      ],
      "execution_count": 54,
      "outputs": [
        {
          "output_type": "execute_result",
          "data": {
            "text/plain": [
              "array([[<matplotlib.axes._subplots.AxesSubplot object at 0x7f815964f110>,\n",
              "        <matplotlib.axes._subplots.AxesSubplot object at 0x7f81597a6d90>,\n",
              "        <matplotlib.axes._subplots.AxesSubplot object at 0x7f815964fc10>,\n",
              "        <matplotlib.axes._subplots.AxesSubplot object at 0x7f8159579610>],\n",
              "       [<matplotlib.axes._subplots.AxesSubplot object at 0x7f81595b0a50>,\n",
              "        <matplotlib.axes._subplots.AxesSubplot object at 0x7f8159566e10>,\n",
              "        <matplotlib.axes._subplots.AxesSubplot object at 0x7f815952c290>,\n",
              "        <matplotlib.axes._subplots.AxesSubplot object at 0x7f81594e3590>],\n",
              "       [<matplotlib.axes._subplots.AxesSubplot object at 0x7f81594e35d0>,\n",
              "        <matplotlib.axes._subplots.AxesSubplot object at 0x7f8159499a90>,\n",
              "        <matplotlib.axes._subplots.AxesSubplot object at 0x7f8159413410>,\n",
              "        <matplotlib.axes._subplots.AxesSubplot object at 0x7f81593c9a90>],\n",
              "       [<matplotlib.axes._subplots.AxesSubplot object at 0x7f815938c150>,\n",
              "        <matplotlib.axes._subplots.AxesSubplot object at 0x7f81593437d0>,\n",
              "        <matplotlib.axes._subplots.AxesSubplot object at 0x7f81592f9e50>,\n",
              "        <matplotlib.axes._subplots.AxesSubplot object at 0x7f81592bb510>]],\n",
              "      dtype=object)"
            ]
          },
          "metadata": {
            "tags": []
          },
          "execution_count": 54
        },
        {
          "output_type": "display_data",
          "data": {
            "image/png": "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\n",
            "text/plain": [
              "<Figure size 1440x1440 with 16 Axes>"
            ]
          },
          "metadata": {
            "tags": [],
            "needs_background": "light"
          }
        }
      ]
    },
    {
      "cell_type": "code",
      "metadata": {
        "colab": {
          "base_uri": "https://localhost:8080/",
          "height": 203
        },
        "id": "78yZJDsVZn2L",
        "outputId": "3fa1db7d-07b9-4d67-8ddf-e469da06843f"
      },
      "source": [
        "sns.pairplot(\n",
        "    df,\n",
        "    x_vars=['Pregnancies','Glucose','BloodPressure','SkinThickness','Insulin','BMI','DiabetesPedigreeFunction'],\n",
        "    y_vars=['Age'],\n",
        ")"
      ],
      "execution_count": 55,
      "outputs": [
        {
          "output_type": "execute_result",
          "data": {
            "text/plain": [
              "<seaborn.axisgrid.PairGrid at 0x7f815926e610>"
            ]
          },
          "metadata": {
            "tags": []
          },
          "execution_count": 55
        },
        {
          "output_type": "display_data",
          "data": {
            "image/png": "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\n",
            "text/plain": [
              "<Figure size 1260x180 with 7 Axes>"
            ]
          },
          "metadata": {
            "tags": [],
            "needs_background": "light"
          }
        }
      ]
    },
    {
      "cell_type": "code",
      "metadata": {
        "colab": {
          "base_uri": "https://localhost:8080/",
          "height": 790
        },
        "id": "X8b1kqxdeVD3",
        "outputId": "771b6cc3-2792-406f-ff94-7f4a53124094"
      },
      "source": [
        "df.boxplot(column=['Pregnancies','Glucose','BloodPressure','SkinThickness','Insulin','BMI','DiabetesPedigreeFunction','Age'], figsize=(30,20))"
      ],
      "execution_count": 56,
      "outputs": [
        {
          "output_type": "execute_result",
          "data": {
            "text/plain": [
              "<matplotlib.axes._subplots.AxesSubplot at 0x7f8158d48310>"
            ]
          },
          "metadata": {
            "tags": []
          },
          "execution_count": 56
        },
        {
          "output_type": "display_data",
          "data": {
            "image/png": "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\n",
            "text/plain": [
              "<Figure size 2160x1440 with 1 Axes>"
            ]
          },
          "metadata": {
            "tags": [],
            "needs_background": "light"
          }
        }
      ]
    },
    {
      "cell_type": "markdown",
      "metadata": {
        "id": "TqwNYdI-il0X"
      },
      "source": [
        "# **Data Preprocessing**"
      ]
    },
    {
      "cell_type": "code",
      "metadata": {
        "id": "WvRkvwDAJb85"
      },
      "source": [
        "# Renaming DiabetesPedigreeFunction as DPF\n",
        "df = df.rename(columns={'DiabetesPedigreeFunction':'DPF'})"
      ],
      "execution_count": 57,
      "outputs": []
    },
    {
      "cell_type": "code",
      "metadata": {
        "id": "fODAZBpEJb85"
      },
      "source": [
        "# Replacing the 0 values from ['Glucose','BloodPressure','SkinThickness','Insulin','BMI'] by NaN\n",
        "df_copy = df.copy(deep=True)\n",
        "df_copy[['Glucose','BloodPressure','SkinThickness','Insulin','BMI']] = df_copy[['Glucose','BloodPressure','SkinThickness','Insulin','BMI']].replace(0,np.NaN)"
      ],
      "execution_count": 58,
      "outputs": []
    },
    {
      "cell_type": "code",
      "metadata": {
        "id": "qeeg-BT2Jb86"
      },
      "source": [
        "# Replacing NaN value by mean, median depending upon distribution\n",
        "df_copy['Glucose'].fillna(df_copy['Glucose'].mean(), inplace=True)\n",
        "df_copy['BloodPressure'].fillna(df_copy['BloodPressure'].mean(), inplace=True)\n",
        "df_copy['SkinThickness'].fillna(df_copy['SkinThickness'].median(), inplace=True)\n",
        "df_copy['Insulin'].fillna(df_copy['Insulin'].median(), inplace=True)\n",
        "df_copy['BMI'].fillna(df_copy['BMI'].median(), inplace=True)"
      ],
      "execution_count": 59,
      "outputs": []
    },
    {
      "cell_type": "markdown",
      "metadata": {
        "id": "u0x12TbtixxA"
      },
      "source": [
        "# **Random Forest Classifier Model**"
      ]
    },
    {
      "cell_type": "code",
      "metadata": {
        "id": "3cJ1lN58Jb87"
      },
      "source": [
        "from sklearn.model_selection import train_test_split\n",
        "X = df.drop(columns='Outcome')\n",
        "y = df['Outcome']\n",
        "X_train, X_test, y_train, y_test = train_test_split(X, y, test_size=0.20, random_state=0)"
      ],
      "execution_count": 73,
      "outputs": []
    },
    {
      "cell_type": "code",
      "metadata": {
        "colab": {
          "base_uri": "https://localhost:8080/"
        },
        "id": "J_WGfjFMJ7QN",
        "outputId": "bed9e908-d790-4462-be90-dfcb63699b3b"
      },
      "source": [
        "# Training the model on Random Forest Algorithm\n",
        "from sklearn.ensemble import RandomForestClassifier\n",
        "classifier = RandomForestClassifier(n_estimators = 50,random_state=0)\n",
        "classifier.fit(X_train, y_train)"
      ],
      "execution_count": 81,
      "outputs": [
        {
          "output_type": "execute_result",
          "data": {
            "text/plain": [
              "RandomForestClassifier(bootstrap=True, ccp_alpha=0.0, class_weight=None,\n",
              "                       criterion='gini', max_depth=None, max_features='auto',\n",
              "                       max_leaf_nodes=None, max_samples=None,\n",
              "                       min_impurity_decrease=0.0, min_impurity_split=None,\n",
              "                       min_samples_leaf=1, min_samples_split=2,\n",
              "                       min_weight_fraction_leaf=0.0, n_estimators=50,\n",
              "                       n_jobs=None, oob_score=False, random_state=0, verbose=0,\n",
              "                       warm_start=False)"
            ]
          },
          "metadata": {
            "tags": []
          },
          "execution_count": 81
        }
      ]
    },
    {
      "cell_type": "code",
      "metadata": {
        "id": "Lxb_UX2iKKtW"
      },
      "source": [
        "# Predicting the Test set results\n",
        "y_pred = classifier.predict(X_test)"
      ],
      "execution_count": 82,
      "outputs": []
    },
    {
      "cell_type": "code",
      "metadata": {
        "colab": {
          "base_uri": "https://localhost:8080/",
          "height": 415
        },
        "id": "m0nvNKxtKhRM",
        "outputId": "68b5ed74-b2c9-46aa-ec4a-9e812e14dac7"
      },
      "source": [
        "df2 = pd.DataFrame({'Actual':y_test,'Predicted':y_pred})\n",
        "df2"
      ],
      "execution_count": 63,
      "outputs": [
        {
          "output_type": "execute_result",
          "data": {
            "text/html": [
              "<div>\n",
              "<style scoped>\n",
              "    .dataframe tbody tr th:only-of-type {\n",
              "        vertical-align: middle;\n",
              "    }\n",
              "\n",
              "    .dataframe tbody tr th {\n",
              "        vertical-align: top;\n",
              "    }\n",
              "\n",
              "    .dataframe thead th {\n",
              "        text-align: right;\n",
              "    }\n",
              "</style>\n",
              "<table border=\"1\" class=\"dataframe\">\n",
              "  <thead>\n",
              "    <tr style=\"text-align: right;\">\n",
              "      <th></th>\n",
              "      <th>Actual</th>\n",
              "      <th>Predicted</th>\n",
              "    </tr>\n",
              "  </thead>\n",
              "  <tbody>\n",
              "    <tr>\n",
              "      <th>661</th>\n",
              "      <td>1</td>\n",
              "      <td>1</td>\n",
              "    </tr>\n",
              "    <tr>\n",
              "      <th>122</th>\n",
              "      <td>0</td>\n",
              "      <td>0</td>\n",
              "    </tr>\n",
              "    <tr>\n",
              "      <th>113</th>\n",
              "      <td>0</td>\n",
              "      <td>0</td>\n",
              "    </tr>\n",
              "    <tr>\n",
              "      <th>14</th>\n",
              "      <td>1</td>\n",
              "      <td>1</td>\n",
              "    </tr>\n",
              "    <tr>\n",
              "      <th>529</th>\n",
              "      <td>0</td>\n",
              "      <td>0</td>\n",
              "    </tr>\n",
              "    <tr>\n",
              "      <th>...</th>\n",
              "      <td>...</td>\n",
              "      <td>...</td>\n",
              "    </tr>\n",
              "    <tr>\n",
              "      <th>476</th>\n",
              "      <td>1</td>\n",
              "      <td>0</td>\n",
              "    </tr>\n",
              "    <tr>\n",
              "      <th>482</th>\n",
              "      <td>0</td>\n",
              "      <td>0</td>\n",
              "    </tr>\n",
              "    <tr>\n",
              "      <th>230</th>\n",
              "      <td>1</td>\n",
              "      <td>0</td>\n",
              "    </tr>\n",
              "    <tr>\n",
              "      <th>527</th>\n",
              "      <td>0</td>\n",
              "      <td>0</td>\n",
              "    </tr>\n",
              "    <tr>\n",
              "      <th>380</th>\n",
              "      <td>0</td>\n",
              "      <td>0</td>\n",
              "    </tr>\n",
              "  </tbody>\n",
              "</table>\n",
              "<p>154 rows × 2 columns</p>\n",
              "</div>"
            ],
            "text/plain": [
              "     Actual  Predicted\n",
              "661       1          1\n",
              "122       0          0\n",
              "113       0          0\n",
              "14        1          1\n",
              "529       0          0\n",
              "..      ...        ...\n",
              "476       1          0\n",
              "482       0          0\n",
              "230       1          0\n",
              "527       0          0\n",
              "380       0          0\n",
              "\n",
              "[154 rows x 2 columns]"
            ]
          },
          "metadata": {
            "tags": []
          },
          "execution_count": 63
        }
      ]
    },
    {
      "cell_type": "code",
      "metadata": {
        "colab": {
          "base_uri": "https://localhost:8080/",
          "height": 283
        },
        "id": "N_glFye3i70M",
        "outputId": "96791844-a267-43b9-9f0a-671d95c422be"
      },
      "source": [
        "df2.plot.hist(alpha=0.5)"
      ],
      "execution_count": 64,
      "outputs": [
        {
          "output_type": "execute_result",
          "data": {
            "text/plain": [
              "<matplotlib.axes._subplots.AxesSubplot at 0x7f8158b26a10>"
            ]
          },
          "metadata": {
            "tags": []
          },
          "execution_count": 64
        },
        {
          "output_type": "display_data",
          "data": {
            "image/png": "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\n",
            "text/plain": [
              "<Figure size 432x288 with 1 Axes>"
            ]
          },
          "metadata": {
            "tags": [],
            "needs_background": "light"
          }
        }
      ]
    },
    {
      "cell_type": "markdown",
      "metadata": {
        "id": "xjJtBO93mutl"
      },
      "source": [
        "# **Evaluation Metrics**"
      ]
    },
    {
      "cell_type": "code",
      "metadata": {
        "colab": {
          "base_uri": "https://localhost:8080/"
        },
        "id": "MLZbfShzmZWG",
        "outputId": "285d1bde-151f-487f-c364-935a037758ea"
      },
      "source": [
        "from sklearn.metrics import confusion_matrix, accuracy_score\n",
        "print(\"Confusion Matrix:\", confusion_matrix(y_test, y_pred))\n",
        "print(\"Accuracy:\",accuracy_score(y_test,y_pred))"
      ],
      "execution_count": 83,
      "outputs": [
        {
          "output_type": "stream",
          "text": [
            "Confusion Matrix: [[94 13]\n",
            " [18 29]]\n",
            "Accuracy: 0.7987012987012987\n"
          ],
          "name": "stdout"
        }
      ]
    },
    {
      "cell_type": "code",
      "metadata": {
        "colab": {
          "base_uri": "https://localhost:8080/"
        },
        "id": "uDxUN3RMmlGN",
        "outputId": "a559b444-42d7-4ca1-dee5-ef90c81a1b7d"
      },
      "source": [
        "from sklearn import metrics\n",
        "print('Root Mean Squared Error (RMSE):', np.sqrt(metrics.mean_squared_error(y_test, y_pred)))\n",
        "print('Mean Absolute Error (MAE):', metrics.mean_absolute_error(y_test, y_pred))\n",
        "print('Mean Squared Error (MSE):', metrics.mean_squared_error(y_test, y_pred))"
      ],
      "execution_count": 66,
      "outputs": [
        {
          "output_type": "stream",
          "text": [
            "Root Mean Squared Error (RMSE): 0.44866323818505716\n",
            "Mean Absolute Error (MAE): 0.2012987012987013\n",
            "Mean Squared Error (MSE): 0.2012987012987013\n"
          ],
          "name": "stdout"
        }
     },
     "execution_count": 2,
     "metadata": {},
     "output_type": "execute_result"
    }
   ],
   "source": [
    "#import the dataset\n",
    "df = pd.read_csv('../Datasets/diabetes.csv')\n",
    "df.head()\n"
   ]
  },
  {
   "cell_type": "code",
   "execution_count": 3,
   "metadata": {},
   "outputs": [],
   "source": [
    "# Renaming DiabetesPedigreeFunction as DPF\n",
    "df = df.rename(columns={'DiabetesPedigreeFunction':'DPF'})"
   ]
  },
  {
   "cell_type": "code",
   "execution_count": 4,
   "metadata": {},
   "outputs": [],
   "source": [
    "# Replacing the 0 values from ['Glucose','BloodPressure','SkinThickness','Insulin','BMI'] by NaN\n",
    "df_copy = df.copy(deep=True)\n",
    "df_copy[['Glucose','BloodPressure','SkinThickness','Insulin','BMI']] = df_copy[['Glucose','BloodPressure','SkinThickness','Insulin','BMI']].replace(0,np.NaN)"
   ]
  },
  {
   "cell_type": "code",
   "execution_count": 5,
   "metadata": {},
   "outputs": [
    {
     "name": "stdout",
     "output_type": "stream",
     "text": [
      "Total Rows 768\n",
      "Total Rows 9\n"
     ]
    }
   ],
   "source": [
    "# Print No. of rows and columns\n",
    "print(f'Total Rows {df_copy.shape[0]}')\n",
    "print(f'Total Rows {df_copy.shape[1]}')"
   ]
  },
  {
   "cell_type": "markdown",
   "metadata": {},
   "source": [
    "# Data Visualization"
   ]
  },
  {
   "cell_type": "code",
   "execution_count": 6,
   "metadata": {},
   "outputs": [
    {
     "name": "stdout",
     "output_type": "stream",
     "text": [
      "Glucose 0.0065  % missing values\n",
      "BloodPressure 0.0456  % missing values\n",
      "SkinThickness 0.2956  % missing values\n",
      "Insulin 0.487  % missing values\n",
      "BMI 0.0143  % missing values\n"
     ]
    }
   ],
   "source": [
    "#Collect all columns having Missing values and at what percentage\n",
    "columns_with_na=[features for features in df_copy.columns if df_copy[features].isnull().sum()>0]\n",
    "\n",
    "for feature in columns_with_na:\n",
    "    print(feature, np.round(df_copy[feature].isnull().mean(), 4),  ' % missing values')"
   ]
  },
  {
   "cell_type": "code",
   "execution_count": 7,
   "metadata": {},
   "outputs": [
    {
     "data": {
      "image/png": "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\n",
      "text/plain": [
       "<Figure size 432x288 with 1 Axes>"
      ]
     },
     "metadata": {
      "needs_background": "light"
     },
     "output_type": "display_data"
    },
    {
     "data": {
      "image/png": "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\n",
      "text/plain": [
       "<Figure size 432x288 with 1 Axes>"
      ]
     },
     "metadata": {
      "needs_background": "light"
     },
     "output_type": "display_data"
    },
    {
     "data": {
      "image/png": "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\n",
      "text/plain": [
       "<Figure size 432x288 with 1 Axes>"
      ]
     },
     "metadata": {
      "needs_background": "light"
     },
     "output_type": "display_data"
    },
    {
     "data": {
      "image/png": "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\n",
      "text/plain": [
       "<Figure size 432x288 with 1 Axes>"
      ]
     },
     "metadata": {
      "needs_background": "light"
     },
     "output_type": "display_data"
    },
    {
     "data": {
      "image/png": "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\n",
      "text/plain": [
       "<Figure size 432x288 with 1 Axes>"
      ]
     },
     "metadata": {
      "needs_background": "light"
     },
     "output_type": "display_data"
    }
   ],
   "source": [
    "for feature in columns_with_na:\n",
    "    data = df_copy.copy()\n",
    "    data[feature] = np.where(data[feature].isnull(), 1, 0)\n",
    "    data.groupby(feature)['Outcome'].value_counts().plot.bar()\n",
    "    plt.title(feature)\n",
    "    plt.show()"
   ]
  },
  {
   "cell_type": "code",
   "execution_count": 8,
   "metadata": {},
   "outputs": [
    {
     "name": "stdout",
     "output_type": "stream",
     "text": [
      "Number of numerical columns is 9\n"
     ]
    },
    {
     "data": {
      "text/html": [
       "<div>\n",
       "<style scoped>\n",
       "    .dataframe tbody tr th:only-of-type {\n",
       "        vertical-align: middle;\n",
       "    }\n",
       "\n",
       "    .dataframe tbody tr th {\n",
       "        vertical-align: top;\n",
       "    }\n",
       "\n",
       "    .dataframe thead th {\n",
       "        text-align: right;\n",
       "    }\n",
       "</style>\n",
       "<table border=\"1\" class=\"dataframe\">\n",
       "  <thead>\n",
       "    <tr style=\"text-align: right;\">\n",
       "      <th></th>\n",
       "      <th>Pregnancies</th>\n",
       "      <th>Glucose</th>\n",
       "      <th>BloodPressure</th>\n",
       "      <th>SkinThickness</th>\n",
       "      <th>Insulin</th>\n",
       "      <th>BMI</th>\n",
       "      <th>DPF</th>\n",
       "      <th>Age</th>\n",
       "      <th>Outcome</th>\n",
       "    </tr>\n",
       "  </thead>\n",
       "  <tbody>\n",
       "    <tr>\n",
       "      <th>0</th>\n",
       "      <td>6</td>\n",
       "      <td>148.0</td>\n",
       "      <td>72.0</td>\n",
       "      <td>35.0</td>\n",
       "      <td>NaN</td>\n",
       "      <td>33.6</td>\n",
       "      <td>0.627</td>\n",
       "      <td>50</td>\n",
       "      <td>1</td>\n",
       "    </tr>\n",
       "    <tr>\n",
       "      <th>1</th>\n",
       "      <td>1</td>\n",
       "      <td>85.0</td>\n",
       "      <td>66.0</td>\n",
       "      <td>29.0</td>\n",
       "      <td>NaN</td>\n",
       "      <td>26.6</td>\n",
       "      <td>0.351</td>\n",
       "      <td>31</td>\n",
       "      <td>0</td>\n",
       "    </tr>\n",
       "    <tr>\n",
       "      <th>2</th>\n",
       "      <td>8</td>\n",
       "      <td>183.0</td>\n",
       "      <td>64.0</td>\n",
       "      <td>NaN</td>\n",
       "      <td>NaN</td>\n",
       "      <td>23.3</td>\n",
       "      <td>0.672</td>\n",
       "      <td>32</td>\n",
       "      <td>1</td>\n",
       "    </tr>\n",
       "    <tr>\n",
       "      <th>3</th>\n",
       "      <td>1</td>\n",
       "      <td>89.0</td>\n",
       "      <td>66.0</td>\n",
       "      <td>23.0</td>\n",
       "      <td>94.0</td>\n",
       "      <td>28.1</td>\n",
       "      <td>0.167</td>\n",
       "      <td>21</td>\n",
       "      <td>0</td>\n",
       "    </tr>\n",
       "    <tr>\n",
       "      <th>4</th>\n",
       "      <td>0</td>\n",
       "      <td>137.0</td>\n",
       "      <td>40.0</td>\n",
       "      <td>35.0</td>\n",
       "      <td>168.0</td>\n",
       "      <td>43.1</td>\n",
       "      <td>2.288</td>\n",
       "      <td>33</td>\n",
       "      <td>1</td>\n",
       "    </tr>\n",
       "  </tbody>\n",
       "</table>\n",
       "</div>"
      ],
      "text/plain": [
       "   Pregnancies  Glucose  BloodPressure  SkinThickness  Insulin   BMI    DPF  \\\n",
       "0            6    148.0           72.0           35.0      NaN  33.6  0.627   \n",
       "1            1     85.0           66.0           29.0      NaN  26.6  0.351   \n",
       "2            8    183.0           64.0            NaN      NaN  23.3  0.672   \n",
       "3            1     89.0           66.0           23.0     94.0  28.1  0.167   \n",
       "4            0    137.0           40.0           35.0    168.0  43.1  2.288   \n",
       "\n",
       "   Age  Outcome  \n",
       "0   50        1  \n",
       "1   31        0  \n",
       "2   32        1  \n",
       "3   21        0  \n",
       "4   33        1  "
      ]
    }
  ]
}
   ],
   "source": [
    "#Get all the columns having numerical values \n",
    "num_data = [features for features in df_copy.columns if df_copy[features].dtypes != 'O']\n",
    "print(f'Number of numerical columns is {len(num_data)}')\n",
    "\n",
    "df_copy[num_data].head()"
   ]
  },
  {
   "cell_type": "code",
   "execution_count": 9,
   "metadata": {},
   "outputs": [
    {
     "name": "stdout",
     "output_type": "stream",
     "text": [
      "Number of discrete Columns is 1\n",
      "Pregnancies has 17 discrete values\n"
     ]
    },
    {
     "data": {
      "text/html": [
       "<div>\n",
       "<style scoped>\n",
       "    .dataframe tbody tr th:only-of-type {\n",
       "        vertical-align: middle;\n",
       "    }\n",
       "\n",
       "    .dataframe tbody tr th {\n",
       "        vertical-align: top;\n",
       "    }\n",
       "\n",
       "    .dataframe thead th {\n",
       "        text-align: right;\n",
       "    }\n",
       "</style>\n",
       "<table border=\"1\" class=\"dataframe\">\n",
       "  <thead>\n",
       "    <tr style=\"text-align: right;\">\n",
       "      <th></th>\n",
       "      <th>Pregnancies</th>\n",
       "    </tr>\n",
       "  </thead>\n",
       "  <tbody>\n",
       "    <tr>\n",
       "      <th>0</th>\n",
       "      <td>6</td>\n",
       "    </tr>\n",
       "    <tr>\n",
       "      <th>1</th>\n",
       "      <td>1</td>\n",
       "    </tr>\n",
       "    <tr>\n",
       "      <th>2</th>\n",
       "      <td>8</td>\n",
       "    </tr>\n",
       "    <tr>\n",
       "      <th>3</th>\n",
       "      <td>1</td>\n",
       "    </tr>\n",
       "    <tr>\n",
       "      <th>4</th>\n",
       "      <td>0</td>\n",
       "    </tr>\n",
       "  </tbody>\n",
       "</table>\n",
       "</div>"
      ],
      "text/plain": [
       "   Pregnancies\n",
       "0            6\n",
       "1            1\n",
       "2            8\n",
       "3            1\n",
       "4            0"
      ]
     },
     "execution_count": 9,
     "metadata": {},
     "output_type": "execute_result"
    }
   ],
   "source": [
    "# Check if any numerical columns are discrete\n",
    "discrete_columns = [feature for feature in df_copy.columns if len(df_copy[feature].unique()) < 20 and feature not in ['Outcome'] ]\n",
    "print(f'Number of discrete Columns is {len(discrete_columns)}')\n",
    "for i in discrete_columns:\n",
    "    print(f'{i} has {len(df_copy[i].unique())} discrete values')\n",
    "\n",
    "df_copy[discrete_columns].head()"
   ]
  },
  {
   "cell_type": "code",
   "execution_count": 10,
   "metadata": {},
   "outputs": [
    {
     "data": {
      "image/png": "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\n",
      "text/plain": [
       "<Figure size 432x288 with 1 Axes>"
      ]
     },
     "metadata": {
      "needs_background": "light"
     },
     "output_type": "display_data"
    }
   ],
   "source": [
    "#Check distribution of the discrete data\n",
    "for feature in discrete_columns:\n",
    "    dt=df_copy.copy()\n",
    "    dt.groupby(feature)['Outcome'].value_counts().plot.bar()\n",
    "    plt.xlabel(feature)\n",
    "    plt.ylabel('Outcome')\n",
    "    plt.title(feature)\n",
    "    plt.show()"
   ]
  },
  {
   "cell_type": "code",
   "execution_count": 11,
   "metadata": {},
   "outputs": [
    {
     "name": "stdout",
     "output_type": "stream",
     "text": [
      "Number of Continous Columns is 7\n"
     ]
    },
    {
     "data": {
      "text/html": [
       "<div>\n",
       "<style scoped>\n",
       "    .dataframe tbody tr th:only-of-type {\n",
       "        vertical-align: middle;\n",
       "    }\n",
       "\n",
       "    .dataframe tbody tr th {\n",
       "        vertical-align: top;\n",
       "    }\n",
       "\n",
       "    .dataframe thead th {\n",
       "        text-align: right;\n",
       "    }\n",
       "</style>\n",
       "<table border=\"1\" class=\"dataframe\">\n",
       "  <thead>\n",
       "    <tr style=\"text-align: right;\">\n",
       "      <th></th>\n",
       "      <th>Glucose</th>\n",
       "      <th>BloodPressure</th>\n",
       "      <th>SkinThickness</th>\n",
       "      <th>Insulin</th>\n",
       "      <th>BMI</th>\n",
       "      <th>DPF</th>\n",
       "      <th>Age</th>\n",
       "    </tr>\n",
       "  </thead>\n",
       "  <tbody>\n",
       "    <tr>\n",
       "      <th>0</th>\n",
       "      <td>148.0</td>\n",
       "      <td>72.0</td>\n",
       "      <td>35.0</td>\n",
       "      <td>NaN</td>\n",
       "      <td>33.6</td>\n",
       "      <td>0.627</td>\n",
       "      <td>50</td>\n",
       "    </tr>\n",
       "    <tr>\n",
       "      <th>1</th>\n",
       "      <td>85.0</td>\n",
       "      <td>66.0</td>\n",
       "      <td>29.0</td>\n",
       "      <td>NaN</td>\n",
       "      <td>26.6</td>\n",
       "      <td>0.351</td>\n",
       "      <td>31</td>\n",
       "    </tr>\n",
       "    <tr>\n",
       "      <th>2</th>\n",
       "      <td>183.0</td>\n",
       "      <td>64.0</td>\n",
       "      <td>NaN</td>\n",
       "      <td>NaN</td>\n",
       "      <td>23.3</td>\n",
       "      <td>0.672</td>\n",
       "      <td>32</td>\n",
       "    </tr>\n",
       "    <tr>\n",
       "      <th>3</th>\n",
       "      <td>89.0</td>\n",
       "      <td>66.0</td>\n",
       "      <td>23.0</td>\n",
       "      <td>94.0</td>\n",
       "      <td>28.1</td>\n",
       "      <td>0.167</td>\n",
       "      <td>21</td>\n",
       "    </tr>\n",
       "    <tr>\n",
       "      <th>4</th>\n",
       "      <td>137.0</td>\n",
       "      <td>40.0</td>\n",
       "      <td>35.0</td>\n",
       "      <td>168.0</td>\n",
       "      <td>43.1</td>\n",
       "      <td>2.288</td>\n",
       "      <td>33</td>\n",
       "    </tr>\n",
       "  </tbody>\n",
       "</table>\n",
       "</div>"
      ],
      "text/plain": [
       "   Glucose  BloodPressure  SkinThickness  Insulin   BMI    DPF  Age\n",
       "0    148.0           72.0           35.0      NaN  33.6  0.627   50\n",
       "1     85.0           66.0           29.0      NaN  26.6  0.351   31\n",
       "2    183.0           64.0            NaN      NaN  23.3  0.672   32\n",
       "3     89.0           66.0           23.0     94.0  28.1  0.167   21\n",
       "4    137.0           40.0           35.0    168.0  43.1  2.288   33"
      ]
     },
     "execution_count": 11,
     "metadata": {},
     "output_type": "execute_result"
    }
   ],
   "source": [
    "# Check if any numerical columns are continous\n",
    "continous_columns = [feature for feature in num_data if feature not in discrete_columns and feature not in ['Outcome'] ]\n",
    "print(f'Number of Continous Columns is {len(continous_columns)}')\n",
    "\n",
    "df_copy[continous_columns].head()"
   ]
  },
  {
   "cell_type": "code",
   "execution_count": 12,
   "metadata": {},
   "outputs": [
    {
     "data": {
      "image/png": "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\n",
      "text/plain": [
       "<Figure size 432x288 with 1 Axes>"
      ]
     },
     "metadata": {
      "needs_background": "light"
     },
     "output_type": "display_data"
    },
    {
     "data": {
      "image/png": "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\n",
      "text/plain": [
       "<Figure size 432x288 with 1 Axes>"
      ]
     },
     "metadata": {
      "needs_background": "light"
     },
     "output_type": "display_data"
    },
    {
     "data": {
      "image/png": "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\n",
      "text/plain": [
       "<Figure size 432x288 with 1 Axes>"
      ]
     },
     "metadata": {
      "needs_background": "light"
     },
     "output_type": "display_data"
    },
    {
     "data": {
      "image/png": "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\n",
      "text/plain": [
       "<Figure size 432x288 with 1 Axes>"
      ]
     },
     "metadata": {
      "needs_background": "light"
     },
     "output_type": "display_data"
    },
    {
     "data": {
      "image/png": "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\n",
      "text/plain": [
       "<Figure size 432x288 with 1 Axes>"
      ]
     },
     "metadata": {
      "needs_background": "light"
     },
     "output_type": "display_data"
    },
    {
     "data": {
      "image/png": "iVBORw0KGgoAAAANSUhEUgAAAYgAAAEWCAYAAAB8LwAVAAAABHNCSVQICAgIfAhkiAAAAAlwSFlzAAALEgAACxIB0t1+/AAAADh0RVh0U29mdHdhcmUAbWF0cGxvdGxpYiB2ZXJzaW9uMy4yLjIsIGh0dHA6Ly9tYXRwbG90bGliLm9yZy+WH4yJAAAXSUlEQVR4nO3df5Bdd3nf8fcHg41hwT8q2CqyG5lUIRgrTfHiQiiZ3bgUF2hEO0DEGCJnaDUkQEkwATl06v7jqYYGCq1LGQ322ATijeI4sbCBxDgsbtrYRgKDLBvHKhhHtmOVGBsWXBOZp3/sVXS1/kp7d7X33t3V+zWj2Xu/33PPffbxsT46555zbqoKSZJme9qwC5AkLU0GhCSpyYCQJDUZEJKkJgNCktRkQEiSmgwISVKTASHNQ5L7kjye5PtJHk3yv5O8PcnTOvNXJflRkukkjyS5KcnPdOb+Y5K/7cwd/PO+4f5G0pEZENL8/cuqeg7wk8BW4P3AFV3zH6yqEeAMYD9wVdfc71fVSNefDw6qaGm+DAhpgarqsaraAfwysCnJObPmfwj8HnBO6/XSUmdASMeoqm4H9gGv7B5PMgJcCHx1GHVJx8qAkBbHg8DpncfvTfIosBcYAS7qWu5Nnc8uDv75iQHXKfXs6cMuQFoh1gCPdB7/TlX9+yMst72q3jKgmqRj4h6EdIySvJSZgPjzYdciLSYDQlqgJM9N8jpgEvhUVe0edk3SYvIQkzR/n0lyAPgxcBfwYeDjwy1JWnzxC4MkSS0eYpIkNRkQkqQmA0KS1GRASJKalvVZTKtWraq1a9ceNvaDH/yAZz/72cMpaImwB/YA7AHYA2j3YNeuXd+pqufN9dplHRBr165l586dh41NTU0xPj4+nIKWCHtgD8AegD2Adg+SfLuX13qISZLUZEBIkpoMCElSkwEhSWoyICRJTQaEJKnJgJAkNRkQkqQmA0KS1LSsr6QetLVbbpzX8vdtfW2fKpGk/nMPQpLUZEBIkpr6FhBJrkyyP8mds8bfleSeJHuSfLBr/JIkeztzr+5XXZKk3vTzM4irgMuBTx4cSDIBbAB+tqqeSPL8zvjZwEbgxcBPAF9I8tNV9WQf65MkHUXf9iCq6hbgkVnDvwZsraonOsvs74xvACar6omq+hawFzivX7VJkuaWqurfypO1wA1VdU7n+R3A9cAFwP8D3ltVX05yOXBrVX2qs9wVwOeq6trGOjcDmwFGR0fPnZycPGx+enqakZGRvvw+ux94bF7Lr19zSl/qmEs/e7Bc2AN7APYA2j2YmJjYVVVjc7120Ke5Ph04DXgZ8FJge5IXAGks20yuqtoGbAMYGxur2V+E0c8vCLlovqe5XtifOubil6TYA7AHYA/g2How6LOY9gHX1YzbgR8DqzrjZ3Ytdwbw4IBrkyR1GXRA/DHwiwBJfho4EfgOsAPYmOSkJGcB64DbB1ybJKlL3w4xJbkGGAdWJdkHXApcCVzZOfX1R8CmmvkQZE+S7cBdwAHgHZ7BJEnD1beAqKo3H2HqLUdY/jLgsn7VI0maH6+kliQ1GRCSpCYDQpLUZEBIkpoMCElSkwEhSWoyICRJTQaEJKnJgJAkNRkQkqQmA0KS1GRASJKaDAhJUpMBIUlqMiAkSU0GhCSpqW8BkeTKJPs73x43e+69SSrJqq6xS5LsTXJPklf3qy5JUm/6uQdxFXDB7MEkZwKvAu7vGjsb2Ai8uPOajyU5oY+1SZLm0LeAqKpbgEcaU/8FeB9QXWMbgMmqeqKqvgXsBc7rV22SpLn17TupW5L8EvBAVX0tSffUGuDWruf7OmOtdWwGNgOMjo4yNTV12Pz09PRTxhbLxesPzGv5ftUxl372YLmwB/YA7AEcWw8GFhBJngV8APjnrenGWDXGqKptwDaAsbGxGh8fP2x+amqK2WOL5aItN85r+fsu7E8dc+lnD5YLe2APwB7AsfVgkHsQPwWcBRzcezgD+EqS85jZYziza9kzgAcHWJskaZaBneZaVbur6vlVtbaq1jITCi+pqr8GdgAbk5yU5CxgHXD7oGqTJD1VP09zvQb4C+CFSfYleduRlq2qPcB24C7g88A7qurJftUmSZpb3w4xVdWb55hfO+v5ZcBl/apHkjQ/XkktSWoyICRJTQaEJKnJgJAkNRkQkqQmA0KS1GRASJKaDAhJUpMBIUlqMiAkSU0GhCSpyYCQJDUZEJKkJgNCktRkQEiSmgwISVJTP79R7sok+5Pc2TX2n5N8I8nXk/xRklO75i5JsjfJPUle3a+6JEm96ecexFXABbPGbgLOqaqfBf4SuAQgydnARuDFndd8LMkJfaxNkjSHvgVEVd0CPDJr7E+r6kDn6a3AGZ3HG4DJqnqiqr4F7AXO61dtkqS5par6t/JkLXBDVZ3TmPsM8PtV9akklwO3VtWnOnNXAJ+rqmsbr9sMbAYYHR09d3Jy8rD56elpRkZGFvtXAWD3A4/1Zb0HrV9zyqKsp589WC7sgT0AewDtHkxMTOyqqrG5Xvv0vlV1FEk+ABwAPn1wqLFYM7mqahuwDWBsbKzGx8cPm5+ammL22GK5aMuNfVnvQfddOL4o6+lnD5YLe2APwB7AsfVg4AGRZBPwOuD8OrT7sg84s2uxM4AHB12bJOmQgZ7mmuQC4P3AL1XVD7umdgAbk5yU5CxgHXD7IGuTJB2ub3sQSa4BxoFVSfYBlzJz1tJJwE1JYOZzh7dX1Z4k24G7mDn09I6qerJftUmS5ta3gKiqNzeGrzjK8pcBl/WrHknS/HgltSSpyYCQJDUZEJKkJgNCktRkQEiSmgwISVKTASFJajIgJElNBoQkqcmAkCQ1GRCSpCYDQpLUZEBIkpoMCElSkwEhSWoyICRJTX0LiCRXJtmf5M6usdOT3JTk3s7P07rmLkmyN8k9SV7dr7okSb3p5x7EVcAFs8a2ADdX1Trg5s5zkpwNbARe3HnNx5Kc0MfaJElz6FtAVNUtwCOzhjcAV3ceXw28vmt8sqqeqKpvAXuB8/pVmyRpbqmq/q08WQvcUFXndJ4/WlWnds1/t6pOS3I5cGtVfaozfgXwuaq6trHOzcBmgNHR0XMnJycPm5+enmZkZKQvv8/uBx7ry3oPWr/mlEVZTz97sFzYA3sA9gDaPZiYmNhVVWNzvfbpfatqftIYayZXVW0DtgGMjY3V+Pj4YfNTU1PMHlssF225sS/rPei+C8cXZT397MFyYQ/sAdgDOLYeDPospoeTrAbo/NzfGd8HnNm13BnAgwOuTZLUZdABsQPY1Hm8Cbi+a3xjkpOSnAWsA24fcG2SpC59O8SU5BpgHFiVZB9wKbAV2J7kbcD9wBsBqmpPku3AXcAB4B1V9WS/apMkza2ngEjyiqr6X3ONdauqNx9h6vwjLH8ZcFkv9UiS+q/XQ0z/rccxSdIKcdQ9iCQvB34eeF6S93RNPRfwQjZJWsHmOsR0IjDSWe45XePfA97Qr6IkScN31ICoqi8BX0pyVVV9e0A1SZKWgF7PYjopyTZgbfdrquoX+1GUJGn4eg2IPwA+DnwC8PRTSToO9BoQB6rqf/S1EknSktLraa6fSfLrSVZ3vtPh9CSn97UySdJQ9boHcfD2GL/VNVbACxa3HEnSUtFTQFTVWf0uRLB2nneLvW/ra/tUiST1fquNX2mNV9UnF7ccSdJS0eshppd2PX4mM/dT+gpgQEjSCtXrIaZ3dT9Pcgrwu32paIDme0hHko4nC/0+iB8y850NkqQVqtfPID7Doa8APQF4EbC9X0VJkoav188gfqfr8QHg21W1rw/1SJKWiJ4OMXVu2vcNZu7oehrwo2N50yS/mWRPkjuTXJPkmZ2L725Kcm/n52nH8h6SpGPTU0AkeRMz3xH9RuBNwG1JFnS77yRrgH8HjFXVOcwcstoIbAFurqp1wM2d55KkIen1ENMHgJdW1X6AJM8DvgBcewzve3KSvwWeBTwIXMLMd1gDXA1MAe9f4PolSccoVTX3Qsnuqlrf9fxpwNe6x+b1psm7mfn+6ceBP62qC5M8WlWndi3z3ap6ymGmJJuBzQCjo6PnTk5OHjY/PT3NyMhIT3XsfuCxhZS/ZKxfc0pzfD49WKnsgT0AewDtHkxMTOyqqrG5XtvrHsTnk/wJcE3n+S8Dn51XlR2dzxY2AGcBjwJ/kOQtvb6+qrYB2wDGxsZqfHz8sPmpqSlmjx3JRcv8Ooj7Lhxvjs+nByuVPbAHYA/g2How13dS/0NgtKp+K8m/Bv4pEOAvgE8v6B3hnwHfqqr/23mP65j53uuHk6yuqoeSrAb2L3D9kqRFMNeH1B8Bvg9QVddV1Xuq6jeZ2Xv4yALf837gZUmelSTM3LbjbmAHh+4auwm4foHrlyQtgrkOMa2tqq/PHqyqnUnWLuQNq+q2JNcycy+nA8BXmTlkNAJsT/I2ZkLkjQtZvyRpccwVEM88ytzJC33TqroUuHTW8BPM7E1IkpaAuQ4xfTnJv5092PlX/q7+lCRJWgrm2oP4DeCPklzIoUAYA04E/lU/C5MkDddRA6KqHgZ+PskEcE5n+Maq+rO+VyZJGqpevw/ii8AX+1yLJGkJWej3QUiSVjgDQpLUZEBIkpoMCElSkwEhSWoyICRJTQaEJKnJgJAkNRkQkqSmXr9RTkvQ2iN8I97F6w80vy3vvq2v7XdJklYQ9yAkSU0GhCSpaSgBkeTUJNcm+UaSu5O8PMnpSW5Kcm/n52nDqE2SNGNYexAfBT5fVT8D/CNmvpN6C3BzVa0Dbu48lyQNycADIslzgV8ArgCoqh9V1aPABuDqzmJXA68fdG2SpENSVYN9w+TngG3AXczsPewC3g08UFWndi333ap6ymGmJJuBzQCjo6PnTk5OHjY/PT3NyMhIT7XsfuCxBf4WS9voyfDw44uzrvVrTlmcFQ3YfLaDlcoe2ANo92BiYmJXVY3N9dphBMQYcCvwiqq6LclHge8B7+olILqNjY3Vzp07DxubmppifHy8p1qOdJrocnfx+gN8aPfinMG8XE+Nnc92sFLZA3sA7R4k6SkghnEdxD5gX1Xd1nl+LTOfNzycZHVVPZRkNbB/CLVplvmG6HINFElPNfDPIKrqr4G/SvLCztD5zBxu2gFs6oxtAq4fdG2SpEOGdSX1u4BPJzkR+Cbwq8yE1fYkbwPuB944pNokSQwpIKrqDqB1/Ov8QdciSWrzSmpJUpMBIUlqMiAkSU0GhCSpyYCQJDUZEJKkJgNCktRkQEiSmgwISVKTASFJajIgJElNBoQkqcmAkCQ1GRCSpCYDQpLUZEBIkpqGFhBJTkjy1SQ3dJ6fnuSmJPd2fp42rNokScPdg3g3cHfX8y3AzVW1Dri581ySNCRDCYgkZwCvBT7RNbwBuLrz+Grg9YOuS5J0yLD2ID4CvA/4cdfYaFU9BND5+fxhFCZJmpGqGuwbJq8DXlNVv55kHHhvVb0uyaNVdWrXct+tqqd8DpFkM7AZYHR09NzJycnD5qenpxkZGemplt0PPLbwX2QJGz0ZHn58OO+9fs0pw3njWeazHaxU9sAeQLsHExMTu6pqbK7XDiMg/hPwVuAA8EzgucB1wEuB8ap6KMlqYKqqXni0dY2NjdXOnTsPG5uammJ8fLynWtZuuXHe9S8HF68/wId2P30o733f1tcO5X1nm892sFLZA3sA7R4k6SkgBn6IqaouqaozqmotsBH4s6p6C7AD2NRZbBNw/aBrkyQdspSug9gKvCrJvcCrOs8lSUMynOMQHVU1BUx1Hv8NcP4w65EkHbKU9iAkSUuIASFJajIgJElNBoQkqcmAkCQ1GRCSpKahnuaqlWe+V6cvlSuvJT2VexCSpCYDQpLUZEBIkpoMCElSkwEhSWryLCYNlWc9SUuXexCSpCYDQpLUZEBIkpoMCElS08ADIsmZSb6Y5O4ke5K8uzN+epKbktzb+XnaoGuTJB0yjD2IA8DFVfUi4GXAO5KcDWwBbq6qdcDNneeSpCEZeEBU1UNV9ZXO4+8DdwNrgA3A1Z3FrgZeP+jaJEmHpKqG9+bJWuAW4Bzg/qo6tWvuu1X1lMNMSTYDmwFGR0fPnZycPGx+enqakZGRnt5/9wOPLbT0JW30ZHj48WFX0R/r15zS03Lz2Q5WKntgD6Ddg4mJiV1VNTbXa4cWEElGgC8Bl1XVdUke7SUguo2NjdXOnTsPG5uammJ8fLynGuZ7kdZycfH6A3xo98q8BrLXC+Xmsx2sVPbAHkC7B0l6Coih/C2S5BnAHwKfrqrrOsMPJ1ldVQ8lWQ3sH0ZtWtp6DfWL1x/goi03euW1dAyGcRZTgCuAu6vqw11TO4BNncebgOsHXZsk6ZBh7EG8AngrsDvJHZ2x3wa2AtuTvA24H3jjEGqTJHUMPCCq6s+BHGH6/EHWIkk6Mq+kliQ1GRCSpCYDQpLUZEBIkppW5tVU0gIt5OJJr7XQSuUehCSpyYCQJDUZEJKkJj+D0Io2iBsyzvc9/MxCy4V7EJKkJvcgpCXOPRQNi3sQkqQmA0KS1GRASJKaDAhJUpMfUksDthK+C90Pzo8PSy4gklwAfBQ4AfhEVW0dckmS1HdLMXSX1CGmJCcA/x34F8DZwJuTnD3cqiTp+LTU9iDOA/ZW1TcBkkwCG4C7hlqVtIItxavN52u+/5oexL/WV8KhxFTVsGv4O0neAFxQVf+m8/ytwD+pqnd2LbMZ2Nx5+kLgnlmrWQV8ZwDlLmX2wB6APQB7AO0e/GRVPW+uFy61PYg0xg5LsKraBmw74gqSnVU1ttiFLSf2wB6APQB7AMfWgyX1GQSwDziz6/kZwINDqkWSjmtLLSC+DKxLclaSE4GNwI4h1yRJx6UldYipqg4keSfwJ8yc5nplVe2Z52qOePjpOGIP7AHYA7AHcAw9WFIfUkuSlo6ldohJkrREGBCSpKZlGxBJLkhyT5K9SbY05pPkv3bmv57kJcOos5966MF4kseS3NH58x+GUWe/JLkyyf4kdx5h/njYBubqwYreBgCSnJnki0nuTrInybsby6zobaHHHsx/W6iqZfeHmQ+w/w/wAuBE4GvA2bOWeQ3wOWaurXgZcNuw6x5CD8aBG4Zdax978AvAS4A7jzC/oreBHnuworeBzu+4GnhJ5/FzgL88Dv8+6KUH894WlusexN/dkqOqfgQcvCVHtw3AJ2vGrcCpSVYPutA+6qUHK1pV3QI8cpRFVvo20EsPVryqeqiqvtJ5/H3gbmDNrMVW9LbQYw/mbbkGxBrgr7qe7+OpzehlmeWs19/v5Um+luRzSV48mNKWjJW+DfTquNkGkqwF/jFw26yp42ZbOEoPYJ7bwpK6DmIe5rwlR4/LLGe9/H5fYeaeK9NJXgP8MbCu75UtHSt9G+jFcbMNJBkB/hD4jar63uzpxktW3LYwRw/mvS0s1z2IXm7JsdJv2zHn71dV36uq6c7jzwLPSLJqcCUO3UrfBuZ0vGwDSZ7BzF+Mn66q6xqLrPhtYa4eLGRbWK4B0cstOXYAv9I5e+FlwGNV9dCgC+2jOXuQ5O8nSefxecz89/6bgVc6PCt9G5jT8bANdH6/K4C7q+rDR1hsRW8LvfRgIdvCsjzEVEe4JUeSt3fmPw58lpkzF/YCPwR+dVj19kOPPXgD8GtJDgCPAxurczrDSpDkGmbOzFiVZB9wKfAMOD62AeipByt6G+h4BfBWYHeSOzpjvw38AzhutoVeejDvbcFbbUiSmpbrISZJUp8ZEJKkJgNCktRkQEiSmgwISVKTASEtQJInO3fE3NO5dcF7kjytM3fwrplf7dxd89JZ4wfvpvmF4f4W0tEty+sgpCXg8ar6OYAkzwd+DziFmesQAP5nVb0uybOBO5Lc0D0++HKl+XMPQjpGVbUf2Ay88+CVql1zPwB2AT81jNqkY2FASIugqr7JzP9Pz+8eT/L3mPn+gT2doVd2HWL6wIDLlObFQ0zS4unee3hlkq8CPwa2dm6DMo6HmLSMGBDSIkjyAuBJYD/wIgwCrQAeYpKOUZLnAR8HLl+BN8LTccw9CGlhTu7cNfMZwAHgd4Ej3WpaWpa8m6skqclDTJKkJgNCktRkQEiSmgwISVKTASFJajIgJElNBoQkqen/A9sn6diKVP7AAAAAAElFTkSuQmCC\n",
      "text/plain": [
       "<Figure size 432x288 with 1 Axes>"
      ]
     },
     "metadata": {
      "needs_background": "light"
     },
     "output_type": "display_data"
    },
    {
     "data": {
      "image/png": "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\n",
      "text/plain": [
       "<Figure size 432x288 with 1 Axes>"
      ]
     },
     "metadata": {
      "needs_background": "light"
     },
     "output_type": "display_data"
    }
   ],
   "source": [
    "#Check distribution of the Continous data\n",
    "for feature in continous_columns:\n",
    "    dt = df_copy.copy()\n",
    "    dt[feature].hist(bins=25)\n",
    "    plt.xlabel(feature)\n",
    "    plt.ylabel(\"Count\")\n",
    "    plt.title(feature)\n",
    "    plt.show()"
   ]
  },
  {
   "cell_type": "markdown",
   "metadata": {},
   "source": [
    "# Data Preprocessing"
   ]
  },
  {
   "cell_type": "code",
   "execution_count": 13,
   "metadata": {},
   "outputs": [
    {
     "name": "stdout",
     "output_type": "stream",
     "text": [
      "Glucose 0.0065  % missing values\n",
      "BloodPressure 0.0456  % missing values\n",
      "SkinThickness 0.2956  % missing values\n",
      "Insulin 0.487  % missing values\n",
      "BMI 0.0143  % missing values\n"
     ]
    }
   ],
   "source": [
    "#Collect all columns having Missing values and at what percentage\n",
    "columns_with_na=[features for features in df_copy.columns if df_copy[features].isnull().sum()>0]\n",
    "\n",
    "for feature in columns_with_na:\n",
    "    print(feature, np.round(df_copy[feature].isnull().mean(), 4),  ' % missing values')"
   ]
  },
  {
   "cell_type": "code",
   "execution_count": 14,
   "metadata": {},
   "outputs": [
    {
     "data": {
      "text/plain": [
       "Glucose          0\n",
       "BloodPressure    0\n",
       "SkinThickness    0\n",
       "Insulin          0\n",
       "BMI              0\n",
       "dtype: int64"
      ]
     },
     "execution_count": 14,
     "metadata": {},
     "output_type": "execute_result"
    }
   ],
   "source": [
    "#Replace Nan Values with median of that column and make new column as df_copy[feature_nan]. Give it value 1 is Nan is present else 0 \n",
    "for feature in columns_with_na:\n",
    "    median_value = df_copy[feature].mean()\n",
    "    df_copy[feature+'nan'] = np.where(df_copy[feature].isnull(), 1, 0)\n",
    "    df_copy[feature].fillna(median_value, inplace = True)\n",
    "    \n",
    "df_copy[columns_with_na].isnull().sum()"
   ]
  },
  {
   "cell_type": "code",
   "execution_count": 15,
   "metadata": {},
   "outputs": [
    {
     "data": {
      "text/html": [
       "<div>\n",
       "<style scoped>\n",
       "    .dataframe tbody tr th:only-of-type {\n",
       "        vertical-align: middle;\n",
       "    }\n",
       "\n",
       "    .dataframe tbody tr th {\n",
       "        vertical-align: top;\n",
       "    }\n",
       "\n",
       "    .dataframe thead th {\n",
       "        text-align: right;\n",
       "    }\n",
       "</style>\n",
       "<table border=\"1\" class=\"dataframe\">\n",
       "  <thead>\n",
       "    <tr style=\"text-align: right;\">\n",
       "      <th></th>\n",
       "      <th>Pregnancies</th>\n",
       "      <th>Glucose</th>\n",
       "      <th>BloodPressure</th>\n",
       "      <th>SkinThickness</th>\n",
       "      <th>Insulin</th>\n",
       "      <th>BMI</th>\n",
       "      <th>DPF</th>\n",
       "      <th>Age</th>\n",
       "      <th>Outcome</th>\n",
       "      <th>Glucosenan</th>\n",
       "      <th>BloodPressurenan</th>\n",
       "      <th>SkinThicknessnan</th>\n",
       "      <th>Insulinnan</th>\n",
       "      <th>BMInan</th>\n",
       "    </tr>\n",
       "  </thead>\n",
       "  <tbody>\n",
       "    <tr>\n",
       "      <th>0</th>\n",
       "      <td>6</td>\n",
       "      <td>148.0</td>\n",
       "      <td>72.0</td>\n",
       "      <td>35.00000</td>\n",
       "      <td>155.548223</td>\n",
       "      <td>33.6</td>\n",
       "      <td>0.627</td>\n",
       "      <td>50</td>\n",
       "      <td>1</td>\n",
       "      <td>0</td>\n",
       "      <td>0</td>\n",
       "      <td>0</td>\n",
       "      <td>1</td>\n",
       "      <td>0</td>\n",
       "    </tr>\n",
       "    <tr>\n",
       "      <th>1</th>\n",
       "      <td>1</td>\n",
       "      <td>85.0</td>\n",
       "      <td>66.0</td>\n",
       "      <td>29.00000</td>\n",
       "      <td>155.548223</td>\n",
       "      <td>26.6</td>\n",
       "      <td>0.351</td>\n",
       "      <td>31</td>\n",
       "      <td>0</td>\n",
       "      <td>0</td>\n",
       "      <td>0</td>\n",
       "      <td>0</td>\n",
       "      <td>1</td>\n",
       "      <td>0</td>\n",
       "    </tr>\n",
       "    <tr>\n",
       "      <th>2</th>\n",
       "      <td>8</td>\n",
       "      <td>183.0</td>\n",
       "      <td>64.0</td>\n",
       "      <td>29.15342</td>\n",
       "      <td>155.548223</td>\n",
       "      <td>23.3</td>\n",
       "      <td>0.672</td>\n",
       "      <td>32</td>\n",
       "      <td>1</td>\n",
       "      <td>0</td>\n",
       "      <td>0</td>\n",
       "      <td>1</td>\n",
       "      <td>1</td>\n",
       "      <td>0</td>\n",
       "    </tr>\n",
       "    <tr>\n",
       "      <th>3</th>\n",
       "      <td>1</td>\n",
       "      <td>89.0</td>\n",
       "      <td>66.0</td>\n",
       "      <td>23.00000</td>\n",
       "      <td>94.000000</td>\n",
       "      <td>28.1</td>\n",
       "      <td>0.167</td>\n",
       "      <td>21</td>\n",
       "      <td>0</td>\n",
       "      <td>0</td>\n",
       "      <td>0</td>\n",
       "      <td>0</td>\n",
       "      <td>0</td>\n",
       "      <td>0</td>\n",
       "    </tr>\n",
       "    <tr>\n",
       "      <th>4</th>\n",
       "      <td>0</td>\n",
       "      <td>137.0</td>\n",
       "      <td>40.0</td>\n",
       "      <td>35.00000</td>\n",
       "      <td>168.000000</td>\n",
       "      <td>43.1</td>\n",
       "      <td>2.288</td>\n",
       "      <td>33</td>\n",
       "      <td>1</td>\n",
       "      <td>0</td>\n",
       "      <td>0</td>\n",
       "      <td>0</td>\n",
       "      <td>0</td>\n",
       "      <td>0</td>\n",
       "    </tr>\n",
       "  </tbody>\n",
       "</table>\n",
       "</div>"
      ],
      "text/plain": [
       "   Pregnancies  Glucose  BloodPressure  SkinThickness     Insulin   BMI  \\\n",
       "0            6    148.0           72.0       35.00000  155.548223  33.6   \n",
       "1            1     85.0           66.0       29.00000  155.548223  26.6   \n",
       "2            8    183.0           64.0       29.15342  155.548223  23.3   \n",
       "3            1     89.0           66.0       23.00000   94.000000  28.1   \n",
       "4            0    137.0           40.0       35.00000  168.000000  43.1   \n",
       "\n",
       "     DPF  Age  Outcome  Glucosenan  BloodPressurenan  SkinThicknessnan  \\\n",
       "0  0.627   50        1           0                 0                 0   \n",
       "1  0.351   31        0           0                 0                 0   \n",
       "2  0.672   32        1           0                 0                 1   \n",
       "3  0.167   21        0           0                 0                 0   \n",
       "4  2.288   33        1           0                 0                 0   \n",
       "\n",
       "   Insulinnan  BMInan  \n",
       "0           1       0  \n",
       "1           1       0  \n",
       "2           1       0  \n",
       "3           0       0  \n",
       "4           0       0  "
      ]
     },
     "execution_count": 15,
     "metadata": {},
     "output_type": "execute_result"
    }
   ],
   "source": [
    "df_copy.head()"
   ]
  },
  {
   "cell_type": "code",
   "execution_count": 16,
   "metadata": {},
   "outputs": [],
   "source": [
    "# Remove any duplicate entry\n",
    "final_df =df_copy.loc[:,~df_copy.columns.duplicated()]"
   ]
  },
  {
   "cell_type": "code",
   "execution_count": 17,
   "metadata": {},
   "outputs": [
    {
     "data": {
      "text/plain": [
       "(768, 14)"
      ]
     },
     "execution_count": 17,
     "metadata": {},
     "output_type": "execute_result"
    }
   ],
   "source": [
    "final_df.shape"
   ]
  },
  {
   "cell_type": "code",
   "execution_count": 18,
   "metadata": {},
   "outputs": [],
   "source": [
    "# Model Building\n",
    "from sklearn.model_selection import train_test_split\n",
    "X = df.drop(columns='Outcome')\n",
    "y = df['Outcome']\n",
    "X_train, X_test, y_train, y_test = train_test_split(X, y, test_size=0.20, random_state=0)"
   ]
  },
  {
   "cell_type": "markdown",
   "metadata": {},
   "source": [
    "# Naive Bayes"
   ]
  },
  {
   "cell_type": "code",
   "execution_count": 19,
   "metadata": {},
   "outputs": [],
   "source": [
    "from sklearn.naive_bayes import GaussianNB\n",
    "classifier = GaussianNB()\n"
   ]
  },
  {
   "cell_type": "code",
   "execution_count": 20,
   "metadata": {},
   "outputs": [
    {
     "data": {
      "text/plain": [
       "GaussianNB()"
      ]
     },
     "execution_count": 20,
     "metadata": {},
     "output_type": "execute_result"
    }
   ],
   "source": [
    "classifier.fit(X_train, y_train)"
   ]
  },
  {
   "cell_type": "code",
   "execution_count": 21,
   "metadata": {},
   "outputs": [
    {
     "data": {
      "text/plain": [
       "array([1, 0, 0, 1, 0, 0, 1, 1, 1, 0, 1, 1, 0, 1, 0, 0, 1, 0, 0, 0, 1, 0,\n",
       "       0, 0, 0, 0, 0, 1, 0, 0, 0, 0, 0, 0, 0, 1, 1, 0, 0, 1, 0, 0, 0, 1,\n",
       "       1, 0, 0, 0, 0, 0, 0, 0, 1, 1, 0, 0, 0, 0, 0, 0, 1, 1, 0, 1, 1, 1,\n",
       "       1, 0, 0, 0, 0, 0, 0, 1, 1, 0, 0, 1, 0, 0, 0, 0, 0, 0, 0, 0, 0, 0,\n",
       "       1, 0, 0, 0, 0, 0, 1, 0, 0, 1, 1, 0, 0, 0, 0, 0, 1, 0, 0, 0, 0, 1,\n",
       "       0, 0, 1, 1, 1, 1, 0, 1, 0, 1, 0, 1, 0, 1, 0, 0, 0, 0, 0, 0, 0, 0,\n",
       "       0, 1, 0, 0, 0, 0, 1, 0, 0, 0, 0, 0, 0, 0, 0, 0, 0, 0, 0, 0, 0, 0],\n",
       "      dtype=int64)"
      ]
     },
     "execution_count": 21,
     "metadata": {},
     "output_type": "execute_result"
    }
   ],
   "source": [
    "y_pred = classifier.predict(X_test)\n",
    "y_pred"
   ]
  },
  {
   "cell_type": "code",
   "execution_count": 22,
   "metadata": {},
   "outputs": [
    {
     "name": "stdout",
     "output_type": "stream",
     "text": [
      "[[93 14]\n",
      " [18 29]]\n",
      "0.7922077922077922\n"
     ]
    }
   ],
   "source": [
    "from sklearn.metrics import confusion_matrix, accuracy_score\n",
    "cm = confusion_matrix(y_test, y_pred)\n",
    "print(cm)\n",
    "print(accuracy_score(y_test, y_pred))"
   ]
  },
  {
   "cell_type": "markdown",
   "metadata": {},
   "source": [
    "# Random Forest"
   ]
  },
  {
   "cell_type": "code",
   "execution_count": 23,
   "metadata": {},
   "outputs": [
    {
     "name": "stdout",
     "output_type": "stream",
     "text": [
      "Fitting 5 folds for each of 5 candidates, totalling 25 fits\n"
     ]
    },
    {
     "name": "stderr",
     "output_type": "stream",
     "text": [
      "[Parallel(n_jobs=4)]: Using backend LokyBackend with 4 concurrent workers.\n",
      "[Parallel(n_jobs=4)]: Done  10 tasks      | elapsed:    2.5s\n",
      "[Parallel(n_jobs=4)]: Done  25 out of  25 | elapsed:    2.9s finished\n"
     ]
    },
    {
     "data": {
      "text/plain": [
       "RandomForestClassifier(max_depth=3, n_estimators=50)"
      ]
     },
     "execution_count": 23,
     "metadata": {},
     "output_type": "execute_result"
    }
   ],
   "source": [
    "# Creating Random Forest Model\n",
    "from sklearn.ensemble import RandomForestClassifier\n",
    "from sklearn.model_selection import RandomizedSearchCV\n",
    "\n",
    "clf = RandomForestClassifier()\n",
    "\n",
    "n_estimators = [10, 20, 30, 50, 100]\n",
    "max_depth = [2, 3, 5, 7, 10]\n",
    "\n",
    "# Define the grid of hyperparameters to search\n",
    "hyperparameter_grid = {\n",
    "    'n_estimators': n_estimators,\n",
    "    'max_depth':max_depth,\n",
    "    }\n",
    "random_cv = RandomizedSearchCV(estimator=clf,param_distributions=hyperparameter_grid,\n",
    "                               cv=5, n_iter=5,scoring = 'neg_mean_absolute_error',n_jobs = 4,verbose = 5,\n",
    "                               return_train_score = True,random_state=42)\n",
    "random_cv.fit(X_train,y_train)\n",
    "random_cv.best_estimator_"
   ]
  },
  {
   "cell_type": "code",
   "execution_count": 24,
   "metadata": {},
   "outputs": [
    {
     "data": {
      "text/plain": [
       "RandomForestClassifier(max_depth=10, n_estimators=50)"
      ]
     },
     "execution_count": 24,
     "metadata": {},
     "output_type": "execute_result"
    }
   ],
   "source": [
    "clf = RandomForestClassifier(max_depth=10, n_estimators=50)\n",
    "clf.fit(X_train, y_train)"
   ]
  },
  {
   "cell_type": "code",
   "execution_count": 25,
   "metadata": {},
   "outputs": [
    {
     "data": {
      "text/plain": [
       "array([1, 0, 0, 1, 0, 0, 1, 1, 0, 0, 1, 1, 0, 0, 0, 0, 1, 0, 0, 0, 1, 0,\n",
       "       0, 0, 0, 0, 0, 1, 0, 0, 0, 0, 0, 1, 0, 1, 1, 0, 0, 1, 0, 0, 0, 1,\n",
       "       1, 0, 0, 0, 0, 0, 0, 0, 1, 1, 0, 0, 0, 0, 0, 0, 1, 1, 0, 1, 1, 0,\n",
       "       1, 0, 1, 0, 0, 0, 0, 1, 1, 0, 0, 1, 0, 0, 0, 0, 0, 0, 0, 0, 0, 0,\n",
       "       1, 0, 0, 0, 0, 0, 1, 0, 0, 0, 0, 0, 0, 0, 0, 0, 1, 1, 0, 0, 0, 0,\n",
       "       0, 0, 1, 1, 1, 1, 0, 0, 0, 1, 0, 0, 0, 0, 0, 0, 0, 0, 0, 0, 0, 0,\n",
       "       0, 1, 0, 1, 0, 1, 1, 0, 0, 1, 0, 0, 1, 0, 0, 0, 0, 0, 0, 0, 0, 0],\n",
       "      dtype=int64)"
      ]
     },
     "execution_count": 25,
     "metadata": {},
     "output_type": "execute_result"
    }
   ],
   "source": [
    "y_pred = clf.predict(X_test)\n",
    "y_pred"
   ]
  },
  {
   "cell_type": "code",
   "execution_count": 26,
   "metadata": {},
   "outputs": [
    {
     "name": "stdout",
     "output_type": "stream",
     "text": [
      "[[96 11]\n",
      " [17 30]]\n",
      "0.8181818181818182\n"
     ]
    }
   ],
   "source": [
    "from sklearn.metrics import confusion_matrix, accuracy_score\n",
    "cm = confusion_matrix(y_test, y_pred)\n",
    "print(cm)\n",
    "print(accuracy_score(y_test, y_pred))"
   ]
  },
  {
   "cell_type": "markdown",
   "metadata": {},
   "source": [
    "# Decision Tree"
   ]
  },
  {
   "cell_type": "code",
   "execution_count": 27,
   "metadata": {},
   "outputs": [
    {
     "data": {
      "text/plain": [
       "DecisionTreeClassifier(max_depth=3, max_features=6, min_samples_leaf=6)"
      ]
     },
     "execution_count": 27,
     "metadata": {},
     "output_type": "execute_result"
    }
   ],
   "source": [
    "from sklearn.tree import DecisionTreeClassifier\n",
    "from sklearn.model_selection import GridSearchCV\n",
    "classifier = DecisionTreeClassifier()\n",
    "\n",
    "from scipy.stats import randint\n",
    "from sklearn.model_selection import RandomizedSearchCV\n",
    "\n",
    "parameters = {\"max_depth\":[2,3, None],\n",
    "              \"max_features\":randint(1,9),\n",
    "              \"min_samples_leaf\":randint(1,8),\n",
    "              \"criterion\": [\"gini\", \"entropy\"]\n",
    "}\n",
    "\n",
    "tree_cv = RandomizedSearchCV(classifier, parameters, cv = 5)\n",
    "tree_cv.fit(X_train, y_train)\n",
    "tree_cv.best_estimator_"
   ]
  },
  {
   "cell_type": "code",
   "execution_count": 28,
   "metadata": {},
   "outputs": [
    {
     "data": {
      "text/plain": [
       "DecisionTreeClassifier(max_depth=2, max_features=6, min_samples_leaf=7)"
      ]
     },
     "execution_count": 28,
     "metadata": {},
     "output_type": "execute_result"
    }
   ],
   "source": [
    "classifier = DecisionTreeClassifier(max_depth=2, max_features=6, min_samples_leaf=7)\n",
    "classifier.fit(X_train, y_train)"
   ]
  },
  {
   "cell_type": "code",
   "execution_count": 29,
   "metadata": {},
   "outputs": [
    {
     "data": {
      "text/plain": [
       "array([1, 0, 0, 0, 0, 0, 1, 1, 0, 0, 1, 1, 0, 0, 0, 0, 1, 0, 0, 0, 1, 0,\n",
       "       0, 0, 0, 1, 0, 1, 0, 0, 0, 0, 0, 0, 0, 1, 0, 0, 0, 1, 0, 0, 0, 1,\n",
       "       1, 0, 0, 0, 0, 1, 0, 0, 1, 1, 0, 0, 0, 0, 0, 0, 1, 1, 0, 1, 1, 0,\n",
       "       1, 0, 0, 0, 0, 0, 0, 1, 1, 1, 0, 0, 0, 0, 0, 1, 0, 0, 0, 0, 0, 0,\n",
       "       1, 0, 0, 0, 0, 0, 1, 0, 0, 1, 0, 0, 0, 0, 0, 0, 1, 0, 0, 1, 0, 0,\n",
       "       0, 0, 1, 1, 1, 1, 0, 0, 0, 0, 0, 0, 0, 0, 0, 0, 1, 0, 0, 0, 0, 0,\n",
       "       0, 1, 0, 0, 0, 0, 0, 0, 0, 1, 0, 0, 0, 0, 0, 0, 0, 0, 0, 1, 0, 0],\n",
       "      dtype=int64)"
      ]
     },
     "execution_count": 29,
     "metadata": {},
     "output_type": "execute_result"
    }
   ],
   "source": [
    "y_pred = classifier.predict(X_test)\n",
    "y_pred"
   ]
  },
  {
   "cell_type": "code",
   "execution_count": 30,
   "metadata": {},
   "outputs": [
    {
     "name": "stdout",
     "output_type": "stream",
     "text": [
      "[[93 14]\n",
      " [23 24]]\n",
      "0.7597402597402597\n"
     ]
    }
   ],
   "source": [
    "from sklearn.metrics import confusion_matrix, accuracy_score\n",
    "cm = confusion_matrix(y_test, y_pred)\n",
    "print(cm)\n",
    "print(accuracy_score(y_test, y_pred))"
   ]
  },
  {
   "cell_type": "code",
   "execution_count": null,
   "metadata": {},
   "outputs": [],
   "source": []
  },
  {
   "cell_type": "code",
   "execution_count": 33,
   "metadata": {},
   "outputs": [],
   "source": [
    "# Creating a pickle file for the classifier\n",
    "import pickle\n",
    "filename = 'diabetes-model.pkl'\n",
    "pickle.dump(clf, open(filename, 'wb'))"
   ]
  }
 ],
 "metadata": {
  "kernelspec": {
   "display_name": "Python 3",
   "language": "python",
   "name": "python3"
  },
  "language_info": {
   "codemirror_mode": {
    "name": "ipython",
    "version": 3
   },
   "file_extension": ".py",
   "mimetype": "text/x-python",
   "name": "python",
   "nbconvert_exporter": "python",
   "pygments_lexer": "ipython3",
   "version": "3.8.3"
  }
 },
 "nbformat": 4,
 "nbformat_minor": 4
}
