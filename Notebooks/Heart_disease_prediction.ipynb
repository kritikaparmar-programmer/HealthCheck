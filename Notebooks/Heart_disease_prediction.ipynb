{
  "nbformat": 4,
  "nbformat_minor": 0,
  "metadata": {
    "kernelspec": {
      "display_name": "Python 3",
      "language": "python",
      "name": "python3"
    },
    "language_info": {
      "codemirror_mode": {
        "name": "ipython",
        "version": 3
      },
      "file_extension": ".py",
      "mimetype": "text/x-python",
      "name": "python",
      "nbconvert_exporter": "python",
      "pygments_lexer": "ipython3",
      "version": "3.6.2"
    },
    "colab": {
      "name": "Heart_disease_prediction.ipynb",
      "provenance": []
    }
  },
  "cells": [
    {
      "cell_type": "code",
      "metadata": {
        "_uuid": "f571f7e57c828d45fe55f6136fe8c2e796f74d4e",
        "id": "BYlXh4G_ymDt"
      },
      "source": [
        "import numpy as np\n",
        "import pandas as pd\n",
        "import matplotlib.pyplot as plt\n",
        "import seaborn as sns\n",
        "from sklearn.metrics import accuracy_score\n",
        "from sklearn.model_selection import train_test_split\n",
        "from sklearn.naive_bayes import GaussianNB\n",
        "from sklearn.linear_model import LogisticRegression\n",
        "from sklearn.neighbors import KNeighborsClassifier\n",
        "from sklearn.tree import DecisionTreeClassifier\n",
        "from sklearn.ensemble import RandomForestClassifier\n",
        "from sklearn.model_selection import GridSearchCV\n",
        "from sklearn import svm\n",
        "import xgboost as xgb\n",
        "from sklearn.preprocessing import LabelEncoder, StandardScaler, MinMaxScaler\n",
        "from sklearn.metrics import classification_report, confusion_matrix\n",
        "%matplotlib inline"
      ],
      "execution_count": 106,
      "outputs": []
    },
    {
      "cell_type": "code",
      "metadata": {
        "_uuid": "2a1a1dae64ae3c934849b2b918bc7d68cd59e3f6",
        "id": "JUxfIUy8ymDw",
        "colab": {
          "base_uri": "https://localhost:8080/",
          "height": 198
        },
        "outputId": "d15cd520-4482-4eaa-ed4e-ff321e6a8793"
      },
      "source": [
        "dataset = pd.read_csv(\"heart.csv\")\r\n",
        "dataset.head(5)"
      ],
      "execution_count": 107,
      "outputs": [
        {
          "output_type": "execute_result",
          "data": {
            "text/html": [
              "<div>\n",
              "<style scoped>\n",
              "    .dataframe tbody tr th:only-of-type {\n",
              "        vertical-align: middle;\n",
              "    }\n",
              "\n",
              "    .dataframe tbody tr th {\n",
              "        vertical-align: top;\n",
              "    }\n",
              "\n",
              "    .dataframe thead th {\n",
              "        text-align: right;\n",
              "    }\n",
              "</style>\n",
              "<table border=\"1\" class=\"dataframe\">\n",
              "  <thead>\n",
              "    <tr style=\"text-align: right;\">\n",
              "      <th></th>\n",
              "      <th>age</th>\n",
              "      <th>sex</th>\n",
              "      <th>cp</th>\n",
              "      <th>trestbps</th>\n",
              "      <th>chol</th>\n",
              "      <th>fbs</th>\n",
              "      <th>restecg</th>\n",
              "      <th>thalach</th>\n",
              "      <th>exang</th>\n",
              "      <th>oldpeak</th>\n",
              "      <th>slope</th>\n",
              "      <th>ca</th>\n",
              "      <th>thal</th>\n",
              "      <th>target</th>\n",
              "    </tr>\n",
              "  </thead>\n",
              "  <tbody>\n",
              "    <tr>\n",
              "      <th>0</th>\n",
              "      <td>63</td>\n",
              "      <td>1</td>\n",
              "      <td>3</td>\n",
              "      <td>145</td>\n",
              "      <td>233</td>\n",
              "      <td>1</td>\n",
              "      <td>0</td>\n",
              "      <td>150</td>\n",
              "      <td>0</td>\n",
              "      <td>2.3</td>\n",
              "      <td>0</td>\n",
              "      <td>0</td>\n",
              "      <td>1</td>\n",
              "      <td>1</td>\n",
              "    </tr>\n",
              "    <tr>\n",
              "      <th>1</th>\n",
              "      <td>37</td>\n",
              "      <td>1</td>\n",
              "      <td>2</td>\n",
              "      <td>130</td>\n",
              "      <td>250</td>\n",
              "      <td>0</td>\n",
              "      <td>1</td>\n",
              "      <td>187</td>\n",
              "      <td>0</td>\n",
              "      <td>3.5</td>\n",
              "      <td>0</td>\n",
              "      <td>0</td>\n",
              "      <td>2</td>\n",
              "      <td>1</td>\n",
              "    </tr>\n",
              "    <tr>\n",
              "      <th>2</th>\n",
              "      <td>41</td>\n",
              "      <td>0</td>\n",
              "      <td>1</td>\n",
              "      <td>130</td>\n",
              "      <td>204</td>\n",
              "      <td>0</td>\n",
              "      <td>0</td>\n",
              "      <td>172</td>\n",
              "      <td>0</td>\n",
              "      <td>1.4</td>\n",
              "      <td>2</td>\n",
              "      <td>0</td>\n",
              "      <td>2</td>\n",
              "      <td>1</td>\n",
              "    </tr>\n",
              "    <tr>\n",
              "      <th>3</th>\n",
              "      <td>56</td>\n",
              "      <td>1</td>\n",
              "      <td>1</td>\n",
              "      <td>120</td>\n",
              "      <td>236</td>\n",
              "      <td>0</td>\n",
              "      <td>1</td>\n",
              "      <td>178</td>\n",
              "      <td>0</td>\n",
              "      <td>0.8</td>\n",
              "      <td>2</td>\n",
              "      <td>0</td>\n",
              "      <td>2</td>\n",
              "      <td>1</td>\n",
              "    </tr>\n",
              "    <tr>\n",
              "      <th>4</th>\n",
              "      <td>57</td>\n",
              "      <td>0</td>\n",
              "      <td>0</td>\n",
              "      <td>120</td>\n",
              "      <td>354</td>\n",
              "      <td>0</td>\n",
              "      <td>1</td>\n",
              "      <td>163</td>\n",
              "      <td>1</td>\n",
              "      <td>0.6</td>\n",
              "      <td>2</td>\n",
              "      <td>0</td>\n",
              "      <td>2</td>\n",
              "      <td>1</td>\n",
              "    </tr>\n",
              "  </tbody>\n",
              "</table>\n",
              "</div>"
            ],
            "text/plain": [
              "   age  sex  cp  trestbps  chol  fbs  ...  exang  oldpeak  slope  ca  thal  target\n",
              "0   63    1   3       145   233    1  ...      0      2.3      0   0     1       1\n",
              "1   37    1   2       130   250    0  ...      0      3.5      0   0     2       1\n",
              "2   41    0   1       130   204    0  ...      0      1.4      2   0     2       1\n",
              "3   56    1   1       120   236    0  ...      0      0.8      2   0     2       1\n",
              "4   57    0   0       120   354    0  ...      1      0.6      2   0     2       1\n",
              "\n",
              "[5 rows x 14 columns]"
            ]
          },
          "metadata": {
            "tags": []
          },
          "execution_count": 107
        }
      ]
    },
    {
      "cell_type": "code",
      "metadata": {
        "_uuid": "0a2396061d262bee451e61dd51be84d0bd1ac9d0",
        "id": "KAXPNS2NymD0",
        "colab": {
          "base_uri": "https://localhost:8080/"
        },
        "outputId": "fc78db81-bd55-406c-a66c-8eb9207f5bd5"
      },
      "source": [
        "dataset.shape"
      ],
      "execution_count": 108,
      "outputs": [
        {
          "output_type": "execute_result",
          "data": {
            "text/plain": [
              "(303, 14)"
            ]
          },
          "metadata": {
            "tags": []
          },
          "execution_count": 108
        }
      ]
    },
    {
      "cell_type": "code",
      "metadata": {
        "_uuid": "718b82039841c137ab7e08a6e79e264643134642",
        "id": "dHQC2f8EymD7",
        "colab": {
          "base_uri": "https://localhost:8080/"
        },
        "outputId": "31ba3c6a-fde6-4304-a3c6-2b3afdb61bb8"
      },
      "source": [
        "dataset.info()"
      ],
      "execution_count": 109,
      "outputs": [
        {
          "output_type": "stream",
          "text": [
            "<class 'pandas.core.frame.DataFrame'>\n",
            "RangeIndex: 303 entries, 0 to 302\n",
            "Data columns (total 14 columns):\n",
            " #   Column    Non-Null Count  Dtype  \n",
            "---  ------    --------------  -----  \n",
            " 0   age       303 non-null    int64  \n",
            " 1   sex       303 non-null    int64  \n",
            " 2   cp        303 non-null    int64  \n",
            " 3   trestbps  303 non-null    int64  \n",
            " 4   chol      303 non-null    int64  \n",
            " 5   fbs       303 non-null    int64  \n",
            " 6   restecg   303 non-null    int64  \n",
            " 7   thalach   303 non-null    int64  \n",
            " 8   exang     303 non-null    int64  \n",
            " 9   oldpeak   303 non-null    float64\n",
            " 10  slope     303 non-null    int64  \n",
            " 11  ca        303 non-null    int64  \n",
            " 12  thal      303 non-null    int64  \n",
            " 13  target    303 non-null    int64  \n",
            "dtypes: float64(1), int64(13)\n",
            "memory usage: 33.3 KB\n"
          ],
          "name": "stdout"
        }
      ]
    },
    {
      "cell_type": "code",
      "metadata": {
        "_uuid": "c31619815cb0dae5586985671fdc21110b39a821",
        "id": "9vYVMWMVymD6",
        "colab": {
          "base_uri": "https://localhost:8080/",
          "height": 308
        },
        "outputId": "fb5ebe4c-320e-45b2-930b-3a369afea7fe"
      },
      "source": [
        "dataset.describe()"
      ],
      "execution_count": 110,
      "outputs": [
        {
          "output_type": "execute_result",
          "data": {
            "text/html": [
              "<div>\n",
              "<style scoped>\n",
              "    .dataframe tbody tr th:only-of-type {\n",
              "        vertical-align: middle;\n",
              "    }\n",
              "\n",
              "    .dataframe tbody tr th {\n",
              "        vertical-align: top;\n",
              "    }\n",
              "\n",
              "    .dataframe thead th {\n",
              "        text-align: right;\n",
              "    }\n",
              "</style>\n",
              "<table border=\"1\" class=\"dataframe\">\n",
              "  <thead>\n",
              "    <tr style=\"text-align: right;\">\n",
              "      <th></th>\n",
              "      <th>age</th>\n",
              "      <th>sex</th>\n",
              "      <th>cp</th>\n",
              "      <th>trestbps</th>\n",
              "      <th>chol</th>\n",
              "      <th>fbs</th>\n",
              "      <th>restecg</th>\n",
              "      <th>thalach</th>\n",
              "      <th>exang</th>\n",
              "      <th>oldpeak</th>\n",
              "      <th>slope</th>\n",
              "      <th>ca</th>\n",
              "      <th>thal</th>\n",
              "      <th>target</th>\n",
              "    </tr>\n",
              "  </thead>\n",
              "  <tbody>\n",
              "    <tr>\n",
              "      <th>count</th>\n",
              "      <td>303.000000</td>\n",
              "      <td>303.000000</td>\n",
              "      <td>303.000000</td>\n",
              "      <td>303.000000</td>\n",
              "      <td>303.000000</td>\n",
              "      <td>303.000000</td>\n",
              "      <td>303.000000</td>\n",
              "      <td>303.000000</td>\n",
              "      <td>303.000000</td>\n",
              "      <td>303.000000</td>\n",
              "      <td>303.000000</td>\n",
              "      <td>303.000000</td>\n",
              "      <td>303.000000</td>\n",
              "      <td>303.000000</td>\n",
              "    </tr>\n",
              "    <tr>\n",
              "      <th>mean</th>\n",
              "      <td>54.366337</td>\n",
              "      <td>0.683168</td>\n",
              "      <td>0.966997</td>\n",
              "      <td>131.623762</td>\n",
              "      <td>246.264026</td>\n",
              "      <td>0.148515</td>\n",
              "      <td>0.528053</td>\n",
              "      <td>149.646865</td>\n",
              "      <td>0.326733</td>\n",
              "      <td>1.039604</td>\n",
              "      <td>1.399340</td>\n",
              "      <td>0.729373</td>\n",
              "      <td>2.313531</td>\n",
              "      <td>0.544554</td>\n",
              "    </tr>\n",
              "    <tr>\n",
              "      <th>std</th>\n",
              "      <td>9.082101</td>\n",
              "      <td>0.466011</td>\n",
              "      <td>1.032052</td>\n",
              "      <td>17.538143</td>\n",
              "      <td>51.830751</td>\n",
              "      <td>0.356198</td>\n",
              "      <td>0.525860</td>\n",
              "      <td>22.905161</td>\n",
              "      <td>0.469794</td>\n",
              "      <td>1.161075</td>\n",
              "      <td>0.616226</td>\n",
              "      <td>1.022606</td>\n",
              "      <td>0.612277</td>\n",
              "      <td>0.498835</td>\n",
              "    </tr>\n",
              "    <tr>\n",
              "      <th>min</th>\n",
              "      <td>29.000000</td>\n",
              "      <td>0.000000</td>\n",
              "      <td>0.000000</td>\n",
              "      <td>94.000000</td>\n",
              "      <td>126.000000</td>\n",
              "      <td>0.000000</td>\n",
              "      <td>0.000000</td>\n",
              "      <td>71.000000</td>\n",
              "      <td>0.000000</td>\n",
              "      <td>0.000000</td>\n",
              "      <td>0.000000</td>\n",
              "      <td>0.000000</td>\n",
              "      <td>0.000000</td>\n",
              "      <td>0.000000</td>\n",
              "    </tr>\n",
              "    <tr>\n",
              "      <th>25%</th>\n",
              "      <td>47.500000</td>\n",
              "      <td>0.000000</td>\n",
              "      <td>0.000000</td>\n",
              "      <td>120.000000</td>\n",
              "      <td>211.000000</td>\n",
              "      <td>0.000000</td>\n",
              "      <td>0.000000</td>\n",
              "      <td>133.500000</td>\n",
              "      <td>0.000000</td>\n",
              "      <td>0.000000</td>\n",
              "      <td>1.000000</td>\n",
              "      <td>0.000000</td>\n",
              "      <td>2.000000</td>\n",
              "      <td>0.000000</td>\n",
              "    </tr>\n",
              "    <tr>\n",
              "      <th>50%</th>\n",
              "      <td>55.000000</td>\n",
              "      <td>1.000000</td>\n",
              "      <td>1.000000</td>\n",
              "      <td>130.000000</td>\n",
              "      <td>240.000000</td>\n",
              "      <td>0.000000</td>\n",
              "      <td>1.000000</td>\n",
              "      <td>153.000000</td>\n",
              "      <td>0.000000</td>\n",
              "      <td>0.800000</td>\n",
              "      <td>1.000000</td>\n",
              "      <td>0.000000</td>\n",
              "      <td>2.000000</td>\n",
              "      <td>1.000000</td>\n",
              "    </tr>\n",
              "    <tr>\n",
              "      <th>75%</th>\n",
              "      <td>61.000000</td>\n",
              "      <td>1.000000</td>\n",
              "      <td>2.000000</td>\n",
              "      <td>140.000000</td>\n",
              "      <td>274.500000</td>\n",
              "      <td>0.000000</td>\n",
              "      <td>1.000000</td>\n",
              "      <td>166.000000</td>\n",
              "      <td>1.000000</td>\n",
              "      <td>1.600000</td>\n",
              "      <td>2.000000</td>\n",
              "      <td>1.000000</td>\n",
              "      <td>3.000000</td>\n",
              "      <td>1.000000</td>\n",
              "    </tr>\n",
              "    <tr>\n",
              "      <th>max</th>\n",
              "      <td>77.000000</td>\n",
              "      <td>1.000000</td>\n",
              "      <td>3.000000</td>\n",
              "      <td>200.000000</td>\n",
              "      <td>564.000000</td>\n",
              "      <td>1.000000</td>\n",
              "      <td>2.000000</td>\n",
              "      <td>202.000000</td>\n",
              "      <td>1.000000</td>\n",
              "      <td>6.200000</td>\n",
              "      <td>2.000000</td>\n",
              "      <td>4.000000</td>\n",
              "      <td>3.000000</td>\n",
              "      <td>1.000000</td>\n",
              "    </tr>\n",
              "  </tbody>\n",
              "</table>\n",
              "</div>"
            ],
            "text/plain": [
              "              age         sex          cp  ...          ca        thal      target\n",
              "count  303.000000  303.000000  303.000000  ...  303.000000  303.000000  303.000000\n",
              "mean    54.366337    0.683168    0.966997  ...    0.729373    2.313531    0.544554\n",
              "std      9.082101    0.466011    1.032052  ...    1.022606    0.612277    0.498835\n",
              "min     29.000000    0.000000    0.000000  ...    0.000000    0.000000    0.000000\n",
              "25%     47.500000    0.000000    0.000000  ...    0.000000    2.000000    0.000000\n",
              "50%     55.000000    1.000000    1.000000  ...    0.000000    2.000000    1.000000\n",
              "75%     61.000000    1.000000    2.000000  ...    1.000000    3.000000    1.000000\n",
              "max     77.000000    1.000000    3.000000  ...    4.000000    3.000000    1.000000\n",
              "\n",
              "[8 rows x 14 columns]"
            ]
          },
          "metadata": {
            "tags": []
          },
          "execution_count": 110
        }
      ]
    },
    {
      "cell_type": "code",
      "metadata": {
        "_uuid": "3059188d3874be2e0c80e13655609ac6a6fc644f",
        "id": "Q88tscKfymEE",
        "colab": {
          "base_uri": "https://localhost:8080/"
        },
        "outputId": "e1edb163-e74c-41d9-805b-5a39ab69315c"
      },
      "source": [
        "print(dataset.corr()[\"target\"])"
      ],
      "execution_count": 111,
      "outputs": [
        {
          "output_type": "stream",
          "text": [
            "age        -0.225439\n",
            "sex        -0.280937\n",
            "cp          0.433798\n",
            "trestbps   -0.144931\n",
            "chol       -0.085239\n",
            "fbs        -0.028046\n",
            "restecg     0.137230\n",
            "thalach     0.421741\n",
            "exang      -0.436757\n",
            "oldpeak    -0.430696\n",
            "slope       0.345877\n",
            "ca         -0.391724\n",
            "thal       -0.344029\n",
            "target      1.000000\n",
            "Name: target, dtype: float64\n"
          ],
          "name": "stdout"
        }
      ]
    },
    {
      "cell_type": "code",
      "metadata": {
        "colab": {
          "base_uri": "https://localhost:8080/",
          "height": 1000
        },
        "id": "SMusJGp02PVR",
        "outputId": "440c5fae-a7bd-4ef1-cdf6-7327d424642c"
      },
      "source": [
        "a1=dataset.hist(bins=5,figsize=(13,13))\r\n",
        "print(a1)"
      ],
      "execution_count": 112,
      "outputs": [
        {
          "output_type": "stream",
          "text": [
            "[[<matplotlib.axes._subplots.AxesSubplot object at 0x7fd766798e50>\n",
            "  <matplotlib.axes._subplots.AxesSubplot object at 0x7fd72d0e10d0>\n",
            "  <matplotlib.axes._subplots.AxesSubplot object at 0x7fd730787d10>\n",
            "  <matplotlib.axes._subplots.AxesSubplot object at 0x7fd72d6d3650>]\n",
            " [<matplotlib.axes._subplots.AxesSubplot object at 0x7fd73067bc50>\n",
            "  <matplotlib.axes._subplots.AxesSubplot object at 0x7fd7306ccd50>\n",
            "  <matplotlib.axes._subplots.AxesSubplot object at 0x7fd730707410>\n",
            "  <matplotlib.axes._subplots.AxesSubplot object at 0x7fd7307187d0>]\n",
            " [<matplotlib.axes._subplots.AxesSubplot object at 0x7fd730fe7390>\n",
            "  <matplotlib.axes._subplots.AxesSubplot object at 0x7fd766efba50>\n",
            "  <matplotlib.axes._subplots.AxesSubplot object at 0x7fd72d680810>\n",
            "  <matplotlib.axes._subplots.AxesSubplot object at 0x7fd72d153e50>]\n",
            " [<matplotlib.axes._subplots.AxesSubplot object at 0x7fd72d219410>\n",
            "  <matplotlib.axes._subplots.AxesSubplot object at 0x7fd72d057990>\n",
            "  <matplotlib.axes._subplots.AxesSubplot object at 0x7fd73073f2d0>\n",
            "  <matplotlib.axes._subplots.AxesSubplot object at 0x7fd72b1314d0>]]\n"
          ],
          "name": "stdout"
        },
        {
          "output_type": "display_data",
          "data": {
            "image/png": "[encoded data removed]",
            "text/plain": [
              "<Figure size 936x936 with 16 Axes>"
            ]
          },
          "metadata": {
            "tags": [],
            "needs_background": "light"
          }
        }
      ]
    },
    {
      "cell_type": "markdown",
      "metadata": {
        "_uuid": "41da6ba94903ad6ee64b1ba6a1462815ae603536",
        "id": "m5L4AOuwymEG"
      },
      "source": [
        "target variable"
      ]
    },
    {
      "cell_type": "code",
      "metadata": {
        "_uuid": "29aa23ccb8e6438688e16346b3474f4cc03bae13",
        "id": "X2sydb1uymEH",
        "colab": {
          "base_uri": "https://localhost:8080/",
          "height": 350
        },
        "outputId": "651ce6a2-a3e5-4d5e-8cc6-723c43e182a0"
      },
      "source": [
        "y = dataset[\"target\"]\n",
        "sns.countplot(y)"
      ],
      "execution_count": 113,
      "outputs": [
        {
          "output_type": "stream",
          "text": [
            "/usr/local/lib/python3.7/dist-packages/seaborn/_decorators.py:43: FutureWarning: Pass the following variable as a keyword arg: x. From version 0.12, the only valid positional argument will be `data`, and passing other arguments without an explicit keyword will result in an error or misinterpretation.\n",
            "  FutureWarning\n"
          ],
          "name": "stderr"
        },
        {
          "output_type": "execute_result",
          "data": {
            "text/plain": [
              "<matplotlib.axes._subplots.AxesSubplot at 0x7fd72d49d710>"
            ]
          },
          "metadata": {
            "tags": []
          },
          "execution_count": 113
        },
        {
          "output_type": "display_data",
          "data": {
            "image/png": "[encoded data removed]",
            "text/plain": [
              "<Figure size 432x288 with 1 Axes>"
            ]
          },
          "metadata": {
            "tags": [],
            "needs_background": "light"
          }
        }
      ]
    },
    {
      "cell_type": "markdown",
      "metadata": {
        "_uuid": "82f9919a1312b53f22980a0071d077e5b0288d90",
        "id": "TnN2VVUDymEJ"
      },
      "source": [
        "'Sex' feature"
      ]
    },
    {
      "cell_type": "code",
      "metadata": {
        "_uuid": "5d10e6c167251e6d3b1b82a06159da234eeef721",
        "id": "WjQXNABfymEL",
        "colab": {
          "base_uri": "https://localhost:8080/",
          "height": 350
        },
        "outputId": "2fc877a8-2ea5-4fa6-9bb6-ad60b3f09a0b"
      },
      "source": [
        "dataset[\"sex\"].unique()\r\n",
        "sns.barplot(dataset[\"sex\"],y)"
      ],
      "execution_count": 114,
      "outputs": [
        {
          "output_type": "stream",
          "text": [
            "/usr/local/lib/python3.7/dist-packages/seaborn/_decorators.py:43: FutureWarning: Pass the following variables as keyword args: x, y. From version 0.12, the only valid positional argument will be `data`, and passing other arguments without an explicit keyword will result in an error or misinterpretation.\n",
            "  FutureWarning\n"
          ],
          "name": "stderr"
        },
        {
          "output_type": "execute_result",
          "data": {
            "text/plain": [
              "<matplotlib.axes._subplots.AxesSubplot at 0x7fd72d4fbd90>"
            ]
          },
          "metadata": {
            "tags": []
          },
          "execution_count": 114
        },
        {
          "output_type": "display_data",
          "data": {
            "image/png": "[encoded data removed]",
            "text/plain": [
              "<Figure size 432x288 with 1 Axes>"
            ]
          },
          "metadata": {
            "tags": [],
            "needs_background": "light"
          }
        }
      ]
    },
    {
      "cell_type": "markdown",
      "metadata": {
        "_uuid": "f7bbd747b02746eadfa2b525544509c8545ac1af",
        "id": "nuGb4CrPymEN"
      },
      "source": [
        "Chest Pain Type'"
      ]
    },
    {
      "cell_type": "code",
      "metadata": {
        "_uuid": "56d6ed2b3d8d20a61814980cd459502b452d14c1",
        "id": "_mEPYVj2ymEP",
        "colab": {
          "base_uri": "https://localhost:8080/",
          "height": 350
        },
        "outputId": "740d6805-509e-4321-ba27-cca67b6fed8f"
      },
      "source": [
        "dataset[\"cp\"].unique()\r\n",
        "sns.barplot(dataset[\"cp\"],y)"
      ],
      "execution_count": 115,
      "outputs": [
        {
          "output_type": "stream",
          "text": [
            "/usr/local/lib/python3.7/dist-packages/seaborn/_decorators.py:43: FutureWarning: Pass the following variables as keyword args: x, y. From version 0.12, the only valid positional argument will be `data`, and passing other arguments without an explicit keyword will result in an error or misinterpretation.\n",
            "  FutureWarning\n"
          ],
          "name": "stderr"
        },
        {
          "output_type": "execute_result",
          "data": {
            "text/plain": [
              "<matplotlib.axes._subplots.AxesSubplot at 0x7fd72d2cbc50>"
            ]
          },
          "metadata": {
            "tags": []
          },
          "execution_count": 115
        },
        {
          "output_type": "display_data",
          "data": {
            "image/png": "[encoded data removed]",
            "text/plain": [
              "<Figure size 432x288 with 1 Axes>"
            ]
          },
          "metadata": {
            "tags": [],
            "needs_background": "light"
          }
        }
      ]
    },
    {
      "cell_type": "code",
      "metadata": {
        "_uuid": "9aea2f597203ccf38cd0d67ae58bff6e163dea1c",
        "id": "MLG-ZSQ8ymFv"
      },
      "source": [
        "x=dataset.drop(\"target\",axis=1)\n",
        "y=dataset[\"target\"]\n",
        "\n",
        "X_train,X_test,Y_train,Y_test = train_test_split(x,y,test_size=0.20,random_state=0)"
      ],
      "execution_count": 116,
      "outputs": []
    },
    {
      "cell_type": "code",
      "metadata": {
        "colab": {
          "base_uri": "https://localhost:8080/"
        },
        "id": "RUVDViXKRwbb",
        "outputId": "5510cd90-2cb1-46a3-c15f-ce50440fd2ca"
      },
      "source": [
        "print(X_train.shape)\r\n",
        "print(X_test.shape)\r\n",
        "print(Y_train.shape)\r\n",
        "print(Y_test.shape)"
      ],
      "execution_count": 117,
      "outputs": [
        {
          "output_type": "stream",
          "text": [
            "(242, 13)\n",
            "(61, 13)\n",
            "(242,)\n",
            "(61,)\n"
          ],
          "name": "stdout"
        }
      ]
    },
    {
      "cell_type": "markdown",
      "metadata": {
        "id": "Yt2p5cOnAHnL"
      },
      "source": [
        "### logistic regression"
      ]
    },
    {
      "cell_type": "code",
      "metadata": {
        "colab": {
          "base_uri": "https://localhost:8080/"
        },
        "id": "Ue6IMWfKRxTP",
        "outputId": "2c119e38-da6c-43c9-ed64-abb2b5389818"
      },
      "source": [
        "lr = LogisticRegression(max_iter=500)\r\n",
        "lr.fit(X_train,Y_train)"
      ],
      "execution_count": 118,
      "outputs": [
        {
          "output_type": "stream",
          "text": [
            "/usr/local/lib/python3.7/dist-packages/sklearn/linear_model/_logistic.py:940: ConvergenceWarning: lbfgs failed to converge (status=1):\n",
            "STOP: TOTAL NO. of ITERATIONS REACHED LIMIT.\n",
            "\n",
            "Increase the number of iterations (max_iter) or scale the data as shown in:\n",
            "    https://scikit-learn.org/stable/modules/preprocessing.html\n",
            "Please also refer to the documentation for alternative solver options:\n",
            "    https://scikit-learn.org/stable/modules/linear_model.html#logistic-regression\n",
            "  extra_warning_msg=_LOGISTIC_SOLVER_CONVERGENCE_MSG)\n"
          ],
          "name": "stderr"
        },
        {
          "output_type": "execute_result",
          "data": {
            "text/plain": [
              "LogisticRegression(C=1.0, class_weight=None, dual=False, fit_intercept=True,\n",
              "                   intercept_scaling=1, l1_ratio=None, max_iter=500,\n",
              "                   multi_class='auto', n_jobs=None, penalty='l2',\n",
              "                   random_state=None, solver='lbfgs', tol=0.0001, verbose=0,\n",
              "                   warm_start=False)"
            ]
          },
          "metadata": {
            "tags": []
          },
          "execution_count": 118
        }
      ]
    },
    {
      "cell_type": "code",
      "metadata": {
        "id": "cUL0UnZ53JyW"
      },
      "source": [
        "Y_pred_lr = lr.predict(X_test)"
      ],
      "execution_count": 119,
      "outputs": []
    },
    {
      "cell_type": "code",
      "metadata": {
        "id": "pjw587Ux1x1W",
        "colab": {
          "base_uri": "https://localhost:8080/"
        },
        "outputId": "bdd76b70-abd9-4c80-c78a-76844ed1a654"
      },
      "source": [
        "score_lr = round(accuracy_score(Y_pred_lr,Y_test)*100,2)\r\n",
        "print(\"The accuracy score achieved using Logistic Regression is: \"+str(score_lr)+\" %\")"
      ],
      "execution_count": 120,
      "outputs": [
        {
          "output_type": "stream",
          "text": [
            "The accuracy score achieved using Logistic Regression is: 85.25 %\n"
          ],
          "name": "stdout"
        }
      ]
    },
    {
      "cell_type": "markdown",
      "metadata": {
        "_uuid": "2af8b010893284bae0d6cccf66ccfda646e7ca58",
        "id": "PPjchk0VymF4"
      },
      "source": [
        "### SVM"
      ]
    },
    {
      "cell_type": "code",
      "metadata": {
        "_uuid": "f1936ece7b76b67e552758a4c80e9421bffe0bc2",
        "id": "JzZJMvcjymF5"
      },
      "source": [
        "sv = svm.SVC(kernel='linear')\n",
        "sv.fit(X_train, Y_train)\n",
        "Y_pred_svm = sv.predict(X_test)"
      ],
      "execution_count": 121,
      "outputs": []
    },
    {
      "cell_type": "code",
      "metadata": {
        "colab": {
          "base_uri": "https://localhost:8080/"
        },
        "id": "uYsXp9RCs0wu",
        "outputId": "7df84d9a-d6fd-43f8-b8e1-51144d5bde09"
      },
      "source": [
        "score_svm = round(accuracy_score(Y_pred_svm,Y_test)*100,2)\r\n",
        "print(\"The accuracy score achieved using Linear SVM is: \"+str(score_svm)+\" %\")"
      ],
      "execution_count": 122,
      "outputs": [
        {
          "output_type": "stream",
          "text": [
            "The accuracy score achieved using Linear SVM is: 81.97 %\n"
          ],
          "name": "stdout"
        }
      ]
    },
    {
      "cell_type": "markdown",
      "metadata": {
        "_uuid": "4f92fceb9584ae03d3ab370ee11899cb287be690",
        "id": "ezfICp48ymFz"
      },
      "source": [
        "\r\n",
        "### Naive Bayes"
      ]
    },
    {
      "cell_type": "code",
      "metadata": {
        "_uuid": "ffcdab99b4108902547f0179a242a9757078dc68",
        "id": "8Hupr6qeymF1"
      },
      "source": [
        "nb = GaussianNB()\n",
        "nb.fit(X_train,Y_train)\n",
        "Y_pred_nb = nb.predict(X_test)"
      ],
      "execution_count": 123,
      "outputs": []
    },
    {
      "cell_type": "code",
      "metadata": {
        "_uuid": "e8f8f55db061ada0b669ffa46e9ecc745fcda1ae",
        "id": "5JDh4IlUymF3",
        "colab": {
          "base_uri": "https://localhost:8080/"
        },
        "outputId": "41e9da22-60f5-45a0-90bb-c44c10060a2f"
      },
      "source": [
        "score_nb = round(accuracy_score(Y_pred_nb,Y_test)*100,2)\n",
        "print(\"The accuracy score achieved using Naive Bayes is: \"+str(score_nb)+\" %\")"
      ],
      "execution_count": 124,
      "outputs": [
        {
          "output_type": "stream",
          "text": [
            "The accuracy score achieved using Naive Bayes is: 85.25 %\n"
          ],
          "name": "stdout"
        }
      ]
    },
    {
      "cell_type": "markdown",
      "metadata": {
        "_uuid": "4e26d165b57f3f7882570964f1c2dc4a548404de",
        "id": "obtUtyE7ymF9"
      },
      "source": [
        "### K Nearest Neighbors"
      ]
    },
    {
      "cell_type": "code",
      "metadata": {
        "_uuid": "286352867c53d5fb7dac2fc9bf4b2ac58a466ad0",
        "id": "aMlpdaW5ymF9"
      },
      "source": [
        "knn = KNeighborsClassifier(n_neighbors=7)\n",
        "knn.fit(X_train,Y_train)\n",
        "Y_pred_knn=knn.predict(X_test)"
      ],
      "execution_count": 125,
      "outputs": []
    },
    {
      "cell_type": "code",
      "metadata": {
        "_uuid": "dda4e8f8f18f96557cdd38cee177de0456db5f45",
        "id": "Xae7_4jFymGA",
        "colab": {
          "base_uri": "https://localhost:8080/"
        },
        "outputId": "4c0c5465-1841-45fd-d072-c43ae0cd5c50"
      },
      "source": [
        "score_knn = round(accuracy_score(Y_pred_knn,Y_test)*100,2)\n",
        "print(\"The accuracy score achieved using KNN is: \"+str(score_knn)+\" %\")"
      ],
      "execution_count": 126,
      "outputs": [
        {
          "output_type": "stream",
          "text": [
            "The accuracy score achieved using KNN is: 67.21 %\n"
          ],
          "name": "stdout"
        }
      ]
    },
    {
      "cell_type": "markdown",
      "metadata": {
        "_uuid": "abb767170c662e4d9a8b240fd0fd7286ffb0b67f",
        "id": "0Fph9RUJymGB"
      },
      "source": [
        "### Decision Tree"
      ]
    },
    {
      "cell_type": "code",
      "metadata": {
        "id": "ZEKMv49s4jrP"
      },
      "source": [
        "dt = DecisionTreeClassifier()\r\n",
        "dt.fit(X_train,Y_train)\r\n",
        "Y_pred_dt = dt.predict(X_test)"
      ],
      "execution_count": 127,
      "outputs": []
    },
    {
      "cell_type": "code",
      "metadata": {
        "_uuid": "52ab93482d3b53824e9bc2b3e4114c57253e0c5b",
        "id": "BnKPLivbymGF",
        "colab": {
          "base_uri": "https://localhost:8080/"
        },
        "outputId": "49c13df3-24b2-4757-f287-3cb2c8b4a2be"
      },
      "source": [
        "score_dt = round(accuracy_score(Y_pred_dt,Y_test)*100,2)\n",
        "print(\"The accuracy score achieved using Decision Tree is: \"+str(score_dt)+\" %\")"
      ],
      "execution_count": 128,
      "outputs": [
        {
          "output_type": "stream",
          "text": [
            "The accuracy score achieved using Decision Tree is: 78.69 %\n"
          ],
          "name": "stdout"
        }
      ]
    },
    {
      "cell_type": "markdown",
      "metadata": {
        "_uuid": "9e663d26efb00a434751f06ad0292949eff6c358",
        "id": "XcVLoZnPymGH"
      },
      "source": [
        "### Random Forest"
      ]
    },
    {
      "cell_type": "code",
      "metadata": {
        "id": "ZuRKojGt3wcU"
      },
      "source": [
        "rf = RandomForestClassifier()\r\n",
        "rf.fit(X_train,Y_train)\r\n",
        "Y_pred_rf = rf.predict(X_test)"
      ],
      "execution_count": 129,
      "outputs": []
    },
    {
      "cell_type": "code",
      "metadata": {
        "_uuid": "965228f30e05e07e7960a3375dc7dc85b49caed7",
        "id": "a-MXCEQ1ymGK",
        "colab": {
          "base_uri": "https://localhost:8080/"
        },
        "outputId": "468cde5f-dd66-474b-f5a4-324767b07896"
      },
      "source": [
        "score_rf = round(accuracy_score(Y_pred_rf,Y_test)*100,2)\n",
        "print(\"The accuracy score achieved using Decision Tree is: \"+str(score_rf)+\" %\")"
      ],
      "execution_count": 130,
      "outputs": [
        {
          "output_type": "stream",
          "text": [
            "The accuracy score achieved using Decision Tree is: 85.25 %\n"
          ],
          "name": "stdout"
        }
      ]
    },
    {
      "cell_type": "markdown",
      "metadata": {
        "_uuid": "6a0fc13a6c2fccd6a725a7691cfe95d74348a8ae",
        "id": "9RPUlUKDymGM"
      },
      "source": [
        "### XGBoost"
      ]
    },
    {
      "cell_type": "code",
      "metadata": {
        "_uuid": "5a437f3c0e190887e2192ecb1844eaa6eb1d34a7",
        "id": "3ycUmQhSymGN"
      },
      "source": [
        "xgb_model = xgb.XGBClassifier(max_depth=7,objective=\"binary:logistic\", random_state=42)\n",
        "xgb_model.fit(X_train, Y_train)\n",
        "Y_pred_xgb = xgb_model.predict(X_test)"
      ],
      "execution_count": 131,
      "outputs": []
    },
    {
      "cell_type": "code",
      "metadata": {
        "_uuid": "319c4f0d2e62b03c95a48df0ecc33b15e7fa7f39",
        "id": "VfL1_AjeymG7",
        "colab": {
          "base_uri": "https://localhost:8080/"
        },
        "outputId": "0096f7b6-b7df-4a6e-b0be-223f70c6a7a7"
      },
      "source": [
        "score_xgb = round(accuracy_score(Y_pred_xgb,Y_test)*100,2)\n",
        "print(\"The accuracy score achieved using XGBoost is: \"+str(score_xgb)+\" %\")"
      ],
      "execution_count": 132,
      "outputs": [
        {
          "output_type": "stream",
          "text": [
            "The accuracy score achieved using XGBoost is: 81.97 %\n"
          ],
          "name": "stdout"
        }
      ]
    },
    {
      "cell_type": "markdown",
      "metadata": {
        "id": "ovh1GyWhUkLE"
      },
      "source": [
        "###Neural Network"
      ]
    },
    {
      "cell_type": "code",
      "metadata": {
        "colab": {
          "base_uri": "https://localhost:8080/"
        },
        "id": "2gjOoofPUokw",
        "outputId": "e27cf2d1-1874-42a2-860f-ed1d5b36df6a"
      },
      "source": [
        "scaler = MinMaxScaler()\r\n",
        "X_train_scaled = scaler.fit_transform(X_train)\r\n",
        "X_train = pd.DataFrame(X_train_scaled)\r\n",
        "X_test_scaled = scaler.fit_transform(X_test)\r\n",
        "X_test = pd.DataFrame(X_test_scaled)\r\n",
        "\r\n",
        "print (X_train.shape, Y_train.shape)\r\n",
        "print (X_train.shape, Y_test.shape)"
      ],
      "execution_count": 133,
      "outputs": [
        {
          "output_type": "stream",
          "text": [
            "(242, 13) (242,)\n",
            "(242, 13) (61,)\n"
          ],
          "name": "stdout"
        }
      ]
    },
    {
      "cell_type": "code",
      "metadata": {
        "colab": {
          "base_uri": "https://localhost:8080/"
        },
        "id": "HobrJrXmQow4",
        "outputId": "f5bfd8ad-ff9b-4471-99da-4974f0f53012"
      },
      "source": [
        "from keras.models import Sequential\r\n",
        "from keras.layers import Dense, Dropout\r\n",
        "from keras.wrappers.scikit_learn import KerasClassifier\r\n",
        "from keras.callbacks import EarlyStopping, ModelCheckpoint, ReduceLROnPlateau, TensorBoard\r\n",
        "\r\n",
        "model = Sequential()\r\n",
        "model.add(Dense(30, input_dim=13, kernel_initializer='uniform', activation='relu'))\r\n",
        "model.add(Dropout(0.2))\r\n",
        "\r\n",
        "model.add(Dense(15, kernel_initializer='uniform', activation='relu'))\r\n",
        "model.add(Dropout(0.1))\r\n",
        "\r\n",
        "model.add(Dense(1, kernel_initializer='uniform', activation='sigmoid'))\r\n",
        "model.compile(loss='binary_crossentropy', optimizer=\"Adamax\", metrics=['accuracy'])\r\n",
        "model.summary()"
      ],
      "execution_count": 134,
      "outputs": [
        {
          "output_type": "stream",
          "text": [
            "Model: \"sequential_3\"\n",
            "_________________________________________________________________\n",
            "Layer (type)                 Output Shape              Param #   \n",
            "=================================================================\n",
            "dense_9 (Dense)              (None, 30)                420       \n",
            "_________________________________________________________________\n",
            "dropout_6 (Dropout)          (None, 30)                0         \n",
            "_________________________________________________________________\n",
            "dense_10 (Dense)             (None, 15)                465       \n",
            "_________________________________________________________________\n",
            "dropout_7 (Dropout)          (None, 15)                0         \n",
            "_________________________________________________________________\n",
            "dense_11 (Dense)             (None, 1)                 16        \n",
            "=================================================================\n",
            "Total params: 901\n",
            "Trainable params: 901\n",
            "Non-trainable params: 0\n",
            "_________________________________________________________________\n"
          ],
          "name": "stdout"
        }
      ]
    },
    {
      "cell_type": "code",
      "metadata": {
        "colab": {
          "base_uri": "https://localhost:8080/"
        },
        "id": "_8KA1qosVivn",
        "outputId": "dab0e8b8-f56b-4903-dc4a-fa9937f3eae5"
      },
      "source": [
        "history=model.fit(X_train, Y_train, validation_split=0.33, epochs=100, batch_size=5)"
      ],
      "execution_count": 101,
      "outputs": [
        {
          "output_type": "stream",
          "text": [
            "Epoch 1/100\n",
            "33/33 [==============================] - 1s 9ms/step - loss: 0.6931 - accuracy: 0.5639 - val_loss: 0.6928 - val_accuracy: 0.5250\n",
            "Epoch 2/100\n",
            "33/33 [==============================] - 0s 5ms/step - loss: 0.6926 - accuracy: 0.5407 - val_loss: 0.6924 - val_accuracy: 0.5250\n",
            "Epoch 3/100\n",
            "33/33 [==============================] - 0s 4ms/step - loss: 0.6923 - accuracy: 0.5116 - val_loss: 0.6917 - val_accuracy: 0.5250\n",
            "Epoch 4/100\n",
            "33/33 [==============================] - 0s 4ms/step - loss: 0.6905 - accuracy: 0.5568 - val_loss: 0.6904 - val_accuracy: 0.5250\n",
            "Epoch 5/100\n",
            "33/33 [==============================] - 0s 3ms/step - loss: 0.6906 - accuracy: 0.5172 - val_loss: 0.6888 - val_accuracy: 0.5250\n",
            "Epoch 6/100\n",
            "33/33 [==============================] - 0s 3ms/step - loss: 0.6882 - accuracy: 0.5269 - val_loss: 0.6865 - val_accuracy: 0.5250\n",
            "Epoch 7/100\n",
            "33/33 [==============================] - 0s 3ms/step - loss: 0.6857 - accuracy: 0.5121 - val_loss: 0.6834 - val_accuracy: 0.5250\n",
            "Epoch 8/100\n",
            "33/33 [==============================] - 0s 3ms/step - loss: 0.6804 - accuracy: 0.5910 - val_loss: 0.6786 - val_accuracy: 0.5875\n",
            "Epoch 9/100\n",
            "33/33 [==============================] - 0s 3ms/step - loss: 0.6752 - accuracy: 0.6053 - val_loss: 0.6735 - val_accuracy: 0.6250\n",
            "Epoch 10/100\n",
            "33/33 [==============================] - 0s 3ms/step - loss: 0.6720 - accuracy: 0.6243 - val_loss: 0.6675 - val_accuracy: 0.6625\n",
            "Epoch 11/100\n",
            "33/33 [==============================] - 0s 3ms/step - loss: 0.6682 - accuracy: 0.6266 - val_loss: 0.6601 - val_accuracy: 0.6750\n",
            "Epoch 12/100\n",
            "33/33 [==============================] - 0s 3ms/step - loss: 0.6511 - accuracy: 0.7624 - val_loss: 0.6519 - val_accuracy: 0.6750\n",
            "Epoch 13/100\n",
            "33/33 [==============================] - 0s 3ms/step - loss: 0.6500 - accuracy: 0.7525 - val_loss: 0.6421 - val_accuracy: 0.7625\n",
            "Epoch 14/100\n",
            "33/33 [==============================] - 0s 3ms/step - loss: 0.6348 - accuracy: 0.7838 - val_loss: 0.6294 - val_accuracy: 0.7750\n",
            "Epoch 15/100\n",
            "33/33 [==============================] - 0s 6ms/step - loss: 0.6338 - accuracy: 0.7633 - val_loss: 0.6170 - val_accuracy: 0.7750\n",
            "Epoch 16/100\n",
            "33/33 [==============================] - 0s 3ms/step - loss: 0.6172 - accuracy: 0.8213 - val_loss: 0.6054 - val_accuracy: 0.7750\n",
            "Epoch 17/100\n",
            "33/33 [==============================] - 0s 3ms/step - loss: 0.5972 - accuracy: 0.8014 - val_loss: 0.5913 - val_accuracy: 0.7750\n",
            "Epoch 18/100\n",
            "33/33 [==============================] - 0s 3ms/step - loss: 0.5891 - accuracy: 0.7732 - val_loss: 0.5775 - val_accuracy: 0.8000\n",
            "Epoch 19/100\n",
            "33/33 [==============================] - 0s 3ms/step - loss: 0.5935 - accuracy: 0.7562 - val_loss: 0.5629 - val_accuracy: 0.8000\n",
            "Epoch 20/100\n",
            "33/33 [==============================] - 0s 3ms/step - loss: 0.5607 - accuracy: 0.8428 - val_loss: 0.5506 - val_accuracy: 0.8000\n",
            "Epoch 21/100\n",
            "33/33 [==============================] - 0s 3ms/step - loss: 0.5437 - accuracy: 0.8255 - val_loss: 0.5394 - val_accuracy: 0.7750\n",
            "Epoch 22/100\n",
            "33/33 [==============================] - 0s 3ms/step - loss: 0.5690 - accuracy: 0.7957 - val_loss: 0.5251 - val_accuracy: 0.8125\n",
            "Epoch 23/100\n",
            "33/33 [==============================] - 0s 3ms/step - loss: 0.5317 - accuracy: 0.8032 - val_loss: 0.5139 - val_accuracy: 0.8125\n",
            "Epoch 24/100\n",
            "33/33 [==============================] - 0s 3ms/step - loss: 0.5227 - accuracy: 0.7845 - val_loss: 0.5004 - val_accuracy: 0.7875\n",
            "Epoch 25/100\n",
            "33/33 [==============================] - 0s 3ms/step - loss: 0.5142 - accuracy: 0.8037 - val_loss: 0.4914 - val_accuracy: 0.8000\n",
            "Epoch 26/100\n",
            "33/33 [==============================] - 0s 3ms/step - loss: 0.4887 - accuracy: 0.8095 - val_loss: 0.4806 - val_accuracy: 0.8000\n",
            "Epoch 27/100\n",
            "33/33 [==============================] - 0s 3ms/step - loss: 0.5086 - accuracy: 0.8076 - val_loss: 0.4722 - val_accuracy: 0.8000\n",
            "Epoch 28/100\n",
            "33/33 [==============================] - 0s 3ms/step - loss: 0.5134 - accuracy: 0.7906 - val_loss: 0.4611 - val_accuracy: 0.7875\n",
            "Epoch 29/100\n",
            "33/33 [==============================] - 0s 3ms/step - loss: 0.4553 - accuracy: 0.8412 - val_loss: 0.4531 - val_accuracy: 0.7875\n",
            "Epoch 30/100\n",
            "33/33 [==============================] - 0s 3ms/step - loss: 0.4418 - accuracy: 0.8321 - val_loss: 0.4437 - val_accuracy: 0.7875\n",
            "Epoch 31/100\n",
            "33/33 [==============================] - 0s 3ms/step - loss: 0.4404 - accuracy: 0.8116 - val_loss: 0.4386 - val_accuracy: 0.7875\n",
            "Epoch 32/100\n",
            "33/33 [==============================] - 0s 3ms/step - loss: 0.4177 - accuracy: 0.8439 - val_loss: 0.4347 - val_accuracy: 0.7875\n",
            "Epoch 33/100\n",
            "33/33 [==============================] - 0s 3ms/step - loss: 0.4342 - accuracy: 0.8754 - val_loss: 0.4300 - val_accuracy: 0.7875\n",
            "Epoch 34/100\n",
            "33/33 [==============================] - 0s 3ms/step - loss: 0.4835 - accuracy: 0.7936 - val_loss: 0.4255 - val_accuracy: 0.7875\n",
            "Epoch 35/100\n",
            "33/33 [==============================] - 0s 3ms/step - loss: 0.4194 - accuracy: 0.8804 - val_loss: 0.4244 - val_accuracy: 0.8000\n",
            "Epoch 36/100\n",
            "33/33 [==============================] - 0s 3ms/step - loss: 0.4502 - accuracy: 0.8041 - val_loss: 0.4193 - val_accuracy: 0.8000\n",
            "Epoch 37/100\n",
            "33/33 [==============================] - 0s 3ms/step - loss: 0.3883 - accuracy: 0.8682 - val_loss: 0.4178 - val_accuracy: 0.8000\n",
            "Epoch 38/100\n",
            "33/33 [==============================] - 0s 3ms/step - loss: 0.4325 - accuracy: 0.8201 - val_loss: 0.4121 - val_accuracy: 0.8000\n",
            "Epoch 39/100\n",
            "33/33 [==============================] - 0s 3ms/step - loss: 0.4965 - accuracy: 0.8183 - val_loss: 0.4092 - val_accuracy: 0.8000\n",
            "Epoch 40/100\n",
            "33/33 [==============================] - 0s 3ms/step - loss: 0.4214 - accuracy: 0.8283 - val_loss: 0.4085 - val_accuracy: 0.8125\n",
            "Epoch 41/100\n",
            "33/33 [==============================] - 0s 3ms/step - loss: 0.4523 - accuracy: 0.8214 - val_loss: 0.4061 - val_accuracy: 0.8125\n",
            "Epoch 42/100\n",
            "33/33 [==============================] - 0s 3ms/step - loss: 0.3781 - accuracy: 0.8566 - val_loss: 0.4050 - val_accuracy: 0.8125\n",
            "Epoch 43/100\n",
            "33/33 [==============================] - 0s 3ms/step - loss: 0.4154 - accuracy: 0.8403 - val_loss: 0.4020 - val_accuracy: 0.8125\n",
            "Epoch 44/100\n",
            "33/33 [==============================] - 0s 3ms/step - loss: 0.4086 - accuracy: 0.8497 - val_loss: 0.3990 - val_accuracy: 0.8125\n",
            "Epoch 45/100\n",
            "33/33 [==============================] - 0s 3ms/step - loss: 0.4369 - accuracy: 0.8224 - val_loss: 0.3979 - val_accuracy: 0.8125\n",
            "Epoch 46/100\n",
            "33/33 [==============================] - 0s 3ms/step - loss: 0.4415 - accuracy: 0.8166 - val_loss: 0.3946 - val_accuracy: 0.8125\n",
            "Epoch 47/100\n",
            "33/33 [==============================] - 0s 3ms/step - loss: 0.4440 - accuracy: 0.8375 - val_loss: 0.3941 - val_accuracy: 0.8125\n",
            "Epoch 48/100\n",
            "33/33 [==============================] - 0s 3ms/step - loss: 0.4682 - accuracy: 0.7779 - val_loss: 0.3923 - val_accuracy: 0.8125\n",
            "Epoch 49/100\n",
            "33/33 [==============================] - 0s 3ms/step - loss: 0.4414 - accuracy: 0.8390 - val_loss: 0.3931 - val_accuracy: 0.8125\n",
            "Epoch 50/100\n",
            "33/33 [==============================] - 0s 3ms/step - loss: 0.4548 - accuracy: 0.8209 - val_loss: 0.3890 - val_accuracy: 0.8125\n",
            "Epoch 51/100\n",
            "33/33 [==============================] - 0s 3ms/step - loss: 0.4079 - accuracy: 0.8363 - val_loss: 0.3876 - val_accuracy: 0.8125\n",
            "Epoch 52/100\n",
            "33/33 [==============================] - 0s 3ms/step - loss: 0.4283 - accuracy: 0.7885 - val_loss: 0.3854 - val_accuracy: 0.8250\n",
            "Epoch 53/100\n",
            "33/33 [==============================] - 0s 3ms/step - loss: 0.4670 - accuracy: 0.8328 - val_loss: 0.3858 - val_accuracy: 0.8125\n",
            "Epoch 54/100\n",
            "33/33 [==============================] - 0s 3ms/step - loss: 0.3884 - accuracy: 0.8782 - val_loss: 0.3847 - val_accuracy: 0.8125\n",
            "Epoch 55/100\n",
            "33/33 [==============================] - 0s 3ms/step - loss: 0.4450 - accuracy: 0.8306 - val_loss: 0.3845 - val_accuracy: 0.8125\n",
            "Epoch 56/100\n",
            "33/33 [==============================] - 0s 3ms/step - loss: 0.4494 - accuracy: 0.8376 - val_loss: 0.3820 - val_accuracy: 0.8250\n",
            "Epoch 57/100\n",
            "33/33 [==============================] - 0s 3ms/step - loss: 0.5007 - accuracy: 0.8019 - val_loss: 0.3824 - val_accuracy: 0.8125\n",
            "Epoch 58/100\n",
            "33/33 [==============================] - 0s 3ms/step - loss: 0.4209 - accuracy: 0.8318 - val_loss: 0.3791 - val_accuracy: 0.8250\n",
            "Epoch 59/100\n",
            "33/33 [==============================] - 0s 3ms/step - loss: 0.4236 - accuracy: 0.8118 - val_loss: 0.3800 - val_accuracy: 0.8250\n",
            "Epoch 60/100\n",
            "33/33 [==============================] - 0s 3ms/step - loss: 0.3904 - accuracy: 0.8881 - val_loss: 0.3805 - val_accuracy: 0.8125\n",
            "Epoch 61/100\n",
            "33/33 [==============================] - 0s 3ms/step - loss: 0.3985 - accuracy: 0.8070 - val_loss: 0.3778 - val_accuracy: 0.8250\n",
            "Epoch 62/100\n",
            "33/33 [==============================] - 0s 3ms/step - loss: 0.3494 - accuracy: 0.8708 - val_loss: 0.3777 - val_accuracy: 0.8125\n",
            "Epoch 63/100\n",
            "33/33 [==============================] - 0s 3ms/step - loss: 0.4069 - accuracy: 0.8572 - val_loss: 0.3747 - val_accuracy: 0.8125\n",
            "Epoch 64/100\n",
            "33/33 [==============================] - 0s 3ms/step - loss: 0.3964 - accuracy: 0.8506 - val_loss: 0.3730 - val_accuracy: 0.8250\n",
            "Epoch 65/100\n",
            "33/33 [==============================] - 0s 3ms/step - loss: 0.3665 - accuracy: 0.8514 - val_loss: 0.3749 - val_accuracy: 0.8125\n",
            "Epoch 66/100\n",
            "33/33 [==============================] - 0s 3ms/step - loss: 0.3544 - accuracy: 0.8877 - val_loss: 0.3737 - val_accuracy: 0.8125\n",
            "Epoch 67/100\n",
            "33/33 [==============================] - 0s 3ms/step - loss: 0.3957 - accuracy: 0.8525 - val_loss: 0.3722 - val_accuracy: 0.8125\n",
            "Epoch 68/100\n",
            "33/33 [==============================] - 0s 3ms/step - loss: 0.4518 - accuracy: 0.8246 - val_loss: 0.3739 - val_accuracy: 0.8250\n",
            "Epoch 69/100\n",
            "33/33 [==============================] - 0s 3ms/step - loss: 0.4631 - accuracy: 0.8028 - val_loss: 0.3701 - val_accuracy: 0.8250\n",
            "Epoch 70/100\n",
            "33/33 [==============================] - 0s 3ms/step - loss: 0.4230 - accuracy: 0.8036 - val_loss: 0.3703 - val_accuracy: 0.8250\n",
            "Epoch 71/100\n",
            "33/33 [==============================] - 0s 3ms/step - loss: 0.4011 - accuracy: 0.8533 - val_loss: 0.3729 - val_accuracy: 0.8250\n",
            "Epoch 72/100\n",
            "33/33 [==============================] - 0s 3ms/step - loss: 0.3860 - accuracy: 0.8764 - val_loss: 0.3697 - val_accuracy: 0.8250\n",
            "Epoch 73/100\n",
            "33/33 [==============================] - 0s 3ms/step - loss: 0.3565 - accuracy: 0.8505 - val_loss: 0.3683 - val_accuracy: 0.8250\n",
            "Epoch 74/100\n",
            "33/33 [==============================] - 0s 3ms/step - loss: 0.4814 - accuracy: 0.7584 - val_loss: 0.3687 - val_accuracy: 0.8250\n",
            "Epoch 75/100\n",
            "33/33 [==============================] - 0s 3ms/step - loss: 0.3584 - accuracy: 0.8628 - val_loss: 0.3680 - val_accuracy: 0.8250\n",
            "Epoch 76/100\n",
            "33/33 [==============================] - 0s 3ms/step - loss: 0.3914 - accuracy: 0.8652 - val_loss: 0.3663 - val_accuracy: 0.8375\n",
            "Epoch 77/100\n",
            "33/33 [==============================] - 0s 3ms/step - loss: 0.4147 - accuracy: 0.8393 - val_loss: 0.3660 - val_accuracy: 0.8375\n",
            "Epoch 78/100\n",
            "33/33 [==============================] - 0s 3ms/step - loss: 0.4726 - accuracy: 0.7866 - val_loss: 0.3673 - val_accuracy: 0.8250\n",
            "Epoch 79/100\n",
            "33/33 [==============================] - 0s 3ms/step - loss: 0.3776 - accuracy: 0.8303 - val_loss: 0.3661 - val_accuracy: 0.8250\n",
            "Epoch 80/100\n",
            "33/33 [==============================] - 0s 3ms/step - loss: 0.4393 - accuracy: 0.8353 - val_loss: 0.3667 - val_accuracy: 0.8375\n",
            "Epoch 81/100\n",
            "33/33 [==============================] - 0s 3ms/step - loss: 0.3470 - accuracy: 0.8764 - val_loss: 0.3649 - val_accuracy: 0.8375\n",
            "Epoch 82/100\n",
            "33/33 [==============================] - 0s 3ms/step - loss: 0.3981 - accuracy: 0.8225 - val_loss: 0.3662 - val_accuracy: 0.8375\n",
            "Epoch 83/100\n",
            "33/33 [==============================] - 0s 3ms/step - loss: 0.4739 - accuracy: 0.8154 - val_loss: 0.3673 - val_accuracy: 0.8375\n",
            "Epoch 84/100\n",
            "33/33 [==============================] - 0s 3ms/step - loss: 0.4099 - accuracy: 0.7842 - val_loss: 0.3647 - val_accuracy: 0.8375\n",
            "Epoch 85/100\n",
            "33/33 [==============================] - 0s 3ms/step - loss: 0.3756 - accuracy: 0.8650 - val_loss: 0.3669 - val_accuracy: 0.8375\n",
            "Epoch 86/100\n",
            "33/33 [==============================] - 0s 3ms/step - loss: 0.4107 - accuracy: 0.7945 - val_loss: 0.3643 - val_accuracy: 0.8375\n",
            "Epoch 87/100\n",
            "33/33 [==============================] - 0s 3ms/step - loss: 0.5032 - accuracy: 0.7680 - val_loss: 0.3641 - val_accuracy: 0.8375\n",
            "Epoch 88/100\n",
            "33/33 [==============================] - 0s 3ms/step - loss: 0.3815 - accuracy: 0.8572 - val_loss: 0.3643 - val_accuracy: 0.8500\n",
            "Epoch 89/100\n",
            "33/33 [==============================] - 0s 3ms/step - loss: 0.4381 - accuracy: 0.8219 - val_loss: 0.3632 - val_accuracy: 0.8250\n",
            "Epoch 90/100\n",
            "33/33 [==============================] - 0s 3ms/step - loss: 0.3257 - accuracy: 0.8839 - val_loss: 0.3622 - val_accuracy: 0.8250\n",
            "Epoch 91/100\n",
            "33/33 [==============================] - 0s 3ms/step - loss: 0.3411 - accuracy: 0.8715 - val_loss: 0.3634 - val_accuracy: 0.8625\n",
            "Epoch 92/100\n",
            "33/33 [==============================] - 0s 3ms/step - loss: 0.4107 - accuracy: 0.8199 - val_loss: 0.3641 - val_accuracy: 0.8500\n",
            "Epoch 93/100\n",
            "33/33 [==============================] - 0s 3ms/step - loss: 0.3878 - accuracy: 0.8566 - val_loss: 0.3623 - val_accuracy: 0.8250\n",
            "Epoch 94/100\n",
            "33/33 [==============================] - 0s 3ms/step - loss: 0.3855 - accuracy: 0.8395 - val_loss: 0.3629 - val_accuracy: 0.8625\n",
            "Epoch 95/100\n",
            "33/33 [==============================] - 0s 3ms/step - loss: 0.3742 - accuracy: 0.8329 - val_loss: 0.3622 - val_accuracy: 0.8625\n",
            "Epoch 96/100\n",
            "33/33 [==============================] - 0s 3ms/step - loss: 0.4689 - accuracy: 0.7834 - val_loss: 0.3622 - val_accuracy: 0.8500\n",
            "Epoch 97/100\n",
            "33/33 [==============================] - 0s 3ms/step - loss: 0.3627 - accuracy: 0.8390 - val_loss: 0.3624 - val_accuracy: 0.8625\n",
            "Epoch 98/100\n",
            "33/33 [==============================] - 0s 3ms/step - loss: 0.4215 - accuracy: 0.8182 - val_loss: 0.3618 - val_accuracy: 0.8500\n",
            "Epoch 99/100\n",
            "33/33 [==============================] - 0s 3ms/step - loss: 0.3810 - accuracy: 0.8306 - val_loss: 0.3611 - val_accuracy: 0.8375\n",
            "Epoch 100/100\n",
            "33/33 [==============================] - 0s 3ms/step - loss: 0.3616 - accuracy: 0.8157 - val_loss: 0.3611 - val_accuracy: 0.8500\n"
          ],
          "name": "stdout"
        }
      ]
    },
    {
      "cell_type": "code",
      "metadata": {
        "colab": {
          "base_uri": "https://localhost:8080/"
        },
        "id": "7NVmKsChWwbT",
        "outputId": "aaa06d3c-c27e-4983-9550-e564d512c6a3"
      },
      "source": [
        "score = model.evaluate(X_test, Y_test, verbose=0)\r\n",
        "print(\"score %s: %.2f%%\" % (model.metrics_names[1], score[1]*100))"
      ],
      "execution_count": 102,
      "outputs": [
        {
          "output_type": "stream",
          "text": [
            "score accuracy: 88.52%\n"
          ],
          "name": "stdout"
        }
      ]
    },
    {
      "cell_type": "code",
      "metadata": {
        "colab": {
          "base_uri": "https://localhost:8080/"
        },
        "id": "sNy6oqnoRUyY",
        "outputId": "c9aa1490-96ae-4160-a391-814783fdaad2"
      },
      "source": [
        "model.summary()\r\n",
        "score = model.evaluate(X_test, Y_test, verbose=2)\r\n",
        "score1=round(score[1]*100,2)\r\n",
        "print('Model Accuracy = ',round(score[1]*100,2))"
      ],
      "execution_count": 103,
      "outputs": [
        {
          "output_type": "stream",
          "text": [
            "Model: \"sequential_2\"\n",
            "_________________________________________________________________\n",
            "Layer (type)                 Output Shape              Param #   \n",
            "=================================================================\n",
            "dense_6 (Dense)              (None, 30)                420       \n",
            "_________________________________________________________________\n",
            "dropout_4 (Dropout)          (None, 30)                0         \n",
            "_________________________________________________________________\n",
            "dense_7 (Dense)              (None, 15)                465       \n",
            "_________________________________________________________________\n",
            "dropout_5 (Dropout)          (None, 15)                0         \n",
            "_________________________________________________________________\n",
            "dense_8 (Dense)              (None, 1)                 16        \n",
            "=================================================================\n",
            "Total params: 901\n",
            "Trainable params: 901\n",
            "Non-trainable params: 0\n",
            "_________________________________________________________________\n",
            "2/2 - 0s - loss: 0.3544 - accuracy: 0.8852\n",
            "Model Accuracy =  88.52\n"
          ],
          "name": "stdout"
        }
      ]
    },
    {
      "cell_type": "code",
      "metadata": {
        "_uuid": "101daa51242624c49bb8b3198d9d2c9f8f1c596e",
        "id": "zasBhL29ymHH",
        "colab": {
          "base_uri": "https://localhost:8080/"
        },
        "outputId": "d73d9440-87b4-4929-87a9-cd601501f8c3"
      },
      "source": [
        "s= [score_lr,score_nb,score_svm,score_knn,score_dt,score_rf,score_xgb,score1]\n",
        "a= [\"Logistic Regression\",\"Naive Bayes\",\"SVM\",\"KNN\",\"Decision Tree\",\"Random Forest\",\"XGBoost\",\"Keras Neural Network\"]    \n",
        "\n",
        "for i in range(len(a)):\n",
        "    print(\"Accuracy score of \"+a[i]+\" is: \"+str(s[i])+\" %\")"
      ],
      "execution_count": 104,
      "outputs": [
        {
          "output_type": "stream",
          "text": [
            "Accuracy score of Logistic Regression is: 85.25 %\n",
            "Accuracy score of Naive Bayes is: 85.25 %\n",
            "Accuracy score of SVM is: 81.97 %\n",
            "Accuracy score of KNN is: 67.21 %\n",
            "Accuracy score of Decision Tree is: 75.41 %\n",
            "Accuracy score of Random Forest is: 83.61 %\n",
            "Accuracy score of XGBoost is: 81.97 %\n",
            "Accuracy score of Keras Neural Network is: 88.52 %\n"
          ],
          "name": "stdout"
        }
      ]
    },
    {
      "cell_type": "code",
      "metadata": {
        "_uuid": "8060c7d426f9f7b64772f37e0a74ededca16838d",
        "id": "DUwIgsmUymHI",
        "colab": {
          "base_uri": "https://localhost:8080/",
          "height": 479
        },
        "outputId": "ab78cbc0-3c52-480c-ef1e-5c14321fd9d4"
      },
      "source": [
        "fig, ax = plt.subplots(1,1,figsize=(8,7))\n",
        "y_ticks = np.arange(0, 95, 7)\n",
        "fig.patch.set_facecolor('pink')\n",
        "plt.yticks(y_ticks)\n",
        "plt.xlabel(\"Algorithm\")\n",
        "plt.ylabel(\"Accuracy\")\n",
        "plt.xticks(rotation = 20)\n",
        "ax.grid(True)\n",
        "ax.bar(a,s)\n",
        "plt.show()"
      ],
      "execution_count": 154,
      "outputs": [
        {
          "output_type": "display_data",
          "data": {
            "image/png": "[encoded data removed]",
            "text/plain": [
              "<Figure size 576x504 with 1 Axes>"
            ]
          },
          "metadata": {
            "tags": []
          }
        }
      ]
    },
    {
      "cell_type": "code",
      "metadata": {
        "id": "puC_CeSX9E8i"
      },
      "source": [
        ""
      ],
      "execution_count": null,
      "outputs": []
    }
  ]
}